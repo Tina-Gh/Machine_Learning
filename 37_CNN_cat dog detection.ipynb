{
 "cells": [
  {
   "cell_type": "markdown",
   "metadata": {
    "colab_type": "text",
    "id": "3DR-eO17geWu"
   },
   "source": [
    "# Convolutional Neural Network"
   ]
  },
  {
   "cell_type": "markdown",
   "metadata": {
    "colab_type": "text",
    "id": "EMefrVPCg-60"
   },
   "source": [
    "### Importing the libraries"
   ]
  },
  {
   "cell_type": "code",
   "execution_count": 23,
   "metadata": {
    "colab": {},
    "colab_type": "code",
    "id": "sCV30xyVhFbE"
   },
   "outputs": [],
   "source": [
    "import tensorflow as tf\n",
    "from keras.preprocessing.image import ImageDataGenerator"
   ]
  },
  {
   "cell_type": "code",
   "execution_count": 24,
   "metadata": {
    "colab": {},
    "colab_type": "code",
    "id": "FIleuCAjoFD8"
   },
   "outputs": [
    {
     "data": {
      "text/plain": [
       "'2.1.0'"
      ]
     },
     "execution_count": 24,
     "metadata": {},
     "output_type": "execute_result"
    }
   ],
   "source": [
    "tf.__version__"
   ]
  },
  {
   "cell_type": "markdown",
   "metadata": {
    "colab_type": "text",
    "id": "oxQxCBWyoGPE"
   },
   "source": [
    "## Part 1 - Data Preprocessing"
   ]
  },
  {
   "cell_type": "markdown",
   "metadata": {
    "colab_type": "text",
    "id": "MvE-heJNo3GG"
   },
   "source": [
    "### Preprocessing the Training set"
   ]
  },
  {
   "cell_type": "code",
   "execution_count": 25,
   "metadata": {
    "colab": {},
    "colab_type": "code",
    "id": "0koUcJMJpEBD"
   },
   "outputs": [
    {
     "name": "stdout",
     "output_type": "stream",
     "text": [
      "Found 8000 images belonging to 2 classes.\n"
     ]
    }
   ],
   "source": [
    "# Increasing the images variety = Image Augmentation = In order not to let Over-learning happen! = from \"https://keras.io/api/preprocessing/image/\" datagenerator section!\n",
    "\n",
    "train_datagen = ImageDataGenerator(\n",
    "        rescale = 1./255, #on each pixel!\n",
    "        shear_range = 0.2,\n",
    "        zoom_range = 0.2,\n",
    "        horizontal_flip = True)\n",
    "\n",
    "training_set = train_datagen.flow_from_directory(\n",
    "        'dataset/training_set/',\n",
    "        target_size=(64, 64), #target_size=(150, 150): by experience this took too long to train. So we choose (64, 64).\n",
    "        batch_size=32,\n",
    "        class_mode='binary') #\"cat / dog\" -> so \"binary\"."
   ]
  },
  {
   "cell_type": "markdown",
   "metadata": {
    "colab_type": "text",
    "id": "mrCMmGw9pHys"
   },
   "source": [
    "### Preprocessing the Test set"
   ]
  },
  {
   "cell_type": "code",
   "execution_count": 26,
   "metadata": {
    "colab": {},
    "colab_type": "code",
    "id": "SH4WzfOhpKc3"
   },
   "outputs": [
    {
     "name": "stdout",
     "output_type": "stream",
     "text": [
      "Found 2000 images belonging to 2 classes.\n"
     ]
    }
   ],
   "source": [
    "test_datagen = ImageDataGenerator(rescale=1./255)\n",
    "\n",
    "test_set = test_datagen.flow_from_directory(\n",
    "        'dataset/test_set',\n",
    "        target_size=(64, 64), #should be the same as \"training_set\" above.\n",
    "        batch_size=32, #~\n",
    "        class_mode='binary') #~"
   ]
  },
  {
   "cell_type": "markdown",
   "metadata": {
    "colab_type": "text",
    "id": "af8O4l90gk7B"
   },
   "source": [
    "## Part 2 - Building the CNN"
   ]
  },
  {
   "cell_type": "markdown",
   "metadata": {
    "colab_type": "text",
    "id": "ces1gXY2lmoX"
   },
   "source": [
    "### Initialising the CNN"
   ]
  },
  {
   "cell_type": "code",
   "execution_count": 27,
   "metadata": {
    "colab": {},
    "colab_type": "code",
    "id": "SAUt4UMPlhLS"
   },
   "outputs": [],
   "source": [
    "from tensorflow.keras.models import Sequential\n",
    "\n",
    "cnn = Sequential()"
   ]
  },
  {
   "cell_type": "markdown",
   "metadata": {
    "colab_type": "text",
    "id": "u5YJj_XMl5LF"
   },
   "source": [
    "### Step 1 - Convolution"
   ]
  },
  {
   "cell_type": "code",
   "execution_count": 28,
   "metadata": {
    "colab": {},
    "colab_type": "code",
    "id": "XPzPrMckl-hV"
   },
   "outputs": [],
   "source": [
    "from tensorflow.keras.layers import Conv2D\n",
    "\n",
    "cnn.add(Conv2D(filters = 32, kernel_size = 3, activation = 'relu', input_shape = (64, 64, 3)))\n",
    "#A famous and classic CNN architecture has \"filters = 32\" for the first convolutional layer. And then a \"filters = 32\" for the second Convolutional layer!\n",
    "#input_shape = (64, 64, 3): Since we have chosen \"target_size=(64, 64)\" above, we have to specify the input shape as I did. And if the images were black and white, then \"input_shape = (64, 64, 1)\"."
   ]
  },
  {
   "cell_type": "markdown",
   "metadata": {
    "colab_type": "text",
    "id": "tf87FpvxmNOJ"
   },
   "source": [
    "### Step 2 - Pooling"
   ]
  },
  {
   "cell_type": "code",
   "execution_count": 29,
   "metadata": {
    "colab": {},
    "colab_type": "code",
    "id": "ncpqPl69mOac"
   },
   "outputs": [],
   "source": [
    "from tensorflow.keras.layers import MaxPool2D\n",
    "\n",
    "cnn.add(MaxPool2D(pool_size = (2, 2), strides = 2, padding = 'valid'))\n",
    "#pool_size=(2, 2): recomended to choose (2, 2)! (or just \" = 2\")\n",
    "#strides = 2: recomended to choose 2!"
   ]
  },
  {
   "cell_type": "markdown",
   "metadata": {
    "colab_type": "text",
    "id": "xaTOgD8rm4mU"
   },
   "source": [
    "### Adding a second convolutional layer"
   ]
  },
  {
   "cell_type": "code",
   "execution_count": 30,
   "metadata": {
    "colab": {},
    "colab_type": "code",
    "id": "i_-FZjn_m8gk"
   },
   "outputs": [],
   "source": [
    "cnn.add(Conv2D(filters = 32, kernel_size = 3, activation = 'relu')) #no need to specify \"input_shape\". Since it is only used for the first layer.\n",
    "cnn.add(MaxPool2D(pool_size = (2, 2), strides = 2, padding = 'valid'))"
   ]
  },
  {
   "cell_type": "markdown",
   "metadata": {
    "colab_type": "text",
    "id": "tmiEuvTunKfk"
   },
   "source": [
    "### Step 3 - Flattening"
   ]
  },
  {
   "cell_type": "code",
   "execution_count": 31,
   "metadata": {
    "colab": {},
    "colab_type": "code",
    "id": "6AZeOGCvnNZn"
   },
   "outputs": [],
   "source": [
    "from tensorflow.keras.layers import Flatten\n",
    "\n",
    "cnn.add(Flatten()) #no hyperparameters!"
   ]
  },
  {
   "cell_type": "markdown",
   "metadata": {
    "colab_type": "text",
    "id": "dAoSECOm203v"
   },
   "source": [
    "### Step 4 - Full Connection"
   ]
  },
  {
   "cell_type": "code",
   "execution_count": 32,
   "metadata": {
    "colab": {},
    "colab_type": "code",
    "id": "8GtmUlLd26Nq"
   },
   "outputs": [],
   "source": [
    "from tensorflow.keras.layers import Dense\n",
    "\n",
    "cnn.add(Dense(units = 128, activation = 'relu'))\n",
    "#As far as you have NOT reached the output layer, it is recomended to choses \"activation = 'relu'\", which is the rect function."
   ]
  },
  {
   "cell_type": "markdown",
   "metadata": {
    "colab_type": "text",
    "id": "yTldFvbX28Na"
   },
   "source": [
    "### Step 5 - Output Layer"
   ]
  },
  {
   "cell_type": "code",
   "execution_count": 33,
   "metadata": {
    "colab": {},
    "colab_type": "code",
    "id": "1p_Zj1Mc3Ko_"
   },
   "outputs": [],
   "source": [
    "cnn.add(Dense(units = 1, activation = 'sigmoid'))\n",
    "#units = 1: since we have binary classification (Cat / dog).\n",
    "#activation = 'sigmoid': Since we have binary classification (dog / cat). If it was multiple classification, we HAD TO use \"softmax\"."
   ]
  },
  {
   "cell_type": "markdown",
   "metadata": {
    "colab_type": "text",
    "id": "D6XkI90snSDl"
   },
   "source": [
    "## Part 3 - Training the CNN"
   ]
  },
  {
   "cell_type": "markdown",
   "metadata": {
    "colab_type": "text",
    "id": "vfrFQACEnc6i"
   },
   "source": [
    "### Compiling the CNN"
   ]
  },
  {
   "cell_type": "code",
   "execution_count": 34,
   "metadata": {
    "colab": {},
    "colab_type": "code",
    "id": "NALksrNQpUlJ"
   },
   "outputs": [],
   "source": [
    "cnn.compile(optimizer = 'adam', loss = 'binary_crossentropy', metrics = ['accuracy'])\n",
    "#loss = 'binary_crossentropy': since we have binary classification (Cat / dog). If it was multiple classification, we HAD TO use \"categorical_crossentropy\"."
   ]
  },
  {
   "cell_type": "markdown",
   "metadata": {
    "colab_type": "text",
    "id": "ehS-v3MIpX2h"
   },
   "source": [
    "### Training the CNN on the Training set and evaluating it on the Test set"
   ]
  },
  {
   "cell_type": "code",
   "execution_count": 35,
   "metadata": {
    "colab": {},
    "colab_type": "code",
    "id": "XUj1W4PJptta"
   },
   "outputs": [
    {
     "name": "stdout",
     "output_type": "stream",
     "text": [
      "WARNING:tensorflow:sample_weight modes were coerced from\n",
      "  ...\n",
      "    to  \n",
      "  ['...']\n",
      "WARNING:tensorflow:sample_weight modes were coerced from\n",
      "  ...\n",
      "    to  \n",
      "  ['...']\n",
      "Train for 250 steps, validate for 63 steps\n",
      "Epoch 1/25\n",
      "250/250 [==============================] - 157s 629ms/step - loss: 0.6869 - accuracy: 0.5584 - val_loss: 0.6464 - val_accuracy: 0.6415\n",
      "Epoch 2/25\n",
      "250/250 [==============================] - 81s 323ms/step - loss: 0.6315 - accuracy: 0.6524 - val_loss: 0.6296 - val_accuracy: 0.6540\n",
      "Epoch 3/25\n",
      "250/250 [==============================] - 63s 252ms/step - loss: 0.5849 - accuracy: 0.6895 - val_loss: 0.5604 - val_accuracy: 0.7095\n",
      "Epoch 4/25\n",
      "250/250 [==============================] - 73s 291ms/step - loss: 0.5449 - accuracy: 0.7225 - val_loss: 0.5256 - val_accuracy: 0.7435\n",
      "Epoch 5/25\n",
      "250/250 [==============================] - 67s 267ms/step - loss: 0.5220 - accuracy: 0.7406 - val_loss: 0.5107 - val_accuracy: 0.7490\n",
      "Epoch 6/25\n",
      "250/250 [==============================] - 70s 281ms/step - loss: 0.4895 - accuracy: 0.7584 - val_loss: 0.4938 - val_accuracy: 0.7615\n",
      "Epoch 7/25\n",
      "250/250 [==============================] - 69s 275ms/step - loss: 0.4717 - accuracy: 0.7734 - val_loss: 0.4870 - val_accuracy: 0.7700\n",
      "Epoch 8/25\n",
      "250/250 [==============================] - 95s 379ms/step - loss: 0.4520 - accuracy: 0.7850 - val_loss: 0.4888 - val_accuracy: 0.7720\n",
      "Epoch 9/25\n",
      "250/250 [==============================] - 89s 355ms/step - loss: 0.4339 - accuracy: 0.7951 - val_loss: 0.5153 - val_accuracy: 0.7700\n",
      "Epoch 10/25\n",
      "250/250 [==============================] - 76s 305ms/step - loss: 0.4266 - accuracy: 0.8012 - val_loss: 0.5280 - val_accuracy: 0.7590\n",
      "Epoch 11/25\n",
      "250/250 [==============================] - 66s 266ms/step - loss: 0.4142 - accuracy: 0.8095 - val_loss: 0.4693 - val_accuracy: 0.7860\n",
      "Epoch 12/25\n",
      "250/250 [==============================] - 78s 312ms/step - loss: 0.3902 - accuracy: 0.8201 - val_loss: 0.4752 - val_accuracy: 0.7825\n",
      "Epoch 13/25\n",
      "250/250 [==============================] - 70s 281ms/step - loss: 0.3811 - accuracy: 0.8299 - val_loss: 0.4828 - val_accuracy: 0.7855\n",
      "Epoch 14/25\n",
      "250/250 [==============================] - 68s 271ms/step - loss: 0.3606 - accuracy: 0.8415 - val_loss: 0.4623 - val_accuracy: 0.8025\n",
      "Epoch 15/25\n",
      "250/250 [==============================] - 64s 258ms/step - loss: 0.3499 - accuracy: 0.8421 - val_loss: 0.4647 - val_accuracy: 0.8025\n",
      "Epoch 16/25\n",
      "250/250 [==============================] - 70s 281ms/step - loss: 0.3399 - accuracy: 0.8525 - val_loss: 0.4876 - val_accuracy: 0.7975\n",
      "Epoch 17/25\n",
      "250/250 [==============================] - 67s 269ms/step - loss: 0.3235 - accuracy: 0.8618 - val_loss: 0.4680 - val_accuracy: 0.7965\n",
      "Epoch 18/25\n",
      "250/250 [==============================] - 61s 242ms/step - loss: 0.3073 - accuracy: 0.8686 - val_loss: 0.5637 - val_accuracy: 0.7675\n",
      "Epoch 19/25\n",
      "250/250 [==============================] - 62s 250ms/step - loss: 0.2921 - accuracy: 0.8763 - val_loss: 0.5984 - val_accuracy: 0.7620\n",
      "Epoch 20/25\n",
      "250/250 [==============================] - 59s 235ms/step - loss: 0.2883 - accuracy: 0.8801 - val_loss: 0.5169 - val_accuracy: 0.7925\n",
      "Epoch 21/25\n",
      "250/250 [==============================] - 71s 285ms/step - loss: 0.2638 - accuracy: 0.8895 - val_loss: 0.5542 - val_accuracy: 0.7905\n",
      "Epoch 22/25\n",
      "250/250 [==============================] - 68s 271ms/step - loss: 0.2548 - accuracy: 0.8963 - val_loss: 0.5466 - val_accuracy: 0.7965\n",
      "Epoch 23/25\n",
      "250/250 [==============================] - 67s 268ms/step - loss: 0.2425 - accuracy: 0.9007 - val_loss: 0.5290 - val_accuracy: 0.7980\n",
      "Epoch 24/25\n",
      "250/250 [==============================] - 68s 271ms/step - loss: 0.2299 - accuracy: 0.9071 - val_loss: 0.5712 - val_accuracy: 0.7780\n",
      "Epoch 25/25\n",
      "250/250 [==============================] - 72s 288ms/step - loss: 0.2206 - accuracy: 0.9090 - val_loss: 0.5526 - val_accuracy: 0.7840\n"
     ]
    },
    {
     "data": {
      "text/plain": [
       "<tensorflow.python.keras.callbacks.History at 0x2370344df88>"
      ]
     },
     "execution_count": 35,
     "metadata": {},
     "output_type": "execute_result"
    }
   ],
   "source": [
    "cnn.fit(x = training_set, validation_data = test_set, epochs = 25)\n",
    "#epochs = 25: should be an amount which finalyy converges."
   ]
  },
  {
   "cell_type": "markdown",
   "metadata": {
    "colab_type": "text",
    "id": "U3PZasO0006Z"
   },
   "source": [
    "## Part 4 - Making a single prediction"
   ]
  },
  {
   "cell_type": "code",
   "execution_count": 37,
   "metadata": {
    "colab": {},
    "colab_type": "code",
    "id": "gsSiWEJY1BPB"
   },
   "outputs": [],
   "source": [
    "import numpy as np\n",
    "from keras.preprocessing.image import load_img #all from \"https://keras.io/api/preprocessing/image/\"\n",
    "from keras.preprocessing.image import img_to_array\n",
    "\n",
    "single_test_image = load_img(path = 'dataset/single_prediction/cat_or_dog_1.jpg', target_size = (64, 64))\n",
    "single_test_image = img_to_array(single_test_image) #converts an image to a numpy format!\n",
    "single_test_image = np.expand_dims(single_test_image, axis = 0) #because we used \"batch\" (\"batch_size = 32\"), then we HAVE TO reshape it in a way that an extra dimension for the batch size is added to the \"single_test_image\". And \"axis = 0\" means that this new dimension is the 0 or the first dimension.\n",
    "\n",
    "result = cnn.predict(single_test_image)\n",
    "\n",
    "#encoding the output: (dog:1, cat:0)\n",
    "training_set.class_indices #!!!\n",
    "\n",
    "if result[0][0] == 1:\n",
    "    prediction = 'dog'\n",
    "else:\n",
    "    prediction = 'cat'"
   ]
  },
  {
   "cell_type": "code",
   "execution_count": 38,
   "metadata": {
    "colab": {},
    "colab_type": "code",
    "id": "ED9KB3I54c1i"
   },
   "outputs": [
    {
     "name": "stdout",
     "output_type": "stream",
     "text": [
      "dog\n"
     ]
    }
   ],
   "source": [
    "print(prediction)"
   ]
  },
  {
   "cell_type": "code",
   "execution_count": null,
   "metadata": {},
   "outputs": [],
   "source": [
    "#So it predicted the 'dog' correctly!! The total accuracy as read by the last epoch is \"90%\"!"
   ]
  },
  {
   "cell_type": "code",
   "execution_count": 39,
   "metadata": {},
   "outputs": [],
   "source": [
    "#Now, a random dog image from the test set, for instance: 4689. So we have to copy and paste this image in the (dataset/single_prediction) folder.\n",
    "\n",
    "single_test_image = load_img(path = 'dataset/single_prediction/dog.4689.jpg', target_size = (64, 64))\n",
    "single_test_image = img_to_array(single_test_image)\n",
    "single_test_image = np.expand_dims(single_test_image, axis = 0)\n",
    "\n",
    "result = cnn.predict(single_test_image)\n",
    "\n",
    "training_set.class_indices #!!!\n",
    "\n",
    "if result[0][0] == 1:\n",
    "    prediction = 'dog'\n",
    "else:\n",
    "    prediction = 'cat'"
   ]
  },
  {
   "cell_type": "code",
   "execution_count": 40,
   "metadata": {},
   "outputs": [
    {
     "name": "stdout",
     "output_type": "stream",
     "text": [
      "dog\n"
     ]
    }
   ],
   "source": [
    "print(prediction)"
   ]
  },
  {
   "cell_type": "code",
   "execution_count": null,
   "metadata": {},
   "outputs": [],
   "source": [
    "#So it predicted correctly again!"
   ]
  },
  {
   "cell_type": "code",
   "execution_count": 45,
   "metadata": {},
   "outputs": [],
   "source": [
    "#Now, a random cat image from the test set, for instance: 4538. So we have to copy and paste this image in the (dataset/single_prediction) folder.\n",
    "\n",
    "single_test_image = load_img(path = 'dataset/single_prediction/cat.4538.jpg', target_size = (64, 64))\n",
    "single_test_image = img_to_array(single_test_image)\n",
    "single_test_image = np.expand_dims(single_test_image, axis = 0)\n",
    "\n",
    "result = cnn.predict(single_test_image)\n",
    "\n",
    "training_set.class_indices\n",
    "\n",
    "if result[0][0] == 1:\n",
    "    prediction = 'dog'\n",
    "else:\n",
    "    prediction = 'cat'"
   ]
  },
  {
   "cell_type": "code",
   "execution_count": 46,
   "metadata": {},
   "outputs": [
    {
     "name": "stdout",
     "output_type": "stream",
     "text": [
      "dog\n"
     ]
    }
   ],
   "source": [
    "print(prediction)"
   ]
  },
  {
   "cell_type": "code",
   "execution_count": null,
   "metadata": {},
   "outputs": [],
   "source": [
    "#Unfortunately this time the model could not preduct correctly!"
   ]
  }
 ],
 "metadata": {
  "colab": {
   "collapsed_sections": [],
   "name": "convolutional_neural_network.ipynb",
   "provenance": [],
   "toc_visible": true
  },
  "kernelspec": {
   "display_name": "Python 3",
   "language": "python",
   "name": "python3"
  },
  "language_info": {
   "codemirror_mode": {
    "name": "ipython",
    "version": 3
   },
   "file_extension": ".py",
   "mimetype": "text/x-python",
   "name": "python",
   "nbconvert_exporter": "python",
   "pygments_lexer": "ipython3",
   "version": "3.7.4"
  }
 },
 "nbformat": 4,
 "nbformat_minor": 1
}
