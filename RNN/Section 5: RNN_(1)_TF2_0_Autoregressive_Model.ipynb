{
  "nbformat": 4,
  "nbformat_minor": 0,
  "metadata": {
    "colab": {
      "name": "TF2.0 Autoregressive Model.ipynb",
      "provenance": [],
      "collapsed_sections": [],
      "include_colab_link": true
    },
    "kernelspec": {
      "name": "python3",
      "display_name": "Python 3"
    }
  },
  "cells": [
    {
      "cell_type": "markdown",
      "metadata": {
        "id": "view-in-github",
        "colab_type": "text"
      },
      "source": [
        "<a href=\"https://colab.research.google.com/github/Tina-Gh/Machine_Learning/blob/master/RNN/Section%205%3A%20RNN_(1)_TF2_0_Autoregressive_Model.ipynb\" target=\"_parent\"><img src=\"https://colab.research.google.com/assets/colab-badge.svg\" alt=\"Open In Colab\"/></a>"
      ]
    },
    {
      "cell_type": "code",
      "metadata": {
        "id": "WJykK-B_rnbw",
        "colab": {
          "base_uri": "https://localhost:8080/",
          "height": 119
        },
        "outputId": "21a203e4-7daf-4a98-cbc1-9d70da3190b7"
      },
      "source": [
        "# Install TensorFlow\n",
        "# !pip install -q tensorflow-gpu==2.0.0-beta1\n",
        "\n",
        "try:\n",
        "  %tensorflow_version 2.x  # Colab only.\n",
        "except Exception:\n",
        "  pass\n",
        "\n",
        "import tensorflow as tf\n",
        "print(tf.__version__)"
      ],
      "execution_count": null,
      "outputs": [
        {
          "output_type": "stream",
          "text": [
            "`%tensorflow_version` only switches the major version: `1.x` or `2.x`.\n",
            "You set: `2.x  # Colab only.`. This will be interpreted as: `2.x`.\n",
            "\n",
            "\n",
            "TensorFlow 2.x selected.\n",
            "2.1.0-rc1\n"
          ],
          "name": "stdout"
        }
      ]
    },
    {
      "cell_type": "code",
      "metadata": {
        "id": "DkR-FgUGrt3f"
      },
      "source": [
        "from tensorflow.keras.layers import Input, Dense\n",
        "from tensorflow.keras.models import Model\n",
        "from tensorflow.keras.optimizers import SGD, Adam\n",
        "\n",
        "import numpy as np\n",
        "import pandas as pd\n",
        "import matplotlib.pyplot as plt"
      ],
      "execution_count": null,
      "outputs": []
    },
    {
      "cell_type": "code",
      "metadata": {
        "id": "NBgpKjxXsBZn",
        "colab": {
          "base_uri": "https://localhost:8080/",
          "height": 265
        },
        "outputId": "f5026231-3dec-4517-d6bc-3de52d85b707"
      },
      "source": [
        "# make the original data\n",
        "series = np.sin(0.1*np.arange(200)) #+ np.random.randn(200)*0.1\n",
        "\n",
        "# plot it\n",
        "plt.plot(series)\n",
        "plt.show()"
      ],
      "execution_count": null,
      "outputs": [
        {
          "output_type": "display_data",
          "data": {
            "image/png": "[encoded data removed]",
            "text/plain": [
              "<Figure size 432x288 with 1 Axes>"
            ]
          },
          "metadata": {
            "tags": []
          }
        }
      ]
    },
    {
      "cell_type": "code",
      "metadata": {
        "id": "qnR4MAM9sGF1",
        "colab": {
          "base_uri": "https://localhost:8080/",
          "height": 34
        },
        "outputId": "910194bc-9e2d-4c49-8e2b-bc16ed4723ea"
      },
      "source": [
        "### build the dataset\n",
        "# let's see if we can use T past values to predict the next value\n",
        "T = 10\n",
        "X = []\n",
        "Y = []\n",
        "for t in range(len(series) - T):\n",
        "  x = series[t:t+T]\n",
        "  X.append(x)\n",
        "  y = series[t+T]\n",
        "  Y.append(y)\n",
        "\n",
        "X = np.array(X).reshape(-1, T)\n",
        "Y = np.array(Y)\n",
        "N = len(X)\n",
        "print(\"X.shape\", X.shape, \"Y.shape\", Y.shape)"
      ],
      "execution_count": null,
      "outputs": [
        {
          "output_type": "stream",
          "text": [
            "X.shape (190, 10) Y.shape (190,)\n"
          ],
          "name": "stdout"
        }
      ]
    },
    {
      "cell_type": "code",
      "metadata": {
        "id": "EESqey3TsODi",
        "colab": {
          "base_uri": "https://localhost:8080/",
          "height": 1000
        },
        "outputId": "6a78666e-2dfd-4808-95be-c4123c799fce"
      },
      "source": [
        "### try autoregressive linear model\n",
        "i = Input(shape=(T,))\n",
        "x = Dense(1)(i)\n",
        "model = Model(i, x)\n",
        "model.compile(\n",
        "  loss='mse',\n",
        "  optimizer=Adam(lr=0.1),\n",
        ")\n",
        "\n",
        "# train the RNN\n",
        "r = model.fit(\n",
        "  X[:-N//2], Y[:-N//2],\n",
        "  epochs=80,\n",
        "  validation_data=(X[-N//2:], Y[-N//2:]),\n",
        ")"
      ],
      "execution_count": null,
      "outputs": [
        {
          "output_type": "stream",
          "text": [
            "Train on 95 samples, validate on 95 samples\n",
            "Epoch 1/80\n",
            "95/95 [==============================] - 1s 6ms/sample - loss: 0.5928 - val_loss: 0.4919\n",
            "Epoch 2/80\n",
            "95/95 [==============================] - 0s 164us/sample - loss: 0.3797 - val_loss: 0.1337\n",
            "Epoch 3/80\n",
            "95/95 [==============================] - 0s 266us/sample - loss: 0.1297 - val_loss: 0.1125\n",
            "Epoch 4/80\n",
            "95/95 [==============================] - 0s 186us/sample - loss: 0.0874 - val_loss: 0.0243\n",
            "Epoch 5/80\n",
            "95/95 [==============================] - 0s 180us/sample - loss: 0.0316 - val_loss: 0.0582\n",
            "Epoch 6/80\n",
            "95/95 [==============================] - 0s 205us/sample - loss: 0.0388 - val_loss: 0.0208\n",
            "Epoch 7/80\n",
            "95/95 [==============================] - 0s 173us/sample - loss: 0.0353 - val_loss: 0.0687\n",
            "Epoch 8/80\n",
            "95/95 [==============================] - 0s 186us/sample - loss: 0.0416 - val_loss: 0.0304\n",
            "Epoch 9/80\n",
            "95/95 [==============================] - 0s 170us/sample - loss: 0.0305 - val_loss: 0.0277\n",
            "Epoch 10/80\n",
            "95/95 [==============================] - 0s 219us/sample - loss: 0.0195 - val_loss: 0.0061\n",
            "Epoch 11/80\n",
            "95/95 [==============================] - 0s 187us/sample - loss: 0.0101 - val_loss: 0.0063\n",
            "Epoch 12/80\n",
            "95/95 [==============================] - 0s 184us/sample - loss: 0.0045 - val_loss: 0.0042\n",
            "Epoch 13/80\n",
            "95/95 [==============================] - 0s 171us/sample - loss: 0.0056 - val_loss: 0.0061\n",
            "Epoch 14/80\n",
            "95/95 [==============================] - 0s 180us/sample - loss: 0.0038 - val_loss: 0.0053\n",
            "Epoch 15/80\n",
            "95/95 [==============================] - 0s 180us/sample - loss: 0.0058 - val_loss: 0.0037\n",
            "Epoch 16/80\n",
            "95/95 [==============================] - 0s 207us/sample - loss: 0.0033 - val_loss: 0.0032\n",
            "Epoch 17/80\n",
            "95/95 [==============================] - 0s 182us/sample - loss: 0.0026 - val_loss: 4.2511e-04\n",
            "Epoch 18/80\n",
            "95/95 [==============================] - 0s 179us/sample - loss: 7.7209e-04 - val_loss: 7.0560e-04\n",
            "Epoch 19/80\n",
            "95/95 [==============================] - 0s 204us/sample - loss: 5.4705e-04 - val_loss: 6.5394e-04\n",
            "Epoch 20/80\n",
            "95/95 [==============================] - 0s 181us/sample - loss: 9.3594e-04 - val_loss: 6.7224e-04\n",
            "Epoch 21/80\n",
            "95/95 [==============================] - 0s 169us/sample - loss: 5.9015e-04 - val_loss: 0.0013\n",
            "Epoch 22/80\n",
            "95/95 [==============================] - 0s 205us/sample - loss: 8.0676e-04 - val_loss: 5.2523e-04\n",
            "Epoch 23/80\n",
            "95/95 [==============================] - 0s 224us/sample - loss: 3.5637e-04 - val_loss: 2.0870e-04\n",
            "Epoch 24/80\n",
            "95/95 [==============================] - 0s 235us/sample - loss: 1.0215e-04 - val_loss: 5.3742e-05\n",
            "Epoch 25/80\n",
            "95/95 [==============================] - 0s 214us/sample - loss: 1.1322e-04 - val_loss: 8.9134e-05\n",
            "Epoch 26/80\n",
            "95/95 [==============================] - 0s 174us/sample - loss: 1.1851e-04 - val_loss: 2.4181e-04\n",
            "Epoch 27/80\n",
            "95/95 [==============================] - 0s 169us/sample - loss: 1.2587e-04 - val_loss: 9.3724e-05\n",
            "Epoch 28/80\n",
            "95/95 [==============================] - 0s 146us/sample - loss: 9.6006e-05 - val_loss: 4.7208e-05\n",
            "Epoch 29/80\n",
            "95/95 [==============================] - 0s 186us/sample - loss: 3.7994e-05 - val_loss: 2.2043e-05\n",
            "Epoch 30/80\n",
            "95/95 [==============================] - 0s 171us/sample - loss: 1.7351e-05 - val_loss: 8.1480e-06\n",
            "Epoch 31/80\n",
            "95/95 [==============================] - 0s 198us/sample - loss: 1.8036e-05 - val_loss: 1.2440e-05\n",
            "Epoch 32/80\n",
            "95/95 [==============================] - 0s 180us/sample - loss: 1.9975e-05 - val_loss: 2.8459e-05\n",
            "Epoch 33/80\n",
            "95/95 [==============================] - 0s 242us/sample - loss: 1.9230e-05 - val_loss: 1.5293e-05\n",
            "Epoch 34/80\n",
            "95/95 [==============================] - 0s 172us/sample - loss: 1.2585e-05 - val_loss: 6.7560e-06\n",
            "Epoch 35/80\n",
            "95/95 [==============================] - 0s 219us/sample - loss: 4.1914e-06 - val_loss: 3.5701e-06\n",
            "Epoch 36/80\n",
            "95/95 [==============================] - 0s 171us/sample - loss: 3.0705e-06 - val_loss: 3.9625e-06\n",
            "Epoch 37/80\n",
            "95/95 [==============================] - 0s 176us/sample - loss: 4.9658e-06 - val_loss: 4.9225e-06\n",
            "Epoch 38/80\n",
            "95/95 [==============================] - 0s 194us/sample - loss: 4.6270e-06 - val_loss: 3.9518e-06\n",
            "Epoch 39/80\n",
            "95/95 [==============================] - 0s 180us/sample - loss: 2.0241e-06 - val_loss: 1.9492e-06\n",
            "Epoch 40/80\n",
            "95/95 [==============================] - 0s 228us/sample - loss: 1.1528e-06 - val_loss: 7.1516e-07\n",
            "Epoch 41/80\n",
            "95/95 [==============================] - 0s 195us/sample - loss: 1.2629e-06 - val_loss: 7.8588e-07\n",
            "Epoch 42/80\n",
            "95/95 [==============================] - 0s 217us/sample - loss: 1.2023e-06 - val_loss: 8.7311e-07\n",
            "Epoch 43/80\n",
            "95/95 [==============================] - 0s 159us/sample - loss: 8.9838e-07 - val_loss: 1.4360e-06\n",
            "Epoch 44/80\n",
            "95/95 [==============================] - 0s 191us/sample - loss: 7.9823e-07 - val_loss: 4.8116e-07\n",
            "Epoch 45/80\n",
            "95/95 [==============================] - 0s 176us/sample - loss: 4.4251e-07 - val_loss: 4.6078e-08\n",
            "Epoch 46/80\n",
            "95/95 [==============================] - 0s 191us/sample - loss: 2.9620e-07 - val_loss: 1.3887e-07\n",
            "Epoch 47/80\n",
            "95/95 [==============================] - 0s 227us/sample - loss: 2.5926e-07 - val_loss: 2.5561e-07\n",
            "Epoch 48/80\n",
            "95/95 [==============================] - 0s 159us/sample - loss: 2.0303e-07 - val_loss: 3.1984e-07\n",
            "Epoch 49/80\n",
            "95/95 [==============================] - 0s 223us/sample - loss: 1.3438e-07 - val_loss: 2.8710e-08\n",
            "Epoch 50/80\n",
            "95/95 [==============================] - 0s 180us/sample - loss: 6.0148e-08 - val_loss: 2.4986e-08\n",
            "Epoch 51/80\n",
            "95/95 [==============================] - 0s 186us/sample - loss: 6.0143e-08 - val_loss: 4.7983e-08\n",
            "Epoch 52/80\n",
            "95/95 [==============================] - 0s 209us/sample - loss: 5.0851e-08 - val_loss: 5.6664e-08\n",
            "Epoch 53/80\n",
            "95/95 [==============================] - 0s 208us/sample - loss: 3.9499e-08 - val_loss: 5.2733e-08\n",
            "Epoch 54/80\n",
            "95/95 [==============================] - 0s 167us/sample - loss: 2.6937e-08 - val_loss: 8.6147e-09\n",
            "Epoch 55/80\n",
            "95/95 [==============================] - 0s 197us/sample - loss: 1.8057e-08 - val_loss: 3.7212e-09\n",
            "Epoch 56/80\n",
            "95/95 [==============================] - 0s 196us/sample - loss: 1.7351e-08 - val_loss: 9.4838e-09\n",
            "Epoch 57/80\n",
            "95/95 [==============================] - 0s 188us/sample - loss: 1.4201e-08 - val_loss: 1.2931e-08\n",
            "Epoch 58/80\n",
            "95/95 [==============================] - 0s 284us/sample - loss: 7.6740e-09 - val_loss: 1.9589e-08\n",
            "Epoch 59/80\n",
            "95/95 [==============================] - 0s 215us/sample - loss: 8.0834e-09 - val_loss: 3.3542e-09\n",
            "Epoch 60/80\n",
            "95/95 [==============================] - 0s 162us/sample - loss: 4.9637e-09 - val_loss: 2.0916e-09\n",
            "Epoch 61/80\n",
            "95/95 [==============================] - 0s 247us/sample - loss: 4.2822e-09 - val_loss: 2.6194e-09\n",
            "Epoch 62/80\n",
            "95/95 [==============================] - 0s 216us/sample - loss: 3.0952e-09 - val_loss: 2.4419e-09\n",
            "Epoch 63/80\n",
            "95/95 [==============================] - 0s 209us/sample - loss: 1.4149e-09 - val_loss: 3.5520e-09\n",
            "Epoch 64/80\n",
            "95/95 [==============================] - 0s 179us/sample - loss: 1.5010e-09 - val_loss: 1.6126e-09\n",
            "Epoch 65/80\n",
            "95/95 [==============================] - 0s 182us/sample - loss: 1.5736e-09 - val_loss: 1.0080e-09\n",
            "Epoch 66/80\n",
            "95/95 [==============================] - 0s 172us/sample - loss: 1.6310e-09 - val_loss: 5.8007e-10\n",
            "Epoch 67/80\n",
            "95/95 [==============================] - 0s 266us/sample - loss: 1.0262e-09 - val_loss: 7.7888e-11\n",
            "Epoch 68/80\n",
            "95/95 [==============================] - 0s 203us/sample - loss: 5.2353e-10 - val_loss: 2.4929e-10\n",
            "Epoch 69/80\n",
            "95/95 [==============================] - 0s 191us/sample - loss: 2.6591e-10 - val_loss: 3.0532e-10\n",
            "Epoch 70/80\n",
            "95/95 [==============================] - 0s 202us/sample - loss: 2.9230e-10 - val_loss: 3.4441e-10\n",
            "Epoch 71/80\n",
            "95/95 [==============================] - 0s 171us/sample - loss: 2.6945e-10 - val_loss: 3.9480e-10\n",
            "Epoch 72/80\n",
            "95/95 [==============================] - 0s 176us/sample - loss: 1.6047e-10 - val_loss: 2.6156e-10\n",
            "Epoch 73/80\n",
            "95/95 [==============================] - 0s 162us/sample - loss: 1.3762e-10 - val_loss: 7.6606e-11\n",
            "Epoch 74/80\n",
            "95/95 [==============================] - 0s 189us/sample - loss: 1.1569e-10 - val_loss: 3.6307e-11\n",
            "Epoch 75/80\n",
            "95/95 [==============================] - 0s 183us/sample - loss: 8.6744e-11 - val_loss: 2.3215e-11\n",
            "Epoch 76/80\n",
            "95/95 [==============================] - 0s 179us/sample - loss: 5.2023e-11 - val_loss: 1.7341e-11\n",
            "Epoch 77/80\n",
            "95/95 [==============================] - 0s 196us/sample - loss: 2.9296e-11 - val_loss: 4.5361e-11\n",
            "Epoch 78/80\n",
            "95/95 [==============================] - 0s 216us/sample - loss: 2.8942e-11 - val_loss: 3.2065e-11\n",
            "Epoch 79/80\n",
            "95/95 [==============================] - 0s 188us/sample - loss: 2.5990e-11 - val_loss: 2.9623e-11\n",
            "Epoch 80/80\n",
            "95/95 [==============================] - 0s 213us/sample - loss: 1.8977e-11 - val_loss: 3.0598e-11\n"
          ],
          "name": "stdout"
        }
      ]
    },
    {
      "cell_type": "code",
      "metadata": {
        "id": "2BA0rLqrsw7i",
        "colab": {
          "base_uri": "https://localhost:8080/",
          "height": 282
        },
        "outputId": "3cb4fe21-fd26-4979-8b92-764ea3cdc2e4"
      },
      "source": [
        "# Plot loss per iteration\n",
        "import matplotlib.pyplot as plt\n",
        "plt.plot(r.history['loss'], label='loss')\n",
        "plt.plot(r.history['val_loss'], label='val_loss')\n",
        "plt.legend()"
      ],
      "execution_count": null,
      "outputs": [
        {
          "output_type": "execute_result",
          "data": {
            "text/plain": [
              "<matplotlib.legend.Legend at 0x7f64d4fa0278>"
            ]
          },
          "metadata": {
            "tags": []
          },
          "execution_count": 6
        },
        {
          "output_type": "display_data",
          "data": {
            "image/png": "[encoded data removed]",
            "text/plain": [
              "<Figure size 432x288 with 1 Axes>"
            ]
          },
          "metadata": {
            "tags": []
          }
        }
      ]
    },
    {
      "cell_type": "code",
      "metadata": {
        "id": "DyyEx1Gx4Q7t"
      },
      "source": [
        "# \"Wrong\" forecast using true targets\n",
        "\n",
        "validation_target = Y[-N//2:]\n",
        "validation_predictions = []\n",
        "\n",
        "# index of first validation input\n",
        "i = -N//2\n",
        "\n",
        "while len(validation_predictions) < len(validation_target):\n",
        "  p = model.predict(X[i].reshape(1, -1))[0,0] # 1x1 array -> scalar\n",
        "  i += 1\n",
        "  \n",
        "  # update the predictions list\n",
        "  validation_predictions.append(p)"
      ],
      "execution_count": null,
      "outputs": []
    },
    {
      "cell_type": "code",
      "metadata": {
        "id": "hb18Dr0O4ec9",
        "colab": {
          "base_uri": "https://localhost:8080/",
          "height": 282
        },
        "outputId": "42ab7683-fac0-4760-ea83-5f558e426781"
      },
      "source": [
        "plt.plot(validation_target, label='forecast target')\n",
        "plt.plot(validation_predictions, label='forecast prediction')\n",
        "plt.legend()"
      ],
      "execution_count": null,
      "outputs": [
        {
          "output_type": "execute_result",
          "data": {
            "text/plain": [
              "<matplotlib.legend.Legend at 0x7f64d79f8f98>"
            ]
          },
          "metadata": {
            "tags": []
          },
          "execution_count": 8
        },
        {
          "output_type": "display_data",
          "data": {
            "image/png": "[encoded data removed]",
            "text/plain": [
              "<Figure size 432x288 with 1 Axes>"
            ]
          },
          "metadata": {
            "tags": []
          }
        }
      ]
    },
    {
      "cell_type": "code",
      "metadata": {
        "id": "j9Idhr4ss3g_"
      },
      "source": [
        "# Forecast future values (use only self-predictions for making future predictions)\n",
        "\n",
        "validation_target = Y[-N//2:]\n",
        "validation_predictions = []\n",
        "\n",
        "# first validation input\n",
        "last_x = X[-N//2] # 1-D array of length T\n",
        "\n",
        "while len(validation_predictions) < len(validation_target):\n",
        "  p = model.predict(last_x.reshape(1, -1))[0,0] # 1x1 array -> scalar\n",
        "  \n",
        "  # update the predictions list\n",
        "  validation_predictions.append(p)\n",
        "  \n",
        "  # make the new input\n",
        "  last_x = np.roll(last_x, -1)\n",
        "  last_x[-1] = p"
      ],
      "execution_count": null,
      "outputs": []
    },
    {
      "cell_type": "code",
      "metadata": {
        "id": "i0QEZgwV3WPI",
        "colab": {
          "base_uri": "https://localhost:8080/",
          "height": 282
        },
        "outputId": "910810ee-6f5a-4d5d-d719-00824da69a6b"
      },
      "source": [
        "plt.plot(validation_target, label='forecast target')\n",
        "plt.plot(validation_predictions, label='forecast prediction')\n",
        "plt.legend()"
      ],
      "execution_count": null,
      "outputs": [
        {
          "output_type": "execute_result",
          "data": {
            "text/plain": [
              "<matplotlib.legend.Legend at 0x7f64d7c15cf8>"
            ]
          },
          "metadata": {
            "tags": []
          },
          "execution_count": 10
        },
        {
          "output_type": "display_data",
          "data": {
            "image/png": "[encoded data removed]",
            "text/plain": [
              "<Figure size 432x288 with 1 Axes>"
            ]
          },
          "metadata": {
            "tags": []
          }
        }
      ]
    }
  ]
}