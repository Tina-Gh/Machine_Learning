{
  "nbformat": 4,
  "nbformat_minor": 0,
  "metadata": {
    "colab": {
      "name": "TF2.0 Stock Returns.ipynb",
      "provenance": [],
      "collapsed_sections": [],
      "include_colab_link": true
    },
    "kernelspec": {
      "name": "python3",
      "display_name": "Python 3"
    },
    "accelerator": "GPU"
  },
  "cells": [
    {
      "cell_type": "markdown",
      "metadata": {
        "id": "view-in-github",
        "colab_type": "text"
      },
      "source": [
        "<a href=\"https://colab.research.google.com/github/Tina-Gh/Machine_Learning/blob/master/RNN/Section%205%3A%20RNN_(7)_TF2_0_Stock_Returns.ipynb\" target=\"_parent\"><img src=\"https://colab.research.google.com/assets/colab-badge.svg\" alt=\"Open In Colab\"/></a>"
      ]
    },
    {
      "cell_type": "code",
      "metadata": {
        "id": "JkljvqYBN0Fa",
        "outputId": "a6d8423c-ad80-400d-91eb-19814d1395e2",
        "colab": {
          "base_uri": "https://localhost:8080/",
          "height": 34
        }
      },
      "source": [
        "# Install TensorFlow\n",
        "# !pip install -q tensorflow-gpu==2.0.0-beta1\n",
        "\n",
        "try:\n",
        "  %tensorflow_version 2.x  # Colab only.\n",
        "except Exception:\n",
        "  pass\n",
        "\n",
        "import tensorflow as tf\n",
        "print(tf.__version__)"
      ],
      "execution_count": null,
      "outputs": [
        {
          "output_type": "stream",
          "text": [
            "2.0.0-beta1\n"
          ],
          "name": "stdout"
        }
      ]
    },
    {
      "cell_type": "code",
      "metadata": {
        "id": "AJ1XDZAJNjNG"
      },
      "source": [
        "# More imports\n",
        "from tensorflow.keras.layers import Input, LSTM, GRU, SimpleRNN, Dense, GlobalMaxPool1D\n",
        "from tensorflow.keras.models import Model\n",
        "from tensorflow.keras.optimizers import SGD, Adam\n",
        "\n",
        "import numpy as np\n",
        "import pandas as pd\n",
        "import matplotlib.pyplot as plt\n",
        "from sklearn.preprocessing import StandardScaler"
      ],
      "execution_count": null,
      "outputs": []
    },
    {
      "cell_type": "code",
      "metadata": {
        "id": "DhvsuKhcNq7t"
      },
      "source": [
        "# yes, you can read dataframes from URLs!\n",
        "df = pd.read_csv('https://raw.githubusercontent.com/lazyprogrammer/machine_learning_examples/master/tf2.0/sbux.csv')"
      ],
      "execution_count": null,
      "outputs": []
    },
    {
      "cell_type": "code",
      "metadata": {
        "id": "vWSPFdncODH9",
        "outputId": "7f8feb17-5ac0-4ee0-d4de-701df94bd7ac",
        "colab": {
          "base_uri": "https://localhost:8080/",
          "height": 204
        }
      },
      "source": [
        "df.head()"
      ],
      "execution_count": null,
      "outputs": [
        {
          "output_type": "execute_result",
          "data": {
            "text/html": [
              "<div>\n",
              "<style scoped>\n",
              "    .dataframe tbody tr th:only-of-type {\n",
              "        vertical-align: middle;\n",
              "    }\n",
              "\n",
              "    .dataframe tbody tr th {\n",
              "        vertical-align: top;\n",
              "    }\n",
              "\n",
              "    .dataframe thead th {\n",
              "        text-align: right;\n",
              "    }\n",
              "</style>\n",
              "<table border=\"1\" class=\"dataframe\">\n",
              "  <thead>\n",
              "    <tr style=\"text-align: right;\">\n",
              "      <th></th>\n",
              "      <th>date</th>\n",
              "      <th>open</th>\n",
              "      <th>high</th>\n",
              "      <th>low</th>\n",
              "      <th>close</th>\n",
              "      <th>volume</th>\n",
              "      <th>Name</th>\n",
              "    </tr>\n",
              "  </thead>\n",
              "  <tbody>\n",
              "    <tr>\n",
              "      <th>0</th>\n",
              "      <td>2013-02-08</td>\n",
              "      <td>27.920</td>\n",
              "      <td>28.325</td>\n",
              "      <td>27.920</td>\n",
              "      <td>28.185</td>\n",
              "      <td>7146296</td>\n",
              "      <td>SBUX</td>\n",
              "    </tr>\n",
              "    <tr>\n",
              "      <th>1</th>\n",
              "      <td>2013-02-11</td>\n",
              "      <td>28.260</td>\n",
              "      <td>28.260</td>\n",
              "      <td>27.930</td>\n",
              "      <td>28.070</td>\n",
              "      <td>5457354</td>\n",
              "      <td>SBUX</td>\n",
              "    </tr>\n",
              "    <tr>\n",
              "      <th>2</th>\n",
              "      <td>2013-02-12</td>\n",
              "      <td>28.000</td>\n",
              "      <td>28.275</td>\n",
              "      <td>27.975</td>\n",
              "      <td>28.130</td>\n",
              "      <td>8665592</td>\n",
              "      <td>SBUX</td>\n",
              "    </tr>\n",
              "    <tr>\n",
              "      <th>3</th>\n",
              "      <td>2013-02-13</td>\n",
              "      <td>28.230</td>\n",
              "      <td>28.230</td>\n",
              "      <td>27.750</td>\n",
              "      <td>27.915</td>\n",
              "      <td>7022056</td>\n",
              "      <td>SBUX</td>\n",
              "    </tr>\n",
              "    <tr>\n",
              "      <th>4</th>\n",
              "      <td>2013-02-14</td>\n",
              "      <td>27.765</td>\n",
              "      <td>27.905</td>\n",
              "      <td>27.675</td>\n",
              "      <td>27.775</td>\n",
              "      <td>8899188</td>\n",
              "      <td>SBUX</td>\n",
              "    </tr>\n",
              "  </tbody>\n",
              "</table>\n",
              "</div>"
            ],
            "text/plain": [
              "         date    open    high     low   close   volume  Name\n",
              "0  2013-02-08  27.920  28.325  27.920  28.185  7146296  SBUX\n",
              "1  2013-02-11  28.260  28.260  27.930  28.070  5457354  SBUX\n",
              "2  2013-02-12  28.000  28.275  27.975  28.130  8665592  SBUX\n",
              "3  2013-02-13  28.230  28.230  27.750  27.915  7022056  SBUX\n",
              "4  2013-02-14  27.765  27.905  27.675  27.775  8899188  SBUX"
            ]
          },
          "metadata": {
            "tags": []
          },
          "execution_count": 4
        }
      ]
    },
    {
      "cell_type": "code",
      "metadata": {
        "id": "NLmweO2o-wgS",
        "outputId": "feaf8e29-1270-4fe9-dbd6-b85d9d7f3234",
        "colab": {
          "base_uri": "https://localhost:8080/",
          "height": 204
        }
      },
      "source": [
        "df.tail()"
      ],
      "execution_count": null,
      "outputs": [
        {
          "output_type": "execute_result",
          "data": {
            "text/html": [
              "<div>\n",
              "<style scoped>\n",
              "    .dataframe tbody tr th:only-of-type {\n",
              "        vertical-align: middle;\n",
              "    }\n",
              "\n",
              "    .dataframe tbody tr th {\n",
              "        vertical-align: top;\n",
              "    }\n",
              "\n",
              "    .dataframe thead th {\n",
              "        text-align: right;\n",
              "    }\n",
              "</style>\n",
              "<table border=\"1\" class=\"dataframe\">\n",
              "  <thead>\n",
              "    <tr style=\"text-align: right;\">\n",
              "      <th></th>\n",
              "      <th>date</th>\n",
              "      <th>open</th>\n",
              "      <th>high</th>\n",
              "      <th>low</th>\n",
              "      <th>close</th>\n",
              "      <th>volume</th>\n",
              "      <th>Name</th>\n",
              "    </tr>\n",
              "  </thead>\n",
              "  <tbody>\n",
              "    <tr>\n",
              "      <th>1254</th>\n",
              "      <td>2018-02-01</td>\n",
              "      <td>56.280</td>\n",
              "      <td>56.42</td>\n",
              "      <td>55.89</td>\n",
              "      <td>56.00</td>\n",
              "      <td>14690146</td>\n",
              "      <td>SBUX</td>\n",
              "    </tr>\n",
              "    <tr>\n",
              "      <th>1255</th>\n",
              "      <td>2018-02-02</td>\n",
              "      <td>55.900</td>\n",
              "      <td>56.32</td>\n",
              "      <td>55.70</td>\n",
              "      <td>55.77</td>\n",
              "      <td>15358909</td>\n",
              "      <td>SBUX</td>\n",
              "    </tr>\n",
              "    <tr>\n",
              "      <th>1256</th>\n",
              "      <td>2018-02-05</td>\n",
              "      <td>55.530</td>\n",
              "      <td>56.26</td>\n",
              "      <td>54.57</td>\n",
              "      <td>54.69</td>\n",
              "      <td>16059955</td>\n",
              "      <td>SBUX</td>\n",
              "    </tr>\n",
              "    <tr>\n",
              "      <th>1257</th>\n",
              "      <td>2018-02-06</td>\n",
              "      <td>53.685</td>\n",
              "      <td>56.06</td>\n",
              "      <td>53.56</td>\n",
              "      <td>55.61</td>\n",
              "      <td>17415065</td>\n",
              "      <td>SBUX</td>\n",
              "    </tr>\n",
              "    <tr>\n",
              "      <th>1258</th>\n",
              "      <td>2018-02-07</td>\n",
              "      <td>55.080</td>\n",
              "      <td>55.43</td>\n",
              "      <td>54.44</td>\n",
              "      <td>54.46</td>\n",
              "      <td>13927022</td>\n",
              "      <td>SBUX</td>\n",
              "    </tr>\n",
              "  </tbody>\n",
              "</table>\n",
              "</div>"
            ],
            "text/plain": [
              "            date    open   high    low  close    volume  Name\n",
              "1254  2018-02-01  56.280  56.42  55.89  56.00  14690146  SBUX\n",
              "1255  2018-02-02  55.900  56.32  55.70  55.77  15358909  SBUX\n",
              "1256  2018-02-05  55.530  56.26  54.57  54.69  16059955  SBUX\n",
              "1257  2018-02-06  53.685  56.06  53.56  55.61  17415065  SBUX\n",
              "1258  2018-02-07  55.080  55.43  54.44  54.46  13927022  SBUX"
            ]
          },
          "metadata": {
            "tags": []
          },
          "execution_count": 5
        }
      ]
    },
    {
      "cell_type": "code",
      "metadata": {
        "id": "qczc-TUNO0th"
      },
      "source": [
        "# Start by doing the WRONG thing - trying to predict the price itself\n",
        "series = df['close'].values.reshape(-1, 1)"
      ],
      "execution_count": null,
      "outputs": []
    },
    {
      "cell_type": "code",
      "metadata": {
        "id": "X6lJwsOgPVaB"
      },
      "source": [
        "# Normalize the data\n",
        "# Note: I didn't think about where the true boundary is, this is just approx.\n",
        "scaler = StandardScaler()\n",
        "scaler.fit(series[:len(series) // 2])\n",
        "series = scaler.transform(series).flatten()"
      ],
      "execution_count": null,
      "outputs": []
    },
    {
      "cell_type": "code",
      "metadata": {
        "id": "3j6Jk2pkPTjE",
        "outputId": "14f774c5-95f0-4acd-d023-7aff6c6c0e82",
        "colab": {
          "base_uri": "https://localhost:8080/",
          "height": 34
        }
      },
      "source": [
        "### build the dataset\n",
        "# let's see if we can use T past values to predict the next value\n",
        "T = 10\n",
        "D = 1\n",
        "X = []\n",
        "Y = []\n",
        "for t in range(len(series) - T):\n",
        "  x = series[t:t+T]\n",
        "  X.append(x)\n",
        "  y = series[t+T]\n",
        "  Y.append(y)\n",
        "\n",
        "X = np.array(X).reshape(-1, T, 1) # Now the data should be N x T x D\n",
        "Y = np.array(Y)\n",
        "N = len(X)\n",
        "print(\"X.shape\", X.shape, \"Y.shape\", Y.shape)"
      ],
      "execution_count": null,
      "outputs": [
        {
          "output_type": "stream",
          "text": [
            "X.shape (1249, 10, 1) Y.shape (1249,)\n"
          ],
          "name": "stdout"
        }
      ]
    },
    {
      "cell_type": "code",
      "metadata": {
        "id": "R5uMLXonPEnZ",
        "outputId": "977911fa-8ed2-4663-a133-2f9c7190776d",
        "colab": {
          "base_uri": "https://localhost:8080/",
          "height": 1000
        }
      },
      "source": [
        "### try autoregressive RNN model\n",
        "i = Input(shape=(T, 1))\n",
        "x = LSTM(5)(i)\n",
        "x = Dense(1)(x)\n",
        "model = Model(i, x)\n",
        "model.compile(\n",
        "  loss='mse',\n",
        "  optimizer=Adam(lr=0.1),\n",
        ")\n",
        "\n",
        "# train the RNN\n",
        "r = model.fit(\n",
        "  X[:-N//2], Y[:-N//2],\n",
        "  epochs=80,\n",
        "  validation_data=(X[-N//2:], Y[-N//2:]),\n",
        ")"
      ],
      "execution_count": null,
      "outputs": [
        {
          "output_type": "stream",
          "text": [
            "Train on 624 samples, validate on 625 samples\n",
            "Epoch 1/80\n",
            "624/624 [==============================] - 2s 3ms/sample - loss: 0.2222 - val_loss: 0.1727\n",
            "Epoch 2/80\n",
            "624/624 [==============================] - 0s 223us/sample - loss: 0.0128 - val_loss: 0.0407\n",
            "Epoch 3/80\n",
            "624/624 [==============================] - 0s 210us/sample - loss: 0.0069 - val_loss: 0.0373\n",
            "Epoch 4/80\n",
            "624/624 [==============================] - 0s 213us/sample - loss: 0.0063 - val_loss: 0.0386\n",
            "Epoch 5/80\n",
            "624/624 [==============================] - 0s 234us/sample - loss: 0.0062 - val_loss: 0.0375\n",
            "Epoch 6/80\n",
            "624/624 [==============================] - 0s 214us/sample - loss: 0.0067 - val_loss: 0.0406\n",
            "Epoch 7/80\n",
            "624/624 [==============================] - 0s 217us/sample - loss: 0.0057 - val_loss: 0.0290\n",
            "Epoch 8/80\n",
            "624/624 [==============================] - 0s 220us/sample - loss: 0.0061 - val_loss: 0.0248\n",
            "Epoch 9/80\n",
            "624/624 [==============================] - 0s 223us/sample - loss: 0.0065 - val_loss: 0.0303\n",
            "Epoch 10/80\n",
            "624/624 [==============================] - 0s 211us/sample - loss: 0.0069 - val_loss: 0.0529\n",
            "Epoch 11/80\n",
            "624/624 [==============================] - 0s 210us/sample - loss: 0.0070 - val_loss: 0.0734\n",
            "Epoch 12/80\n",
            "624/624 [==============================] - 0s 209us/sample - loss: 0.0078 - val_loss: 0.0258\n",
            "Epoch 13/80\n",
            "624/624 [==============================] - 0s 232us/sample - loss: 0.0063 - val_loss: 0.0313\n",
            "Epoch 14/80\n",
            "624/624 [==============================] - 0s 213us/sample - loss: 0.0058 - val_loss: 0.0239\n",
            "Epoch 15/80\n",
            "624/624 [==============================] - 0s 218us/sample - loss: 0.0066 - val_loss: 0.0314\n",
            "Epoch 16/80\n",
            "624/624 [==============================] - 0s 208us/sample - loss: 0.0068 - val_loss: 0.0248\n",
            "Epoch 17/80\n",
            "624/624 [==============================] - 0s 208us/sample - loss: 0.0058 - val_loss: 0.0245\n",
            "Epoch 18/80\n",
            "624/624 [==============================] - 0s 209us/sample - loss: 0.0062 - val_loss: 0.0457\n",
            "Epoch 19/80\n",
            "624/624 [==============================] - 0s 208us/sample - loss: 0.0056 - val_loss: 0.0200\n",
            "Epoch 20/80\n",
            "624/624 [==============================] - 0s 242us/sample - loss: 0.0057 - val_loss: 0.0207\n",
            "Epoch 21/80\n",
            "624/624 [==============================] - 0s 207us/sample - loss: 0.0056 - val_loss: 0.0258\n",
            "Epoch 22/80\n",
            "624/624 [==============================] - 0s 218us/sample - loss: 0.0059 - val_loss: 0.0244\n",
            "Epoch 23/80\n",
            "624/624 [==============================] - 0s 205us/sample - loss: 0.0073 - val_loss: 0.0426\n",
            "Epoch 24/80\n",
            "624/624 [==============================] - 0s 205us/sample - loss: 0.0059 - val_loss: 0.0446\n",
            "Epoch 25/80\n",
            "624/624 [==============================] - 0s 209us/sample - loss: 0.0065 - val_loss: 0.0359\n",
            "Epoch 26/80\n",
            "624/624 [==============================] - 0s 216us/sample - loss: 0.0064 - val_loss: 0.0198\n",
            "Epoch 27/80\n",
            "624/624 [==============================] - 0s 213us/sample - loss: 0.0054 - val_loss: 0.0279\n",
            "Epoch 28/80\n",
            "624/624 [==============================] - 0s 225us/sample - loss: 0.0053 - val_loss: 0.0239\n",
            "Epoch 29/80\n",
            "624/624 [==============================] - 0s 207us/sample - loss: 0.0056 - val_loss: 0.0189\n",
            "Epoch 30/80\n",
            "624/624 [==============================] - 0s 208us/sample - loss: 0.0070 - val_loss: 0.0445\n",
            "Epoch 31/80\n",
            "624/624 [==============================] - 0s 215us/sample - loss: 0.0066 - val_loss: 0.0388\n",
            "Epoch 32/80\n",
            "624/624 [==============================] - 0s 211us/sample - loss: 0.0065 - val_loss: 0.0193\n",
            "Epoch 33/80\n",
            "624/624 [==============================] - 0s 208us/sample - loss: 0.0058 - val_loss: 0.0234\n",
            "Epoch 34/80\n",
            "624/624 [==============================] - 0s 210us/sample - loss: 0.0066 - val_loss: 0.0463\n",
            "Epoch 35/80\n",
            "624/624 [==============================] - 0s 204us/sample - loss: 0.0056 - val_loss: 0.0161\n",
            "Epoch 36/80\n",
            "624/624 [==============================] - 0s 229us/sample - loss: 0.0054 - val_loss: 0.0300\n",
            "Epoch 37/80\n",
            "624/624 [==============================] - 0s 217us/sample - loss: 0.0062 - val_loss: 0.0232\n",
            "Epoch 38/80\n",
            "624/624 [==============================] - 0s 212us/sample - loss: 0.0055 - val_loss: 0.0207\n",
            "Epoch 39/80\n",
            "624/624 [==============================] - 0s 213us/sample - loss: 0.0060 - val_loss: 0.0193\n",
            "Epoch 40/80\n",
            "624/624 [==============================] - 0s 217us/sample - loss: 0.0058 - val_loss: 0.0362\n",
            "Epoch 41/80\n",
            "624/624 [==============================] - 0s 210us/sample - loss: 0.0072 - val_loss: 0.0290\n",
            "Epoch 42/80\n",
            "624/624 [==============================] - 0s 210us/sample - loss: 0.0061 - val_loss: 0.0209\n",
            "Epoch 43/80\n",
            "624/624 [==============================] - 0s 227us/sample - loss: 0.0060 - val_loss: 0.0521\n",
            "Epoch 44/80\n",
            "624/624 [==============================] - 0s 210us/sample - loss: 0.0071 - val_loss: 0.0147\n",
            "Epoch 45/80\n",
            "624/624 [==============================] - 0s 218us/sample - loss: 0.0054 - val_loss: 0.0229\n",
            "Epoch 46/80\n",
            "624/624 [==============================] - 0s 220us/sample - loss: 0.0054 - val_loss: 0.0163\n",
            "Epoch 47/80\n",
            "624/624 [==============================] - 0s 216us/sample - loss: 0.0050 - val_loss: 0.0249\n",
            "Epoch 48/80\n",
            "624/624 [==============================] - 0s 206us/sample - loss: 0.0053 - val_loss: 0.0471\n",
            "Epoch 49/80\n",
            "624/624 [==============================] - 0s 203us/sample - loss: 0.0054 - val_loss: 0.0186\n",
            "Epoch 50/80\n",
            "624/624 [==============================] - 0s 212us/sample - loss: 0.0055 - val_loss: 0.0399\n",
            "Epoch 51/80\n",
            "624/624 [==============================] - 0s 228us/sample - loss: 0.0061 - val_loss: 0.0203\n",
            "Epoch 52/80\n",
            "624/624 [==============================] - 0s 211us/sample - loss: 0.0064 - val_loss: 0.0176\n",
            "Epoch 53/80\n",
            "624/624 [==============================] - 0s 210us/sample - loss: 0.0058 - val_loss: 0.0332\n",
            "Epoch 54/80\n",
            "624/624 [==============================] - 0s 217us/sample - loss: 0.0056 - val_loss: 0.0202\n",
            "Epoch 55/80\n",
            "624/624 [==============================] - 0s 209us/sample - loss: 0.0073 - val_loss: 0.0219\n",
            "Epoch 56/80\n",
            "624/624 [==============================] - 0s 220us/sample - loss: 0.0068 - val_loss: 0.0156\n",
            "Epoch 57/80\n",
            "624/624 [==============================] - 0s 212us/sample - loss: 0.0058 - val_loss: 0.0389\n",
            "Epoch 58/80\n",
            "624/624 [==============================] - 0s 227us/sample - loss: 0.0064 - val_loss: 0.0973\n",
            "Epoch 59/80\n",
            "624/624 [==============================] - 0s 203us/sample - loss: 0.0089 - val_loss: 0.0399\n",
            "Epoch 60/80\n",
            "624/624 [==============================] - 0s 220us/sample - loss: 0.0053 - val_loss: 0.0218\n",
            "Epoch 61/80\n",
            "624/624 [==============================] - 0s 214us/sample - loss: 0.0062 - val_loss: 0.0229\n",
            "Epoch 62/80\n",
            "624/624 [==============================] - 0s 223us/sample - loss: 0.0058 - val_loss: 0.0254\n",
            "Epoch 63/80\n",
            "624/624 [==============================] - 0s 241us/sample - loss: 0.0055 - val_loss: 0.0165\n",
            "Epoch 64/80\n",
            "624/624 [==============================] - 0s 216us/sample - loss: 0.0060 - val_loss: 0.0158\n",
            "Epoch 65/80\n",
            "624/624 [==============================] - 0s 213us/sample - loss: 0.0063 - val_loss: 0.0142\n",
            "Epoch 66/80\n",
            "624/624 [==============================] - 0s 230us/sample - loss: 0.0060 - val_loss: 0.0237\n",
            "Epoch 67/80\n",
            "624/624 [==============================] - 0s 217us/sample - loss: 0.0054 - val_loss: 0.0207\n",
            "Epoch 68/80\n",
            "624/624 [==============================] - 0s 218us/sample - loss: 0.0055 - val_loss: 0.0157\n",
            "Epoch 69/80\n",
            "624/624 [==============================] - 0s 217us/sample - loss: 0.0056 - val_loss: 0.0188\n",
            "Epoch 70/80\n",
            "624/624 [==============================] - 0s 206us/sample - loss: 0.0055 - val_loss: 0.0216\n",
            "Epoch 71/80\n",
            "624/624 [==============================] - 0s 212us/sample - loss: 0.0059 - val_loss: 0.0145\n",
            "Epoch 72/80\n",
            "624/624 [==============================] - 0s 213us/sample - loss: 0.0060 - val_loss: 0.0172\n",
            "Epoch 73/80\n",
            "624/624 [==============================] - 0s 218us/sample - loss: 0.0063 - val_loss: 0.0127\n",
            "Epoch 74/80\n",
            "624/624 [==============================] - 0s 212us/sample - loss: 0.0057 - val_loss: 0.0326\n",
            "Epoch 75/80\n",
            "624/624 [==============================] - 0s 223us/sample - loss: 0.0064 - val_loss: 0.0178\n",
            "Epoch 76/80\n",
            "624/624 [==============================] - 0s 209us/sample - loss: 0.0056 - val_loss: 0.0182\n",
            "Epoch 77/80\n",
            "624/624 [==============================] - 0s 209us/sample - loss: 0.0059 - val_loss: 0.0158\n",
            "Epoch 78/80\n",
            "624/624 [==============================] - 0s 219us/sample - loss: 0.0051 - val_loss: 0.0126\n",
            "Epoch 79/80\n",
            "624/624 [==============================] - 0s 204us/sample - loss: 0.0051 - val_loss: 0.0187\n",
            "Epoch 80/80\n",
            "624/624 [==============================] - 0s 208us/sample - loss: 0.0056 - val_loss: 0.0157\n"
          ],
          "name": "stdout"
        }
      ]
    },
    {
      "cell_type": "code",
      "metadata": {
        "id": "gNKGakDwP6I8",
        "outputId": "40313073-51b0-4b68-9299-397032ecb9df",
        "colab": {
          "base_uri": "https://localhost:8080/",
          "height": 286
        }
      },
      "source": [
        "# Plot loss per iteration\n",
        "import matplotlib.pyplot as plt\n",
        "plt.plot(r.history['loss'], label='loss')\n",
        "plt.plot(r.history['val_loss'], label='val_loss')\n",
        "plt.legend()"
      ],
      "execution_count": null,
      "outputs": [
        {
          "output_type": "execute_result",
          "data": {
            "text/plain": [
              "<matplotlib.legend.Legend at 0x7f726fa0ca90>"
            ]
          },
          "metadata": {
            "tags": []
          },
          "execution_count": 10
        },
        {
          "output_type": "display_data",
          "data": {
            "image/png": "[encoded data removed]",
            "text/plain": [
              "<Figure size 432x288 with 1 Axes>"
            ]
          },
          "metadata": {
            "tags": []
          }
        }
      ]
    },
    {
      "cell_type": "code",
      "metadata": {
        "id": "SnonG_CKP-W2",
        "outputId": "d800b5e9-6626-4489-fba3-bcf004740930",
        "colab": {
          "base_uri": "https://localhost:8080/",
          "height": 286
        }
      },
      "source": [
        "# One-step forecast using true targets\n",
        "outputs = model.predict(X)\n",
        "print(outputs.shape)\n",
        "predictions = outputs[:,0]\n",
        "\n",
        "plt.plot(Y, label='targets')\n",
        "plt.plot(predictions, label='predictions')\n",
        "plt.legend()\n",
        "plt.show()"
      ],
      "execution_count": null,
      "outputs": [
        {
          "output_type": "stream",
          "text": [
            "(1249, 1)\n"
          ],
          "name": "stdout"
        },
        {
          "output_type": "display_data",
          "data": {
            "image/png": "[encoded data removed]",
            "text/plain": [
              "<Figure size 432x288 with 1 Axes>"
            ]
          },
          "metadata": {
            "tags": []
          }
        }
      ]
    },
    {
      "cell_type": "code",
      "metadata": {
        "id": "_lQrWPlHQJw_",
        "outputId": "37989c10-af24-4212-e717-af42d6f34b12",
        "colab": {
          "base_uri": "https://localhost:8080/",
          "height": 286
        }
      },
      "source": [
        "# Multi-step forecast\n",
        "validation_target = Y[-N//2:]\n",
        "validation_predictions = []\n",
        "\n",
        "# first validation input\n",
        "last_x = X[-N//2] # 1-D array of length T\n",
        "\n",
        "while len(validation_predictions) < len(validation_target):\n",
        "  p = model.predict(last_x.reshape(1, T, 1))[0,0] # 1x1 array -> scalar\n",
        "  \n",
        "  # update the predictions list\n",
        "  validation_predictions.append(p)\n",
        "  \n",
        "  # make the new input\n",
        "  last_x = np.roll(last_x, -1)\n",
        "  last_x[-1] = p\n",
        "\n",
        "plt.plot(validation_target, label='forecast target')\n",
        "plt.plot(validation_predictions, label='forecast prediction')\n",
        "plt.legend()"
      ],
      "execution_count": null,
      "outputs": [
        {
          "output_type": "execute_result",
          "data": {
            "text/plain": [
              "<matplotlib.legend.Legend at 0x7f726987fba8>"
            ]
          },
          "metadata": {
            "tags": []
          },
          "execution_count": 12
        },
        {
          "output_type": "display_data",
          "data": {
            "image/png": "[encoded data removed]",
            "text/plain": [
              "<Figure size 432x288 with 1 Axes>"
            ]
          },
          "metadata": {
            "tags": []
          }
        }
      ]
    },
    {
      "cell_type": "code",
      "metadata": {
        "id": "HyqtntC7OGu0"
      },
      "source": [
        "# calculate returns by first shifting the data\n",
        "df['PrevClose'] = df['close'].shift(1) # move everything up 1\n",
        "\n",
        "# so now it's like\n",
        "# close / prev close\n",
        "# x[2] x[1]\n",
        "# x[3] x[2]\n",
        "# x[4] x[3]\n",
        "# ...\n",
        "# x[t] x[t-1]"
      ],
      "execution_count": null,
      "outputs": []
    },
    {
      "cell_type": "code",
      "metadata": {
        "id": "K4HG4nDUOPHK",
        "outputId": "5ae5536c-b6c9-4e0a-a806-d33cc10262e4",
        "colab": {
          "base_uri": "https://localhost:8080/",
          "height": 204
        }
      },
      "source": [
        "df.head()"
      ],
      "execution_count": null,
      "outputs": [
        {
          "output_type": "execute_result",
          "data": {
            "text/html": [
              "<div>\n",
              "<style scoped>\n",
              "    .dataframe tbody tr th:only-of-type {\n",
              "        vertical-align: middle;\n",
              "    }\n",
              "\n",
              "    .dataframe tbody tr th {\n",
              "        vertical-align: top;\n",
              "    }\n",
              "\n",
              "    .dataframe thead th {\n",
              "        text-align: right;\n",
              "    }\n",
              "</style>\n",
              "<table border=\"1\" class=\"dataframe\">\n",
              "  <thead>\n",
              "    <tr style=\"text-align: right;\">\n",
              "      <th></th>\n",
              "      <th>date</th>\n",
              "      <th>open</th>\n",
              "      <th>high</th>\n",
              "      <th>low</th>\n",
              "      <th>close</th>\n",
              "      <th>volume</th>\n",
              "      <th>Name</th>\n",
              "      <th>PrevClose</th>\n",
              "    </tr>\n",
              "  </thead>\n",
              "  <tbody>\n",
              "    <tr>\n",
              "      <th>0</th>\n",
              "      <td>2013-02-08</td>\n",
              "      <td>27.920</td>\n",
              "      <td>28.325</td>\n",
              "      <td>27.920</td>\n",
              "      <td>28.185</td>\n",
              "      <td>7146296</td>\n",
              "      <td>SBUX</td>\n",
              "      <td>NaN</td>\n",
              "    </tr>\n",
              "    <tr>\n",
              "      <th>1</th>\n",
              "      <td>2013-02-11</td>\n",
              "      <td>28.260</td>\n",
              "      <td>28.260</td>\n",
              "      <td>27.930</td>\n",
              "      <td>28.070</td>\n",
              "      <td>5457354</td>\n",
              "      <td>SBUX</td>\n",
              "      <td>28.185</td>\n",
              "    </tr>\n",
              "    <tr>\n",
              "      <th>2</th>\n",
              "      <td>2013-02-12</td>\n",
              "      <td>28.000</td>\n",
              "      <td>28.275</td>\n",
              "      <td>27.975</td>\n",
              "      <td>28.130</td>\n",
              "      <td>8665592</td>\n",
              "      <td>SBUX</td>\n",
              "      <td>28.070</td>\n",
              "    </tr>\n",
              "    <tr>\n",
              "      <th>3</th>\n",
              "      <td>2013-02-13</td>\n",
              "      <td>28.230</td>\n",
              "      <td>28.230</td>\n",
              "      <td>27.750</td>\n",
              "      <td>27.915</td>\n",
              "      <td>7022056</td>\n",
              "      <td>SBUX</td>\n",
              "      <td>28.130</td>\n",
              "    </tr>\n",
              "    <tr>\n",
              "      <th>4</th>\n",
              "      <td>2013-02-14</td>\n",
              "      <td>27.765</td>\n",
              "      <td>27.905</td>\n",
              "      <td>27.675</td>\n",
              "      <td>27.775</td>\n",
              "      <td>8899188</td>\n",
              "      <td>SBUX</td>\n",
              "      <td>27.915</td>\n",
              "    </tr>\n",
              "  </tbody>\n",
              "</table>\n",
              "</div>"
            ],
            "text/plain": [
              "         date    open    high     low   close   volume  Name  PrevClose\n",
              "0  2013-02-08  27.920  28.325  27.920  28.185  7146296  SBUX        NaN\n",
              "1  2013-02-11  28.260  28.260  27.930  28.070  5457354  SBUX     28.185\n",
              "2  2013-02-12  28.000  28.275  27.975  28.130  8665592  SBUX     28.070\n",
              "3  2013-02-13  28.230  28.230  27.750  27.915  7022056  SBUX     28.130\n",
              "4  2013-02-14  27.765  27.905  27.675  27.775  8899188  SBUX     27.915"
            ]
          },
          "metadata": {
            "tags": []
          },
          "execution_count": 14
        }
      ]
    },
    {
      "cell_type": "code",
      "metadata": {
        "id": "8NozObuNORn4"
      },
      "source": [
        "# then the return is\n",
        "# (x[t] - x[t-1]) / x[t-1]\n",
        "df['Return'] = (df['close'] - df['PrevClose']) / df['PrevClose']"
      ],
      "execution_count": null,
      "outputs": []
    },
    {
      "cell_type": "code",
      "metadata": {
        "id": "1o0ynO0aOVWu",
        "outputId": "27396836-f73d-4c6c-adad-a7d55c01dbd7",
        "colab": {
          "base_uri": "https://localhost:8080/",
          "height": 204
        }
      },
      "source": [
        "df.head()"
      ],
      "execution_count": null,
      "outputs": [
        {
          "output_type": "execute_result",
          "data": {
            "text/html": [
              "<div>\n",
              "<style scoped>\n",
              "    .dataframe tbody tr th:only-of-type {\n",
              "        vertical-align: middle;\n",
              "    }\n",
              "\n",
              "    .dataframe tbody tr th {\n",
              "        vertical-align: top;\n",
              "    }\n",
              "\n",
              "    .dataframe thead th {\n",
              "        text-align: right;\n",
              "    }\n",
              "</style>\n",
              "<table border=\"1\" class=\"dataframe\">\n",
              "  <thead>\n",
              "    <tr style=\"text-align: right;\">\n",
              "      <th></th>\n",
              "      <th>date</th>\n",
              "      <th>open</th>\n",
              "      <th>high</th>\n",
              "      <th>low</th>\n",
              "      <th>close</th>\n",
              "      <th>volume</th>\n",
              "      <th>Name</th>\n",
              "      <th>PrevClose</th>\n",
              "      <th>Return</th>\n",
              "    </tr>\n",
              "  </thead>\n",
              "  <tbody>\n",
              "    <tr>\n",
              "      <th>0</th>\n",
              "      <td>2013-02-08</td>\n",
              "      <td>27.920</td>\n",
              "      <td>28.325</td>\n",
              "      <td>27.920</td>\n",
              "      <td>28.185</td>\n",
              "      <td>7146296</td>\n",
              "      <td>SBUX</td>\n",
              "      <td>NaN</td>\n",
              "      <td>NaN</td>\n",
              "    </tr>\n",
              "    <tr>\n",
              "      <th>1</th>\n",
              "      <td>2013-02-11</td>\n",
              "      <td>28.260</td>\n",
              "      <td>28.260</td>\n",
              "      <td>27.930</td>\n",
              "      <td>28.070</td>\n",
              "      <td>5457354</td>\n",
              "      <td>SBUX</td>\n",
              "      <td>28.185</td>\n",
              "      <td>-0.004080</td>\n",
              "    </tr>\n",
              "    <tr>\n",
              "      <th>2</th>\n",
              "      <td>2013-02-12</td>\n",
              "      <td>28.000</td>\n",
              "      <td>28.275</td>\n",
              "      <td>27.975</td>\n",
              "      <td>28.130</td>\n",
              "      <td>8665592</td>\n",
              "      <td>SBUX</td>\n",
              "      <td>28.070</td>\n",
              "      <td>0.002138</td>\n",
              "    </tr>\n",
              "    <tr>\n",
              "      <th>3</th>\n",
              "      <td>2013-02-13</td>\n",
              "      <td>28.230</td>\n",
              "      <td>28.230</td>\n",
              "      <td>27.750</td>\n",
              "      <td>27.915</td>\n",
              "      <td>7022056</td>\n",
              "      <td>SBUX</td>\n",
              "      <td>28.130</td>\n",
              "      <td>-0.007643</td>\n",
              "    </tr>\n",
              "    <tr>\n",
              "      <th>4</th>\n",
              "      <td>2013-02-14</td>\n",
              "      <td>27.765</td>\n",
              "      <td>27.905</td>\n",
              "      <td>27.675</td>\n",
              "      <td>27.775</td>\n",
              "      <td>8899188</td>\n",
              "      <td>SBUX</td>\n",
              "      <td>27.915</td>\n",
              "      <td>-0.005015</td>\n",
              "    </tr>\n",
              "  </tbody>\n",
              "</table>\n",
              "</div>"
            ],
            "text/plain": [
              "         date    open    high     low  ...   volume  Name PrevClose    Return\n",
              "0  2013-02-08  27.920  28.325  27.920  ...  7146296  SBUX       NaN       NaN\n",
              "1  2013-02-11  28.260  28.260  27.930  ...  5457354  SBUX    28.185 -0.004080\n",
              "2  2013-02-12  28.000  28.275  27.975  ...  8665592  SBUX    28.070  0.002138\n",
              "3  2013-02-13  28.230  28.230  27.750  ...  7022056  SBUX    28.130 -0.007643\n",
              "4  2013-02-14  27.765  27.905  27.675  ...  8899188  SBUX    27.915 -0.005015\n",
              "\n",
              "[5 rows x 9 columns]"
            ]
          },
          "metadata": {
            "tags": []
          },
          "execution_count": 16
        }
      ]
    },
    {
      "cell_type": "code",
      "metadata": {
        "id": "2caEww0GXddl",
        "outputId": "3b27b78a-f57d-429c-b0bf-c46cece021da",
        "colab": {
          "base_uri": "https://localhost:8080/",
          "height": 286
        }
      },
      "source": [
        "# Now let's try an LSTM to predict returns\n",
        "df['Return'].hist()"
      ],
      "execution_count": null,
      "outputs": [
        {
          "output_type": "execute_result",
          "data": {
            "text/plain": [
              "<matplotlib.axes._subplots.AxesSubplot at 0x7f726f9a3518>"
            ]
          },
          "metadata": {
            "tags": []
          },
          "execution_count": 17
        },
        {
          "output_type": "display_data",
          "data": {
            "image/png": "[encoded data removed]",
            "text/plain": [
              "<Figure size 432x288 with 1 Axes>"
            ]
          },
          "metadata": {
            "tags": []
          }
        }
      ]
    },
    {
      "cell_type": "code",
      "metadata": {
        "id": "t0xUTZvFXoHc"
      },
      "source": [
        "series = df['Return'].values[1:].reshape(-1, 1)\n",
        "\n",
        "# Normalize the data\n",
        "# Note: I didn't think about where the true boundary is, this is just approx.\n",
        "scaler = StandardScaler()\n",
        "scaler.fit(series[:len(series) // 2])\n",
        "series = scaler.transform(series).flatten()"
      ],
      "execution_count": null,
      "outputs": []
    },
    {
      "cell_type": "code",
      "metadata": {
        "id": "PLNwOWOWX1m9",
        "outputId": "9500d410-468d-4bbf-8747-0db0e105c106",
        "colab": {
          "base_uri": "https://localhost:8080/",
          "height": 34
        }
      },
      "source": [
        "### build the dataset\n",
        "# let's see if we can use T past values to predict the next value\n",
        "T = 10\n",
        "D = 1\n",
        "X = []\n",
        "Y = []\n",
        "for t in range(len(series) - T):\n",
        "  x = series[t:t+T]\n",
        "  X.append(x)\n",
        "  y = series[t+T]\n",
        "  Y.append(y)\n",
        "\n",
        "X = np.array(X).reshape(-1, T, 1) # Now the data should be N x T x D\n",
        "Y = np.array(Y)\n",
        "N = len(X)\n",
        "print(\"X.shape\", X.shape, \"Y.shape\", Y.shape)"
      ],
      "execution_count": null,
      "outputs": [
        {
          "output_type": "stream",
          "text": [
            "X.shape (1248, 10, 1) Y.shape (1248,)\n"
          ],
          "name": "stdout"
        }
      ]
    },
    {
      "cell_type": "code",
      "metadata": {
        "id": "F_fhQMaOYAxR",
        "outputId": "9c3f632e-f886-4d05-da4a-c3d00c2f1dca",
        "colab": {
          "base_uri": "https://localhost:8080/",
          "height": 1000
        }
      },
      "source": [
        "### try autoregressive RNN model\n",
        "i = Input(shape=(T, 1))\n",
        "x = LSTM(5)(i)\n",
        "x = Dense(1)(x)\n",
        "model = Model(i, x)\n",
        "model.compile(\n",
        "  loss='mse',\n",
        "  optimizer=Adam(lr=0.01),\n",
        ")\n",
        "\n",
        "# train the RNN\n",
        "r = model.fit(\n",
        "  X[:-N//2], Y[:-N//2],\n",
        "  epochs=80,\n",
        "  validation_data=(X[-N//2:], Y[-N//2:]),\n",
        ")"
      ],
      "execution_count": null,
      "outputs": [
        {
          "output_type": "stream",
          "text": [
            "Train on 624 samples, validate on 624 samples\n",
            "Epoch 1/80\n",
            "624/624 [==============================] - 1s 1ms/sample - loss: 0.9940 - val_loss: 1.1571\n",
            "Epoch 2/80\n",
            "624/624 [==============================] - 0s 214us/sample - loss: 0.9866 - val_loss: 1.1597\n",
            "Epoch 3/80\n",
            "624/624 [==============================] - 0s 214us/sample - loss: 0.9829 - val_loss: 1.1493\n",
            "Epoch 4/80\n",
            "624/624 [==============================] - 0s 209us/sample - loss: 0.9836 - val_loss: 1.1523\n",
            "Epoch 5/80\n",
            "624/624 [==============================] - 0s 216us/sample - loss: 0.9877 - val_loss: 1.1510\n",
            "Epoch 6/80\n",
            "624/624 [==============================] - 0s 216us/sample - loss: 0.9838 - val_loss: 1.1552\n",
            "Epoch 7/80\n",
            "624/624 [==============================] - 0s 211us/sample - loss: 0.9853 - val_loss: 1.1602\n",
            "Epoch 8/80\n",
            "624/624 [==============================] - 0s 222us/sample - loss: 0.9822 - val_loss: 1.1499\n",
            "Epoch 9/80\n",
            "624/624 [==============================] - 0s 215us/sample - loss: 0.9857 - val_loss: 1.1637\n",
            "Epoch 10/80\n",
            "624/624 [==============================] - 0s 213us/sample - loss: 0.9815 - val_loss: 1.1354\n",
            "Epoch 11/80\n",
            "624/624 [==============================] - 0s 212us/sample - loss: 0.9894 - val_loss: 1.1632\n",
            "Epoch 12/80\n",
            "624/624 [==============================] - 0s 213us/sample - loss: 0.9768 - val_loss: 1.1462\n",
            "Epoch 13/80\n",
            "624/624 [==============================] - 0s 209us/sample - loss: 0.9813 - val_loss: 1.1539\n",
            "Epoch 14/80\n",
            "624/624 [==============================] - 0s 205us/sample - loss: 0.9802 - val_loss: 1.1491\n",
            "Epoch 15/80\n",
            "624/624 [==============================] - 0s 222us/sample - loss: 0.9745 - val_loss: 1.1466\n",
            "Epoch 16/80\n",
            "624/624 [==============================] - 0s 226us/sample - loss: 0.9766 - val_loss: 1.1588\n",
            "Epoch 17/80\n",
            "624/624 [==============================] - 0s 220us/sample - loss: 0.9651 - val_loss: 1.1595\n",
            "Epoch 18/80\n",
            "624/624 [==============================] - 0s 207us/sample - loss: 0.9571 - val_loss: 1.1705\n",
            "Epoch 19/80\n",
            "624/624 [==============================] - 0s 207us/sample - loss: 0.9463 - val_loss: 1.1902\n",
            "Epoch 20/80\n",
            "624/624 [==============================] - 0s 242us/sample - loss: 0.9363 - val_loss: 1.1664\n",
            "Epoch 21/80\n",
            "624/624 [==============================] - 0s 209us/sample - loss: 0.9419 - val_loss: 1.1877\n",
            "Epoch 22/80\n",
            "624/624 [==============================] - 0s 216us/sample - loss: 0.9314 - val_loss: 1.2258\n",
            "Epoch 23/80\n",
            "624/624 [==============================] - 0s 231us/sample - loss: 0.9192 - val_loss: 1.1998\n",
            "Epoch 24/80\n",
            "624/624 [==============================] - 0s 206us/sample - loss: 0.9266 - val_loss: 1.2173\n",
            "Epoch 25/80\n",
            "624/624 [==============================] - 0s 210us/sample - loss: 0.9174 - val_loss: 1.2386\n",
            "Epoch 26/80\n",
            "624/624 [==============================] - 0s 213us/sample - loss: 0.9116 - val_loss: 1.2249\n",
            "Epoch 27/80\n",
            "624/624 [==============================] - 0s 215us/sample - loss: 0.9065 - val_loss: 1.2387\n",
            "Epoch 28/80\n",
            "624/624 [==============================] - 0s 223us/sample - loss: 0.9102 - val_loss: 1.2492\n",
            "Epoch 29/80\n",
            "624/624 [==============================] - 0s 213us/sample - loss: 0.9022 - val_loss: 1.2742\n",
            "Epoch 30/80\n",
            "624/624 [==============================] - 0s 211us/sample - loss: 0.8919 - val_loss: 1.2505\n",
            "Epoch 31/80\n",
            "624/624 [==============================] - 0s 241us/sample - loss: 0.8865 - val_loss: 1.2967\n",
            "Epoch 32/80\n",
            "624/624 [==============================] - 0s 212us/sample - loss: 0.9019 - val_loss: 1.2916\n",
            "Epoch 33/80\n",
            "624/624 [==============================] - 0s 217us/sample - loss: 0.8976 - val_loss: 1.2559\n",
            "Epoch 34/80\n",
            "624/624 [==============================] - 0s 227us/sample - loss: 0.8814 - val_loss: 1.2702\n",
            "Epoch 35/80\n",
            "624/624 [==============================] - 0s 224us/sample - loss: 0.8668 - val_loss: 1.3312\n",
            "Epoch 36/80\n",
            "624/624 [==============================] - 0s 212us/sample - loss: 0.8769 - val_loss: 1.2489\n",
            "Epoch 37/80\n",
            "624/624 [==============================] - 0s 217us/sample - loss: 0.8774 - val_loss: 1.3559\n",
            "Epoch 38/80\n",
            "624/624 [==============================] - 0s 240us/sample - loss: 0.8659 - val_loss: 1.3003\n",
            "Epoch 39/80\n",
            "624/624 [==============================] - 0s 219us/sample - loss: 0.8513 - val_loss: 1.3741\n",
            "Epoch 40/80\n",
            "624/624 [==============================] - 0s 210us/sample - loss: 0.8468 - val_loss: 1.3747\n",
            "Epoch 41/80\n",
            "624/624 [==============================] - 0s 224us/sample - loss: 0.8590 - val_loss: 1.3489\n",
            "Epoch 42/80\n",
            "624/624 [==============================] - 0s 211us/sample - loss: 0.8395 - val_loss: 1.3724\n",
            "Epoch 43/80\n",
            "624/624 [==============================] - 0s 210us/sample - loss: 0.8469 - val_loss: 1.4338\n",
            "Epoch 44/80\n",
            "624/624 [==============================] - 0s 211us/sample - loss: 0.8469 - val_loss: 1.4760\n",
            "Epoch 45/80\n",
            "624/624 [==============================] - 0s 225us/sample - loss: 0.8629 - val_loss: 1.3005\n",
            "Epoch 46/80\n",
            "624/624 [==============================] - 0s 221us/sample - loss: 0.8444 - val_loss: 1.3844\n",
            "Epoch 47/80\n",
            "624/624 [==============================] - 0s 215us/sample - loss: 0.8402 - val_loss: 1.3652\n",
            "Epoch 48/80\n",
            "624/624 [==============================] - 0s 213us/sample - loss: 0.8166 - val_loss: 1.4462\n",
            "Epoch 49/80\n",
            "624/624 [==============================] - 0s 206us/sample - loss: 0.8166 - val_loss: 1.4201\n",
            "Epoch 50/80\n",
            "624/624 [==============================] - 0s 215us/sample - loss: 0.8072 - val_loss: 1.4665\n",
            "Epoch 51/80\n",
            "624/624 [==============================] - 0s 215us/sample - loss: 0.8032 - val_loss: 1.4918\n",
            "Epoch 52/80\n",
            "624/624 [==============================] - 0s 214us/sample - loss: 0.7988 - val_loss: 1.5627\n",
            "Epoch 53/80\n",
            "624/624 [==============================] - 0s 224us/sample - loss: 0.7954 - val_loss: 1.5068\n",
            "Epoch 54/80\n",
            "624/624 [==============================] - 0s 211us/sample - loss: 0.7866 - val_loss: 1.5371\n",
            "Epoch 55/80\n",
            "624/624 [==============================] - 0s 221us/sample - loss: 0.7843 - val_loss: 1.4661\n",
            "Epoch 56/80\n",
            "624/624 [==============================] - 0s 228us/sample - loss: 0.7888 - val_loss: 1.6810\n",
            "Epoch 57/80\n",
            "624/624 [==============================] - 0s 213us/sample - loss: 0.8047 - val_loss: 1.5455\n",
            "Epoch 58/80\n",
            "624/624 [==============================] - 0s 220us/sample - loss: 0.7924 - val_loss: 1.5155\n",
            "Epoch 59/80\n",
            "624/624 [==============================] - 0s 217us/sample - loss: 0.7815 - val_loss: 1.4651\n",
            "Epoch 60/80\n",
            "624/624 [==============================] - 0s 209us/sample - loss: 0.7777 - val_loss: 1.4777\n",
            "Epoch 61/80\n",
            "624/624 [==============================] - 0s 224us/sample - loss: 0.7991 - val_loss: 1.3920\n",
            "Epoch 62/80\n",
            "624/624 [==============================] - 0s 219us/sample - loss: 0.7914 - val_loss: 1.4990\n",
            "Epoch 63/80\n",
            "624/624 [==============================] - 0s 213us/sample - loss: 0.7683 - val_loss: 1.4576\n",
            "Epoch 64/80\n",
            "624/624 [==============================] - 0s 215us/sample - loss: 0.7609 - val_loss: 1.5357\n",
            "Epoch 65/80\n",
            "624/624 [==============================] - 0s 211us/sample - loss: 0.7529 - val_loss: 1.5212\n",
            "Epoch 66/80\n",
            "624/624 [==============================] - 0s 213us/sample - loss: 0.7500 - val_loss: 1.5611\n",
            "Epoch 67/80\n",
            "624/624 [==============================] - 0s 214us/sample - loss: 0.7521 - val_loss: 1.5443\n",
            "Epoch 68/80\n",
            "624/624 [==============================] - 0s 239us/sample - loss: 0.7456 - val_loss: 1.6059\n",
            "Epoch 69/80\n",
            "624/624 [==============================] - 0s 222us/sample - loss: 0.7481 - val_loss: 1.5969\n",
            "Epoch 70/80\n",
            "624/624 [==============================] - 0s 209us/sample - loss: 0.7860 - val_loss: 1.6076\n",
            "Epoch 71/80\n",
            "624/624 [==============================] - 0s 213us/sample - loss: 0.8211 - val_loss: 1.3821\n",
            "Epoch 72/80\n",
            "624/624 [==============================] - 0s 207us/sample - loss: 0.8178 - val_loss: 1.5862\n",
            "Epoch 73/80\n",
            "624/624 [==============================] - 0s 214us/sample - loss: 0.7538 - val_loss: 1.5646\n",
            "Epoch 74/80\n",
            "624/624 [==============================] - 0s 222us/sample - loss: 0.7356 - val_loss: 1.6355\n",
            "Epoch 75/80\n",
            "624/624 [==============================] - 0s 215us/sample - loss: 0.7513 - val_loss: 1.4834\n",
            "Epoch 76/80\n",
            "624/624 [==============================] - 0s 232us/sample - loss: 0.7505 - val_loss: 1.5441\n",
            "Epoch 77/80\n",
            "624/624 [==============================] - 0s 213us/sample - loss: 0.7432 - val_loss: 1.5286\n",
            "Epoch 78/80\n",
            "624/624 [==============================] - 0s 203us/sample - loss: 0.7276 - val_loss: 1.5084\n",
            "Epoch 79/80\n",
            "624/624 [==============================] - 0s 209us/sample - loss: 0.7282 - val_loss: 1.6215\n",
            "Epoch 80/80\n",
            "624/624 [==============================] - 0s 215us/sample - loss: 0.7342 - val_loss: 1.5306\n"
          ],
          "name": "stdout"
        }
      ]
    },
    {
      "cell_type": "code",
      "metadata": {
        "id": "-RulDED_YFAQ",
        "outputId": "8eabd461-ff9c-4202-c655-279b0c9519a9",
        "colab": {
          "base_uri": "https://localhost:8080/",
          "height": 286
        }
      },
      "source": [
        "# Plot loss per iteration\n",
        "import matplotlib.pyplot as plt\n",
        "plt.plot(r.history['loss'], label='loss')\n",
        "plt.plot(r.history['val_loss'], label='val_loss')\n",
        "plt.legend()"
      ],
      "execution_count": null,
      "outputs": [
        {
          "output_type": "execute_result",
          "data": {
            "text/plain": [
              "<matplotlib.legend.Legend at 0x7f7267aa46d8>"
            ]
          },
          "metadata": {
            "tags": []
          },
          "execution_count": 21
        },
        {
          "output_type": "display_data",
          "data": {
            "image/png": "[encoded data removed]",
            "text/plain": [
              "<Figure size 432x288 with 1 Axes>"
            ]
          },
          "metadata": {
            "tags": []
          }
        }
      ]
    },
    {
      "cell_type": "code",
      "metadata": {
        "id": "euWSVgj2YFXA",
        "outputId": "89bd5df2-8d9f-4076-c023-2e07500b518c",
        "colab": {
          "base_uri": "https://localhost:8080/",
          "height": 286
        }
      },
      "source": [
        "# One-step forecast using true targets\n",
        "outputs = model.predict(X)\n",
        "print(outputs.shape)\n",
        "predictions = outputs[:,0]\n",
        "\n",
        "plt.plot(Y, label='targets')\n",
        "plt.plot(predictions, label='predictions')\n",
        "plt.legend()\n",
        "plt.show()"
      ],
      "execution_count": null,
      "outputs": [
        {
          "output_type": "stream",
          "text": [
            "(1248, 1)\n"
          ],
          "name": "stdout"
        },
        {
          "output_type": "display_data",
          "data": {
            "image/png": "[encoded data removed]",
            "text/plain": [
              "<Figure size 432x288 with 1 Axes>"
            ]
          },
          "metadata": {
            "tags": []
          }
        }
      ]
    },
    {
      "cell_type": "code",
      "metadata": {
        "id": "Vqu6ScQrYIWV",
        "outputId": "d944717c-b87f-4f44-971f-9aa16134f885",
        "colab": {
          "base_uri": "https://localhost:8080/",
          "height": 286
        }
      },
      "source": [
        "# Multi-step forecast\n",
        "validation_target = Y[-N//2:]\n",
        "validation_predictions = []\n",
        "\n",
        "# first validation input\n",
        "last_x = X[-N//2] # 1-D array of length T\n",
        "\n",
        "while len(validation_predictions) < len(validation_target):\n",
        "  p = model.predict(last_x.reshape(1, T, 1))[0,0] # 1x1 array -> scalar\n",
        "  \n",
        "  # update the predictions list\n",
        "  validation_predictions.append(p)\n",
        "  \n",
        "  # make the new input\n",
        "  last_x = np.roll(last_x, -1)\n",
        "  last_x[-1] = p\n",
        "\n",
        "plt.plot(validation_target, label='forecast target')\n",
        "plt.plot(validation_predictions, label='forecast prediction')\n",
        "plt.legend()"
      ],
      "execution_count": null,
      "outputs": [
        {
          "output_type": "execute_result",
          "data": {
            "text/plain": [
              "<matplotlib.legend.Legend at 0x7f726fab4e10>"
            ]
          },
          "metadata": {
            "tags": []
          },
          "execution_count": 23
        },
        {
          "output_type": "display_data",
          "data": {
            "image/png": "[encoded data removed]",
            "text/plain": [
              "<Figure size 432x288 with 1 Axes>"
            ]
          },
          "metadata": {
            "tags": []
          }
        }
      ]
    },
    {
      "cell_type": "code",
      "metadata": {
        "id": "VwgGvQsDOZ5T"
      },
      "source": [
        "# Now turn the full data into numpy arrays\n",
        "\n",
        "# Not yet in the final \"X\" format!\n",
        "input_data = df[['open', 'high', 'low', 'close', 'volume']].values\n",
        "targets = df['Return'].values"
      ],
      "execution_count": null,
      "outputs": []
    },
    {
      "cell_type": "code",
      "metadata": {
        "id": "-sdYhd7mObwI"
      },
      "source": [
        "# Now make the actual data which will go into the neural network\n",
        "T = 10 # the number of time steps to look at to make a prediction for the next day\n",
        "D = input_data.shape[1]\n",
        "N = len(input_data) - T # (e.g. if T=10 and you have 11 data points then you'd only have 1 sample)"
      ],
      "execution_count": null,
      "outputs": []
    },
    {
      "cell_type": "code",
      "metadata": {
        "id": "79CkMlgHOejZ"
      },
      "source": [
        "# normalize the inputs\n",
        "Ntrain = len(input_data) * 2 // 3\n",
        "scaler = StandardScaler()\n",
        "scaler.fit(input_data[:Ntrain + T - 1])\n",
        "input_data = scaler.transform(input_data)"
      ],
      "execution_count": null,
      "outputs": []
    },
    {
      "cell_type": "code",
      "metadata": {
        "id": "bfQcj1gpOme2"
      },
      "source": [
        "# Setup X_train and Y_train\n",
        "X_train = np.zeros((Ntrain, T, D))\n",
        "Y_train = np.zeros(Ntrain)\n",
        "\n",
        "for t in range(Ntrain):\n",
        "  X_train[t, :, :] = input_data[t:t+T]\n",
        "  Y_train[t] = (targets[t+T] > 0)"
      ],
      "execution_count": null,
      "outputs": []
    },
    {
      "cell_type": "code",
      "metadata": {
        "id": "HhUo6COMOsZi"
      },
      "source": [
        "# Setup X_test and Y_test\n",
        "X_test = np.zeros((N - Ntrain, T, D))\n",
        "Y_test = np.zeros(N - Ntrain)\n",
        "\n",
        "for u in range(N - Ntrain):\n",
        "  # u counts from 0...(N - Ntrain)\n",
        "  # t counts from Ntrain...N\n",
        "  t = u + Ntrain\n",
        "  X_test[u, :, :] = input_data[t:t+T]\n",
        "  Y_test[u] = (targets[t+T] > 0)"
      ],
      "execution_count": null,
      "outputs": []
    },
    {
      "cell_type": "code",
      "metadata": {
        "id": "7tBDk_1FRUFt"
      },
      "source": [
        "# make the RNN\n",
        "i = Input(shape=(T, D))\n",
        "x = LSTM(50)(i)\n",
        "x = Dense(1, activation='sigmoid')(x)\n",
        "model = Model(i, x)\n",
        "model.compile(\n",
        "  loss='binary_crossentropy',\n",
        "  optimizer=Adam(lr=0.001),\n",
        "  metrics=['accuracy'],\n",
        ")"
      ],
      "execution_count": null,
      "outputs": []
    },
    {
      "cell_type": "code",
      "metadata": {
        "id": "IQqNykvGRXGz",
        "outputId": "f7a11389-9562-466d-c136-cdc0909099f4",
        "colab": {
          "base_uri": "https://localhost:8080/",
          "height": 1000
        }
      },
      "source": [
        "# train the RNN\n",
        "r = model.fit(\n",
        "  X_train, Y_train,\n",
        "  batch_size=32,\n",
        "  epochs=300,\n",
        "  validation_data=(X_test, Y_test),\n",
        ")"
      ],
      "execution_count": null,
      "outputs": [
        {
          "output_type": "stream",
          "text": [
            "WARNING: Logging before flag parsing goes to stderr.\n",
            "W0803 17:30:48.500098 140132640524160 deprecation.py:323] From /usr/local/lib/python3.6/dist-packages/tensorflow/python/ops/math_grad.py:1250: add_dispatch_support.<locals>.wrapper (from tensorflow.python.ops.array_ops) is deprecated and will be removed in a future version.\n",
            "Instructions for updating:\n",
            "Use tf.where in 2.0, which has the same broadcast rule as np.where\n"
          ],
          "name": "stderr"
        },
        {
          "output_type": "stream",
          "text": [
            "Train on 839 samples, validate on 410 samples\n",
            "Epoch 1/300\n",
            "839/839 [==============================] - 1s 2ms/sample - loss: 0.6995 - accuracy: 0.4923 - val_loss: 0.6965 - val_accuracy: 0.4732\n",
            "Epoch 2/300\n",
            "839/839 [==============================] - 0s 232us/sample - loss: 0.6937 - accuracy: 0.5221 - val_loss: 0.6970 - val_accuracy: 0.4805\n",
            "Epoch 3/300\n",
            "839/839 [==============================] - 0s 225us/sample - loss: 0.6925 - accuracy: 0.5185 - val_loss: 0.6938 - val_accuracy: 0.4951\n",
            "Epoch 4/300\n",
            "839/839 [==============================] - 0s 225us/sample - loss: 0.6914 - accuracy: 0.5125 - val_loss: 0.6922 - val_accuracy: 0.5220\n",
            "Epoch 5/300\n",
            "839/839 [==============================] - 0s 228us/sample - loss: 0.6915 - accuracy: 0.5280 - val_loss: 0.6944 - val_accuracy: 0.4927\n",
            "Epoch 6/300\n",
            "839/839 [==============================] - 0s 246us/sample - loss: 0.6920 - accuracy: 0.5185 - val_loss: 0.6923 - val_accuracy: 0.4927\n",
            "Epoch 7/300\n",
            "839/839 [==============================] - 0s 228us/sample - loss: 0.6929 - accuracy: 0.5352 - val_loss: 0.7042 - val_accuracy: 0.4854\n",
            "Epoch 8/300\n",
            "839/839 [==============================] - 0s 229us/sample - loss: 0.6918 - accuracy: 0.5435 - val_loss: 0.6933 - val_accuracy: 0.5000\n",
            "Epoch 9/300\n",
            "839/839 [==============================] - 0s 227us/sample - loss: 0.6900 - accuracy: 0.5280 - val_loss: 0.6942 - val_accuracy: 0.5024\n",
            "Epoch 10/300\n",
            "839/839 [==============================] - 0s 232us/sample - loss: 0.6905 - accuracy: 0.5185 - val_loss: 0.6937 - val_accuracy: 0.5000\n",
            "Epoch 11/300\n",
            "839/839 [==============================] - 0s 237us/sample - loss: 0.6892 - accuracy: 0.5209 - val_loss: 0.6926 - val_accuracy: 0.4902\n",
            "Epoch 12/300\n",
            "839/839 [==============================] - 0s 224us/sample - loss: 0.6897 - accuracy: 0.5364 - val_loss: 0.6930 - val_accuracy: 0.4878\n",
            "Epoch 13/300\n",
            "839/839 [==============================] - 0s 233us/sample - loss: 0.6888 - accuracy: 0.5352 - val_loss: 0.6965 - val_accuracy: 0.5024\n",
            "Epoch 14/300\n",
            "839/839 [==============================] - 0s 237us/sample - loss: 0.6878 - accuracy: 0.5411 - val_loss: 0.6956 - val_accuracy: 0.4976\n",
            "Epoch 15/300\n",
            "839/839 [==============================] - 0s 227us/sample - loss: 0.6883 - accuracy: 0.5399 - val_loss: 0.6949 - val_accuracy: 0.4878\n",
            "Epoch 16/300\n",
            "839/839 [==============================] - 0s 240us/sample - loss: 0.6882 - accuracy: 0.5447 - val_loss: 0.6910 - val_accuracy: 0.5195\n",
            "Epoch 17/300\n",
            "839/839 [==============================] - 0s 227us/sample - loss: 0.6861 - accuracy: 0.5650 - val_loss: 0.6932 - val_accuracy: 0.4976\n",
            "Epoch 18/300\n",
            "839/839 [==============================] - 0s 232us/sample - loss: 0.6869 - accuracy: 0.5626 - val_loss: 0.6933 - val_accuracy: 0.4878\n",
            "Epoch 19/300\n",
            "839/839 [==============================] - 0s 226us/sample - loss: 0.6861 - accuracy: 0.5578 - val_loss: 0.6946 - val_accuracy: 0.4878\n",
            "Epoch 20/300\n",
            "839/839 [==============================] - 0s 232us/sample - loss: 0.6860 - accuracy: 0.5662 - val_loss: 0.6928 - val_accuracy: 0.5171\n",
            "Epoch 21/300\n",
            "839/839 [==============================] - 0s 223us/sample - loss: 0.6867 - accuracy: 0.5244 - val_loss: 0.6930 - val_accuracy: 0.5171\n",
            "Epoch 22/300\n",
            "839/839 [==============================] - 0s 245us/sample - loss: 0.6864 - accuracy: 0.5530 - val_loss: 0.6916 - val_accuracy: 0.5195\n",
            "Epoch 23/300\n",
            "839/839 [==============================] - 0s 231us/sample - loss: 0.6866 - accuracy: 0.5352 - val_loss: 0.6941 - val_accuracy: 0.4927\n",
            "Epoch 24/300\n",
            "839/839 [==============================] - 0s 229us/sample - loss: 0.6856 - accuracy: 0.5721 - val_loss: 0.6930 - val_accuracy: 0.5220\n",
            "Epoch 25/300\n",
            "839/839 [==============================] - 0s 230us/sample - loss: 0.6857 - accuracy: 0.5387 - val_loss: 0.6930 - val_accuracy: 0.5220\n",
            "Epoch 26/300\n",
            "839/839 [==============================] - 0s 232us/sample - loss: 0.6878 - accuracy: 0.5602 - val_loss: 0.6960 - val_accuracy: 0.4927\n",
            "Epoch 27/300\n",
            "839/839 [==============================] - 0s 256us/sample - loss: 0.6875 - accuracy: 0.5328 - val_loss: 0.6939 - val_accuracy: 0.4854\n",
            "Epoch 28/300\n",
            "839/839 [==============================] - 0s 230us/sample - loss: 0.6857 - accuracy: 0.5518 - val_loss: 0.6920 - val_accuracy: 0.5220\n",
            "Epoch 29/300\n",
            "839/839 [==============================] - 0s 226us/sample - loss: 0.6857 - accuracy: 0.5495 - val_loss: 0.6931 - val_accuracy: 0.5098\n",
            "Epoch 30/300\n",
            "839/839 [==============================] - 0s 231us/sample - loss: 0.6834 - accuracy: 0.5602 - val_loss: 0.6951 - val_accuracy: 0.5098\n",
            "Epoch 31/300\n",
            "839/839 [==============================] - 0s 229us/sample - loss: 0.6825 - accuracy: 0.5638 - val_loss: 0.6936 - val_accuracy: 0.5146\n",
            "Epoch 32/300\n",
            "839/839 [==============================] - 0s 244us/sample - loss: 0.6828 - accuracy: 0.5745 - val_loss: 0.6937 - val_accuracy: 0.5171\n",
            "Epoch 33/300\n",
            "839/839 [==============================] - 0s 228us/sample - loss: 0.6822 - accuracy: 0.5721 - val_loss: 0.6941 - val_accuracy: 0.5146\n",
            "Epoch 34/300\n",
            "839/839 [==============================] - 0s 225us/sample - loss: 0.6829 - accuracy: 0.5685 - val_loss: 0.6959 - val_accuracy: 0.5122\n",
            "Epoch 35/300\n",
            "839/839 [==============================] - 0s 226us/sample - loss: 0.6818 - accuracy: 0.5638 - val_loss: 0.6941 - val_accuracy: 0.5171\n",
            "Epoch 36/300\n",
            "839/839 [==============================] - 0s 263us/sample - loss: 0.6816 - accuracy: 0.5733 - val_loss: 0.6930 - val_accuracy: 0.5195\n",
            "Epoch 37/300\n",
            "839/839 [==============================] - 0s 241us/sample - loss: 0.6817 - accuracy: 0.5650 - val_loss: 0.6951 - val_accuracy: 0.5220\n",
            "Epoch 38/300\n",
            "839/839 [==============================] - 0s 225us/sample - loss: 0.6816 - accuracy: 0.5507 - val_loss: 0.6927 - val_accuracy: 0.5341\n",
            "Epoch 39/300\n",
            "839/839 [==============================] - 0s 235us/sample - loss: 0.6803 - accuracy: 0.5793 - val_loss: 0.6947 - val_accuracy: 0.5122\n",
            "Epoch 40/300\n",
            "839/839 [==============================] - 0s 228us/sample - loss: 0.6795 - accuracy: 0.5626 - val_loss: 0.6942 - val_accuracy: 0.5268\n",
            "Epoch 41/300\n",
            "839/839 [==============================] - 0s 224us/sample - loss: 0.6792 - accuracy: 0.5626 - val_loss: 0.6946 - val_accuracy: 0.5220\n",
            "Epoch 42/300\n",
            "839/839 [==============================] - 0s 246us/sample - loss: 0.6796 - accuracy: 0.5745 - val_loss: 0.6931 - val_accuracy: 0.5244\n",
            "Epoch 43/300\n",
            "839/839 [==============================] - 0s 224us/sample - loss: 0.6795 - accuracy: 0.5542 - val_loss: 0.6962 - val_accuracy: 0.5122\n",
            "Epoch 44/300\n",
            "839/839 [==============================] - 0s 237us/sample - loss: 0.6784 - accuracy: 0.5781 - val_loss: 0.6947 - val_accuracy: 0.5122\n",
            "Epoch 45/300\n",
            "839/839 [==============================] - 0s 227us/sample - loss: 0.6755 - accuracy: 0.5769 - val_loss: 0.6987 - val_accuracy: 0.5073\n",
            "Epoch 46/300\n",
            "839/839 [==============================] - 0s 228us/sample - loss: 0.6799 - accuracy: 0.5578 - val_loss: 0.6950 - val_accuracy: 0.5171\n",
            "Epoch 47/300\n",
            "839/839 [==============================] - 0s 251us/sample - loss: 0.6779 - accuracy: 0.5757 - val_loss: 0.6953 - val_accuracy: 0.5098\n",
            "Epoch 48/300\n",
            "839/839 [==============================] - 0s 234us/sample - loss: 0.6765 - accuracy: 0.5685 - val_loss: 0.6953 - val_accuracy: 0.5049\n",
            "Epoch 49/300\n",
            "839/839 [==============================] - 0s 229us/sample - loss: 0.6738 - accuracy: 0.5733 - val_loss: 0.6964 - val_accuracy: 0.5049\n",
            "Epoch 50/300\n",
            "839/839 [==============================] - 0s 230us/sample - loss: 0.6753 - accuracy: 0.5662 - val_loss: 0.6969 - val_accuracy: 0.5098\n",
            "Epoch 51/300\n",
            "839/839 [==============================] - 0s 231us/sample - loss: 0.6733 - accuracy: 0.5745 - val_loss: 0.6973 - val_accuracy: 0.5098\n",
            "Epoch 52/300\n",
            "839/839 [==============================] - 0s 253us/sample - loss: 0.6744 - accuracy: 0.5757 - val_loss: 0.7016 - val_accuracy: 0.4976\n",
            "Epoch 53/300\n",
            "839/839 [==============================] - 0s 227us/sample - loss: 0.6717 - accuracy: 0.5650 - val_loss: 0.6987 - val_accuracy: 0.5122\n",
            "Epoch 54/300\n",
            "839/839 [==============================] - 0s 220us/sample - loss: 0.6703 - accuracy: 0.5709 - val_loss: 0.6997 - val_accuracy: 0.4976\n",
            "Epoch 55/300\n",
            "839/839 [==============================] - 0s 233us/sample - loss: 0.6695 - accuracy: 0.5864 - val_loss: 0.6986 - val_accuracy: 0.5073\n",
            "Epoch 56/300\n",
            "839/839 [==============================] - 0s 231us/sample - loss: 0.6708 - accuracy: 0.5781 - val_loss: 0.7012 - val_accuracy: 0.5024\n",
            "Epoch 57/300\n",
            "839/839 [==============================] - 0s 225us/sample - loss: 0.6716 - accuracy: 0.5745 - val_loss: 0.7007 - val_accuracy: 0.5024\n",
            "Epoch 58/300\n",
            "839/839 [==============================] - 0s 243us/sample - loss: 0.6699 - accuracy: 0.5828 - val_loss: 0.7017 - val_accuracy: 0.4902\n",
            "Epoch 59/300\n",
            "839/839 [==============================] - 0s 230us/sample - loss: 0.6656 - accuracy: 0.5840 - val_loss: 0.7005 - val_accuracy: 0.5146\n",
            "Epoch 60/300\n",
            "839/839 [==============================] - 0s 229us/sample - loss: 0.6654 - accuracy: 0.5781 - val_loss: 0.7066 - val_accuracy: 0.5000\n",
            "Epoch 61/300\n",
            "839/839 [==============================] - 0s 224us/sample - loss: 0.6689 - accuracy: 0.5685 - val_loss: 0.7009 - val_accuracy: 0.5098\n",
            "Epoch 62/300\n",
            "839/839 [==============================] - 0s 231us/sample - loss: 0.6640 - accuracy: 0.6007 - val_loss: 0.7120 - val_accuracy: 0.4951\n",
            "Epoch 63/300\n",
            "839/839 [==============================] - 0s 239us/sample - loss: 0.6632 - accuracy: 0.5864 - val_loss: 0.6998 - val_accuracy: 0.5049\n",
            "Epoch 64/300\n",
            "839/839 [==============================] - 0s 236us/sample - loss: 0.6655 - accuracy: 0.5959 - val_loss: 0.7051 - val_accuracy: 0.5122\n",
            "Epoch 65/300\n",
            "839/839 [==============================] - 0s 227us/sample - loss: 0.6616 - accuracy: 0.5864 - val_loss: 0.7050 - val_accuracy: 0.4951\n",
            "Epoch 66/300\n",
            "839/839 [==============================] - 0s 227us/sample - loss: 0.6598 - accuracy: 0.5948 - val_loss: 0.7053 - val_accuracy: 0.4878\n",
            "Epoch 67/300\n",
            "839/839 [==============================] - 0s 235us/sample - loss: 0.6596 - accuracy: 0.5912 - val_loss: 0.7044 - val_accuracy: 0.4976\n",
            "Epoch 68/300\n",
            "839/839 [==============================] - 0s 238us/sample - loss: 0.6580 - accuracy: 0.5971 - val_loss: 0.7052 - val_accuracy: 0.5049\n",
            "Epoch 69/300\n",
            "839/839 [==============================] - 0s 229us/sample - loss: 0.6559 - accuracy: 0.5959 - val_loss: 0.7074 - val_accuracy: 0.5000\n",
            "Epoch 70/300\n",
            "839/839 [==============================] - 0s 227us/sample - loss: 0.6579 - accuracy: 0.6019 - val_loss: 0.7053 - val_accuracy: 0.5049\n",
            "Epoch 71/300\n",
            "839/839 [==============================] - 0s 236us/sample - loss: 0.6540 - accuracy: 0.5948 - val_loss: 0.7123 - val_accuracy: 0.4829\n",
            "Epoch 72/300\n",
            "839/839 [==============================] - 0s 238us/sample - loss: 0.6532 - accuracy: 0.6031 - val_loss: 0.7101 - val_accuracy: 0.5000\n",
            "Epoch 73/300\n",
            "839/839 [==============================] - 0s 250us/sample - loss: 0.6518 - accuracy: 0.5995 - val_loss: 0.7110 - val_accuracy: 0.4927\n",
            "Epoch 74/300\n",
            "839/839 [==============================] - 0s 231us/sample - loss: 0.6512 - accuracy: 0.5888 - val_loss: 0.7119 - val_accuracy: 0.4902\n",
            "Epoch 75/300\n",
            "839/839 [==============================] - 0s 230us/sample - loss: 0.6467 - accuracy: 0.6019 - val_loss: 0.7134 - val_accuracy: 0.5049\n",
            "Epoch 76/300\n",
            "839/839 [==============================] - 0s 235us/sample - loss: 0.6500 - accuracy: 0.6031 - val_loss: 0.7183 - val_accuracy: 0.4902\n",
            "Epoch 77/300\n",
            "839/839 [==============================] - 0s 234us/sample - loss: 0.6479 - accuracy: 0.6079 - val_loss: 0.7141 - val_accuracy: 0.4854\n",
            "Epoch 78/300\n",
            "839/839 [==============================] - 0s 250us/sample - loss: 0.6475 - accuracy: 0.6174 - val_loss: 0.7129 - val_accuracy: 0.4976\n",
            "Epoch 79/300\n",
            "839/839 [==============================] - 0s 229us/sample - loss: 0.6503 - accuracy: 0.5995 - val_loss: 0.7134 - val_accuracy: 0.4976\n",
            "Epoch 80/300\n",
            "839/839 [==============================] - 0s 232us/sample - loss: 0.6484 - accuracy: 0.5936 - val_loss: 0.7196 - val_accuracy: 0.4878\n",
            "Epoch 81/300\n",
            "839/839 [==============================] - 0s 229us/sample - loss: 0.6427 - accuracy: 0.6114 - val_loss: 0.7213 - val_accuracy: 0.4902\n",
            "Epoch 82/300\n",
            "839/839 [==============================] - 0s 231us/sample - loss: 0.6402 - accuracy: 0.6079 - val_loss: 0.7244 - val_accuracy: 0.4902\n",
            "Epoch 83/300\n",
            "839/839 [==============================] - 0s 239us/sample - loss: 0.6366 - accuracy: 0.6174 - val_loss: 0.7321 - val_accuracy: 0.4902\n",
            "Epoch 84/300\n",
            "839/839 [==============================] - 0s 231us/sample - loss: 0.6365 - accuracy: 0.6246 - val_loss: 0.7324 - val_accuracy: 0.4707\n",
            "Epoch 85/300\n",
            "839/839 [==============================] - 0s 231us/sample - loss: 0.6364 - accuracy: 0.6103 - val_loss: 0.7287 - val_accuracy: 0.4878\n",
            "Epoch 86/300\n",
            "839/839 [==============================] - 0s 232us/sample - loss: 0.6331 - accuracy: 0.6317 - val_loss: 0.7351 - val_accuracy: 0.4780\n",
            "Epoch 87/300\n",
            "839/839 [==============================] - 0s 223us/sample - loss: 0.6262 - accuracy: 0.6389 - val_loss: 0.7337 - val_accuracy: 0.4683\n",
            "Epoch 88/300\n",
            "839/839 [==============================] - 0s 271us/sample - loss: 0.6332 - accuracy: 0.6210 - val_loss: 0.7299 - val_accuracy: 0.4878\n",
            "Epoch 89/300\n",
            "839/839 [==============================] - 0s 232us/sample - loss: 0.6295 - accuracy: 0.6234 - val_loss: 0.7332 - val_accuracy: 0.4659\n",
            "Epoch 90/300\n",
            "839/839 [==============================] - 0s 233us/sample - loss: 0.6278 - accuracy: 0.6234 - val_loss: 0.7433 - val_accuracy: 0.4707\n",
            "Epoch 91/300\n",
            "839/839 [==============================] - 0s 227us/sample - loss: 0.6265 - accuracy: 0.6210 - val_loss: 0.7453 - val_accuracy: 0.4707\n",
            "Epoch 92/300\n",
            "839/839 [==============================] - 0s 234us/sample - loss: 0.6205 - accuracy: 0.6353 - val_loss: 0.7377 - val_accuracy: 0.4561\n",
            "Epoch 93/300\n",
            "839/839 [==============================] - 0s 244us/sample - loss: 0.6213 - accuracy: 0.6472 - val_loss: 0.7452 - val_accuracy: 0.4610\n",
            "Epoch 94/300\n",
            "839/839 [==============================] - 0s 226us/sample - loss: 0.6187 - accuracy: 0.6353 - val_loss: 0.7305 - val_accuracy: 0.4659\n",
            "Epoch 95/300\n",
            "839/839 [==============================] - 0s 234us/sample - loss: 0.6149 - accuracy: 0.6377 - val_loss: 0.7415 - val_accuracy: 0.4756\n",
            "Epoch 96/300\n",
            "839/839 [==============================] - 0s 232us/sample - loss: 0.6211 - accuracy: 0.6389 - val_loss: 0.7494 - val_accuracy: 0.4780\n",
            "Epoch 97/300\n",
            "839/839 [==============================] - 0s 231us/sample - loss: 0.6182 - accuracy: 0.6412 - val_loss: 0.7506 - val_accuracy: 0.4634\n",
            "Epoch 98/300\n",
            "839/839 [==============================] - 0s 229us/sample - loss: 0.6123 - accuracy: 0.6424 - val_loss: 0.7368 - val_accuracy: 0.4805\n",
            "Epoch 99/300\n",
            "839/839 [==============================] - 0s 246us/sample - loss: 0.6165 - accuracy: 0.6317 - val_loss: 0.7546 - val_accuracy: 0.4634\n",
            "Epoch 100/300\n",
            "839/839 [==============================] - 0s 235us/sample - loss: 0.6076 - accuracy: 0.6555 - val_loss: 0.7510 - val_accuracy: 0.4659\n",
            "Epoch 101/300\n",
            "839/839 [==============================] - 0s 229us/sample - loss: 0.6032 - accuracy: 0.6579 - val_loss: 0.7475 - val_accuracy: 0.4780\n",
            "Epoch 102/300\n",
            "839/839 [==============================] - 0s 229us/sample - loss: 0.6038 - accuracy: 0.6460 - val_loss: 0.7579 - val_accuracy: 0.4732\n",
            "Epoch 103/300\n",
            "839/839 [==============================] - 0s 235us/sample - loss: 0.6036 - accuracy: 0.6544 - val_loss: 0.7605 - val_accuracy: 0.4732\n",
            "Epoch 104/300\n",
            "839/839 [==============================] - 0s 257us/sample - loss: 0.6001 - accuracy: 0.6555 - val_loss: 0.7650 - val_accuracy: 0.4854\n",
            "Epoch 105/300\n",
            "839/839 [==============================] - 0s 221us/sample - loss: 0.5982 - accuracy: 0.6579 - val_loss: 0.7669 - val_accuracy: 0.4659\n",
            "Epoch 106/300\n",
            "839/839 [==============================] - 0s 225us/sample - loss: 0.5946 - accuracy: 0.6532 - val_loss: 0.7702 - val_accuracy: 0.4634\n",
            "Epoch 107/300\n",
            "839/839 [==============================] - 0s 227us/sample - loss: 0.5914 - accuracy: 0.6484 - val_loss: 0.7694 - val_accuracy: 0.4537\n",
            "Epoch 108/300\n",
            "839/839 [==============================] - 0s 229us/sample - loss: 0.5894 - accuracy: 0.6651 - val_loss: 0.7644 - val_accuracy: 0.4561\n",
            "Epoch 109/300\n",
            "839/839 [==============================] - 0s 243us/sample - loss: 0.5855 - accuracy: 0.6698 - val_loss: 0.7878 - val_accuracy: 0.4561\n",
            "Epoch 110/300\n",
            "839/839 [==============================] - 0s 225us/sample - loss: 0.5890 - accuracy: 0.6722 - val_loss: 0.7798 - val_accuracy: 0.4659\n",
            "Epoch 111/300\n",
            "839/839 [==============================] - 0s 226us/sample - loss: 0.5869 - accuracy: 0.6698 - val_loss: 0.7716 - val_accuracy: 0.4732\n",
            "Epoch 112/300\n",
            "839/839 [==============================] - 0s 239us/sample - loss: 0.5867 - accuracy: 0.6627 - val_loss: 0.7694 - val_accuracy: 0.4732\n",
            "Epoch 113/300\n",
            "839/839 [==============================] - 0s 222us/sample - loss: 0.5815 - accuracy: 0.6722 - val_loss: 0.7673 - val_accuracy: 0.4805\n",
            "Epoch 114/300\n",
            "839/839 [==============================] - 0s 237us/sample - loss: 0.5819 - accuracy: 0.6675 - val_loss: 0.7746 - val_accuracy: 0.4659\n",
            "Epoch 115/300\n",
            "839/839 [==============================] - 0s 230us/sample - loss: 0.5795 - accuracy: 0.6794 - val_loss: 0.7947 - val_accuracy: 0.4488\n",
            "Epoch 116/300\n",
            "839/839 [==============================] - 0s 236us/sample - loss: 0.5747 - accuracy: 0.6794 - val_loss: 0.7833 - val_accuracy: 0.4463\n",
            "Epoch 117/300\n",
            "839/839 [==============================] - 0s 227us/sample - loss: 0.5731 - accuracy: 0.6782 - val_loss: 0.7782 - val_accuracy: 0.4683\n",
            "Epoch 118/300\n",
            "839/839 [==============================] - 0s 233us/sample - loss: 0.5749 - accuracy: 0.6579 - val_loss: 0.7906 - val_accuracy: 0.4561\n",
            "Epoch 119/300\n",
            "839/839 [==============================] - 0s 251us/sample - loss: 0.5842 - accuracy: 0.6698 - val_loss: 0.7910 - val_accuracy: 0.4683\n",
            "Epoch 120/300\n",
            "839/839 [==============================] - 0s 233us/sample - loss: 0.5716 - accuracy: 0.6746 - val_loss: 0.7893 - val_accuracy: 0.4732\n",
            "Epoch 121/300\n",
            "839/839 [==============================] - 0s 226us/sample - loss: 0.5704 - accuracy: 0.6806 - val_loss: 0.7887 - val_accuracy: 0.4707\n",
            "Epoch 122/300\n",
            "839/839 [==============================] - 0s 232us/sample - loss: 0.5719 - accuracy: 0.6746 - val_loss: 0.7765 - val_accuracy: 0.4683\n",
            "Epoch 123/300\n",
            "839/839 [==============================] - 0s 233us/sample - loss: 0.5609 - accuracy: 0.6937 - val_loss: 0.7892 - val_accuracy: 0.4659\n",
            "Epoch 124/300\n",
            "839/839 [==============================] - 0s 253us/sample - loss: 0.5650 - accuracy: 0.6853 - val_loss: 0.7970 - val_accuracy: 0.4610\n",
            "Epoch 125/300\n",
            "839/839 [==============================] - 0s 222us/sample - loss: 0.5561 - accuracy: 0.6925 - val_loss: 0.7993 - val_accuracy: 0.4659\n",
            "Epoch 126/300\n",
            "839/839 [==============================] - 0s 222us/sample - loss: 0.5549 - accuracy: 0.6865 - val_loss: 0.7989 - val_accuracy: 0.4732\n",
            "Epoch 127/300\n",
            "839/839 [==============================] - 0s 230us/sample - loss: 0.5527 - accuracy: 0.6841 - val_loss: 0.8133 - val_accuracy: 0.4683\n",
            "Epoch 128/300\n",
            "839/839 [==============================] - 0s 233us/sample - loss: 0.5459 - accuracy: 0.6996 - val_loss: 0.7921 - val_accuracy: 0.4732\n",
            "Epoch 129/300\n",
            "839/839 [==============================] - 0s 242us/sample - loss: 0.5440 - accuracy: 0.6973 - val_loss: 0.8099 - val_accuracy: 0.4683\n",
            "Epoch 130/300\n",
            "839/839 [==============================] - 0s 224us/sample - loss: 0.5440 - accuracy: 0.6913 - val_loss: 0.8107 - val_accuracy: 0.4756\n",
            "Epoch 131/300\n",
            "839/839 [==============================] - 0s 230us/sample - loss: 0.5413 - accuracy: 0.6949 - val_loss: 0.8150 - val_accuracy: 0.4512\n",
            "Epoch 132/300\n",
            "839/839 [==============================] - 0s 233us/sample - loss: 0.5446 - accuracy: 0.7032 - val_loss: 0.8127 - val_accuracy: 0.4756\n",
            "Epoch 133/300\n",
            "839/839 [==============================] - 0s 220us/sample - loss: 0.5357 - accuracy: 0.7199 - val_loss: 0.8074 - val_accuracy: 0.4610\n",
            "Epoch 134/300\n",
            "839/839 [==============================] - 0s 229us/sample - loss: 0.5530 - accuracy: 0.6877 - val_loss: 0.8165 - val_accuracy: 0.4634\n",
            "Epoch 135/300\n",
            "839/839 [==============================] - 0s 250us/sample - loss: 0.5324 - accuracy: 0.7175 - val_loss: 0.8221 - val_accuracy: 0.4634\n",
            "Epoch 136/300\n",
            "839/839 [==============================] - 0s 231us/sample - loss: 0.5403 - accuracy: 0.7068 - val_loss: 0.8180 - val_accuracy: 0.4537\n",
            "Epoch 137/300\n",
            "839/839 [==============================] - 0s 228us/sample - loss: 0.5320 - accuracy: 0.7163 - val_loss: 0.8175 - val_accuracy: 0.4732\n",
            "Epoch 138/300\n",
            "839/839 [==============================] - 0s 222us/sample - loss: 0.5369 - accuracy: 0.7008 - val_loss: 0.8190 - val_accuracy: 0.4512\n",
            "Epoch 139/300\n",
            "839/839 [==============================] - 0s 261us/sample - loss: 0.5270 - accuracy: 0.7128 - val_loss: 0.8141 - val_accuracy: 0.4683\n",
            "Epoch 140/300\n",
            "839/839 [==============================] - 0s 240us/sample - loss: 0.5216 - accuracy: 0.7282 - val_loss: 0.8281 - val_accuracy: 0.4463\n",
            "Epoch 141/300\n",
            "839/839 [==============================] - 0s 224us/sample - loss: 0.5183 - accuracy: 0.7235 - val_loss: 0.8204 - val_accuracy: 0.4683\n",
            "Epoch 142/300\n",
            "839/839 [==============================] - 0s 224us/sample - loss: 0.5174 - accuracy: 0.7259 - val_loss: 0.8253 - val_accuracy: 0.4561\n",
            "Epoch 143/300\n",
            "839/839 [==============================] - 0s 225us/sample - loss: 0.5185 - accuracy: 0.7223 - val_loss: 0.8074 - val_accuracy: 0.4732\n",
            "Epoch 144/300\n",
            "839/839 [==============================] - 0s 235us/sample - loss: 0.5198 - accuracy: 0.7259 - val_loss: 0.8325 - val_accuracy: 0.4488\n",
            "Epoch 145/300\n",
            "839/839 [==============================] - 0s 238us/sample - loss: 0.5041 - accuracy: 0.7366 - val_loss: 0.8289 - val_accuracy: 0.4585\n",
            "Epoch 146/300\n",
            "839/839 [==============================] - 0s 231us/sample - loss: 0.5039 - accuracy: 0.7354 - val_loss: 0.8330 - val_accuracy: 0.4634\n",
            "Epoch 147/300\n",
            "839/839 [==============================] - 0s 233us/sample - loss: 0.5029 - accuracy: 0.7461 - val_loss: 0.8260 - val_accuracy: 0.4439\n",
            "Epoch 148/300\n",
            "839/839 [==============================] - 0s 229us/sample - loss: 0.5089 - accuracy: 0.7294 - val_loss: 0.8477 - val_accuracy: 0.4659\n",
            "Epoch 149/300\n",
            "839/839 [==============================] - 0s 226us/sample - loss: 0.4999 - accuracy: 0.7414 - val_loss: 0.8250 - val_accuracy: 0.4439\n",
            "Epoch 150/300\n",
            "839/839 [==============================] - 0s 238us/sample - loss: 0.4918 - accuracy: 0.7390 - val_loss: 0.8383 - val_accuracy: 0.4634\n",
            "Epoch 151/300\n",
            "839/839 [==============================] - 0s 227us/sample - loss: 0.4952 - accuracy: 0.7366 - val_loss: 0.8418 - val_accuracy: 0.4634\n",
            "Epoch 152/300\n",
            "839/839 [==============================] - 0s 236us/sample - loss: 0.4889 - accuracy: 0.7521 - val_loss: 0.8415 - val_accuracy: 0.4585\n",
            "Epoch 153/300\n",
            "839/839 [==============================] - 0s 227us/sample - loss: 0.4829 - accuracy: 0.7545 - val_loss: 0.8385 - val_accuracy: 0.4610\n",
            "Epoch 154/300\n",
            "839/839 [==============================] - 0s 222us/sample - loss: 0.4856 - accuracy: 0.7414 - val_loss: 0.8599 - val_accuracy: 0.4561\n",
            "Epoch 155/300\n",
            "839/839 [==============================] - 0s 235us/sample - loss: 0.4784 - accuracy: 0.7557 - val_loss: 0.8614 - val_accuracy: 0.4512\n",
            "Epoch 156/300\n",
            "839/839 [==============================] - 0s 223us/sample - loss: 0.4741 - accuracy: 0.7628 - val_loss: 0.8526 - val_accuracy: 0.4512\n",
            "Epoch 157/300\n",
            "839/839 [==============================] - 0s 228us/sample - loss: 0.4781 - accuracy: 0.7688 - val_loss: 0.8476 - val_accuracy: 0.4707\n",
            "Epoch 158/300\n",
            "839/839 [==============================] - 0s 229us/sample - loss: 0.4776 - accuracy: 0.7485 - val_loss: 0.8494 - val_accuracy: 0.4537\n",
            "Epoch 159/300\n",
            "839/839 [==============================] - 0s 230us/sample - loss: 0.4717 - accuracy: 0.7497 - val_loss: 0.8671 - val_accuracy: 0.4488\n",
            "Epoch 160/300\n",
            "839/839 [==============================] - 0s 239us/sample - loss: 0.4660 - accuracy: 0.7664 - val_loss: 0.8559 - val_accuracy: 0.4610\n",
            "Epoch 161/300\n",
            "839/839 [==============================] - 0s 225us/sample - loss: 0.4675 - accuracy: 0.7592 - val_loss: 0.8709 - val_accuracy: 0.4634\n",
            "Epoch 162/300\n",
            "839/839 [==============================] - 0s 233us/sample - loss: 0.4657 - accuracy: 0.7652 - val_loss: 0.8544 - val_accuracy: 0.4659\n",
            "Epoch 163/300\n",
            "839/839 [==============================] - 0s 227us/sample - loss: 0.4662 - accuracy: 0.7592 - val_loss: 0.8584 - val_accuracy: 0.4634\n",
            "Epoch 164/300\n",
            "839/839 [==============================] - 0s 239us/sample - loss: 0.4613 - accuracy: 0.7783 - val_loss: 0.8703 - val_accuracy: 0.4634\n",
            "Epoch 165/300\n",
            "839/839 [==============================] - 0s 226us/sample - loss: 0.4571 - accuracy: 0.7747 - val_loss: 0.8628 - val_accuracy: 0.4634\n",
            "Epoch 166/300\n",
            "839/839 [==============================] - 0s 255us/sample - loss: 0.4465 - accuracy: 0.7747 - val_loss: 0.8725 - val_accuracy: 0.4683\n",
            "Epoch 167/300\n",
            "839/839 [==============================] - 0s 232us/sample - loss: 0.4495 - accuracy: 0.7795 - val_loss: 0.8717 - val_accuracy: 0.4805\n",
            "Epoch 168/300\n",
            "839/839 [==============================] - 0s 224us/sample - loss: 0.4508 - accuracy: 0.7783 - val_loss: 0.8831 - val_accuracy: 0.4659\n",
            "Epoch 169/300\n",
            "839/839 [==============================] - 0s 227us/sample - loss: 0.4540 - accuracy: 0.7712 - val_loss: 0.8799 - val_accuracy: 0.4707\n",
            "Epoch 170/300\n",
            "839/839 [==============================] - 0s 235us/sample - loss: 0.4417 - accuracy: 0.7819 - val_loss: 0.8839 - val_accuracy: 0.4707\n",
            "Epoch 171/300\n",
            "839/839 [==============================] - 0s 243us/sample - loss: 0.4524 - accuracy: 0.7771 - val_loss: 0.8871 - val_accuracy: 0.4634\n",
            "Epoch 172/300\n",
            "839/839 [==============================] - 0s 229us/sample - loss: 0.4376 - accuracy: 0.7855 - val_loss: 0.8819 - val_accuracy: 0.4732\n",
            "Epoch 173/300\n",
            "839/839 [==============================] - 0s 225us/sample - loss: 0.4345 - accuracy: 0.7867 - val_loss: 0.9004 - val_accuracy: 0.4707\n",
            "Epoch 174/300\n",
            "839/839 [==============================] - 0s 230us/sample - loss: 0.4330 - accuracy: 0.7890 - val_loss: 0.9038 - val_accuracy: 0.4780\n",
            "Epoch 175/300\n",
            "839/839 [==============================] - 0s 231us/sample - loss: 0.4293 - accuracy: 0.7974 - val_loss: 0.8944 - val_accuracy: 0.4659\n",
            "Epoch 176/300\n",
            "839/839 [==============================] - 0s 245us/sample - loss: 0.4300 - accuracy: 0.7878 - val_loss: 0.9014 - val_accuracy: 0.4780\n",
            "Epoch 177/300\n",
            "839/839 [==============================] - 0s 222us/sample - loss: 0.4231 - accuracy: 0.7938 - val_loss: 0.8976 - val_accuracy: 0.4829\n",
            "Epoch 178/300\n",
            "839/839 [==============================] - 0s 233us/sample - loss: 0.4206 - accuracy: 0.7926 - val_loss: 0.9104 - val_accuracy: 0.4829\n",
            "Epoch 179/300\n",
            "839/839 [==============================] - 0s 233us/sample - loss: 0.4240 - accuracy: 0.7902 - val_loss: 0.9080 - val_accuracy: 0.4854\n",
            "Epoch 180/300\n",
            "839/839 [==============================] - 0s 228us/sample - loss: 0.4198 - accuracy: 0.7926 - val_loss: 0.9067 - val_accuracy: 0.4854\n",
            "Epoch 181/300\n",
            "839/839 [==============================] - 0s 240us/sample - loss: 0.4153 - accuracy: 0.7938 - val_loss: 0.9102 - val_accuracy: 0.4878\n",
            "Epoch 182/300\n",
            "839/839 [==============================] - 0s 235us/sample - loss: 0.4161 - accuracy: 0.7926 - val_loss: 0.9071 - val_accuracy: 0.4854\n",
            "Epoch 183/300\n",
            "839/839 [==============================] - 0s 235us/sample - loss: 0.4160 - accuracy: 0.7998 - val_loss: 0.9261 - val_accuracy: 0.4634\n",
            "Epoch 184/300\n",
            "839/839 [==============================] - 0s 224us/sample - loss: 0.4153 - accuracy: 0.7986 - val_loss: 0.9151 - val_accuracy: 0.4683\n",
            "Epoch 185/300\n",
            "839/839 [==============================] - 0s 225us/sample - loss: 0.4110 - accuracy: 0.7926 - val_loss: 0.9413 - val_accuracy: 0.4707\n",
            "Epoch 186/300\n",
            "839/839 [==============================] - 0s 248us/sample - loss: 0.4073 - accuracy: 0.8033 - val_loss: 0.9216 - val_accuracy: 0.4829\n",
            "Epoch 187/300\n",
            "839/839 [==============================] - 0s 229us/sample - loss: 0.3984 - accuracy: 0.8093 - val_loss: 0.9198 - val_accuracy: 0.4878\n",
            "Epoch 188/300\n",
            "839/839 [==============================] - 0s 236us/sample - loss: 0.3971 - accuracy: 0.8081 - val_loss: 0.9325 - val_accuracy: 0.4780\n",
            "Epoch 189/300\n",
            "839/839 [==============================] - 0s 238us/sample - loss: 0.3975 - accuracy: 0.7998 - val_loss: 0.9169 - val_accuracy: 0.4756\n",
            "Epoch 190/300\n",
            "839/839 [==============================] - 0s 253us/sample - loss: 0.3974 - accuracy: 0.8033 - val_loss: 0.9268 - val_accuracy: 0.4780\n",
            "Epoch 191/300\n",
            "839/839 [==============================] - 0s 243us/sample - loss: 0.4044 - accuracy: 0.8045 - val_loss: 0.9188 - val_accuracy: 0.4902\n",
            "Epoch 192/300\n",
            "839/839 [==============================] - 0s 228us/sample - loss: 0.3939 - accuracy: 0.8141 - val_loss: 0.9361 - val_accuracy: 0.4902\n",
            "Epoch 193/300\n",
            "839/839 [==============================] - 0s 230us/sample - loss: 0.3997 - accuracy: 0.8069 - val_loss: 0.9397 - val_accuracy: 0.4805\n",
            "Epoch 194/300\n",
            "839/839 [==============================] - 0s 227us/sample - loss: 0.3846 - accuracy: 0.8200 - val_loss: 0.9364 - val_accuracy: 0.4756\n",
            "Epoch 195/300\n",
            "839/839 [==============================] - 0s 232us/sample - loss: 0.3861 - accuracy: 0.8153 - val_loss: 0.9314 - val_accuracy: 0.4878\n",
            "Epoch 196/300\n",
            "839/839 [==============================] - 0s 258us/sample - loss: 0.3818 - accuracy: 0.8129 - val_loss: 0.9423 - val_accuracy: 0.4976\n",
            "Epoch 197/300\n",
            "839/839 [==============================] - 0s 225us/sample - loss: 0.3822 - accuracy: 0.8141 - val_loss: 0.9365 - val_accuracy: 0.4756\n",
            "Epoch 198/300\n",
            "839/839 [==============================] - 0s 229us/sample - loss: 0.3744 - accuracy: 0.8260 - val_loss: 0.9652 - val_accuracy: 0.4927\n",
            "Epoch 199/300\n",
            "839/839 [==============================] - 0s 230us/sample - loss: 0.3773 - accuracy: 0.8272 - val_loss: 0.9589 - val_accuracy: 0.4780\n",
            "Epoch 200/300\n",
            "839/839 [==============================] - 0s 236us/sample - loss: 0.3652 - accuracy: 0.8391 - val_loss: 0.9297 - val_accuracy: 0.5122\n",
            "Epoch 201/300\n",
            "839/839 [==============================] - 0s 249us/sample - loss: 0.3681 - accuracy: 0.8284 - val_loss: 0.9497 - val_accuracy: 0.4878\n",
            "Epoch 202/300\n",
            "839/839 [==============================] - 0s 228us/sample - loss: 0.3716 - accuracy: 0.8188 - val_loss: 0.9587 - val_accuracy: 0.4780\n",
            "Epoch 203/300\n",
            "839/839 [==============================] - 0s 232us/sample - loss: 0.3610 - accuracy: 0.8319 - val_loss: 0.9399 - val_accuracy: 0.4902\n",
            "Epoch 204/300\n",
            "839/839 [==============================] - 0s 234us/sample - loss: 0.3559 - accuracy: 0.8379 - val_loss: 0.9560 - val_accuracy: 0.5000\n",
            "Epoch 205/300\n",
            "839/839 [==============================] - 0s 237us/sample - loss: 0.3600 - accuracy: 0.8343 - val_loss: 0.9606 - val_accuracy: 0.4927\n",
            "Epoch 206/300\n",
            "839/839 [==============================] - 0s 238us/sample - loss: 0.3483 - accuracy: 0.8415 - val_loss: 0.9535 - val_accuracy: 0.5000\n",
            "Epoch 207/300\n",
            "839/839 [==============================] - 0s 222us/sample - loss: 0.3447 - accuracy: 0.8355 - val_loss: 0.9562 - val_accuracy: 0.4854\n",
            "Epoch 208/300\n",
            "839/839 [==============================] - 0s 228us/sample - loss: 0.3439 - accuracy: 0.8391 - val_loss: 0.9458 - val_accuracy: 0.4780\n",
            "Epoch 209/300\n",
            "839/839 [==============================] - 0s 228us/sample - loss: 0.3452 - accuracy: 0.8427 - val_loss: 0.9819 - val_accuracy: 0.4805\n",
            "Epoch 210/300\n",
            "839/839 [==============================] - 0s 231us/sample - loss: 0.3417 - accuracy: 0.8451 - val_loss: 0.9985 - val_accuracy: 0.4732\n",
            "Epoch 211/300\n",
            "839/839 [==============================] - 0s 229us/sample - loss: 0.3533 - accuracy: 0.8355 - val_loss: 0.9619 - val_accuracy: 0.4805\n",
            "Epoch 212/300\n",
            "839/839 [==============================] - 0s 243us/sample - loss: 0.3368 - accuracy: 0.8522 - val_loss: 0.9666 - val_accuracy: 0.4976\n",
            "Epoch 213/300\n",
            "839/839 [==============================] - 0s 223us/sample - loss: 0.3305 - accuracy: 0.8439 - val_loss: 0.9618 - val_accuracy: 0.4902\n",
            "Epoch 214/300\n",
            "839/839 [==============================] - 0s 236us/sample - loss: 0.3266 - accuracy: 0.8474 - val_loss: 0.9895 - val_accuracy: 0.4927\n",
            "Epoch 215/300\n",
            "839/839 [==============================] - 0s 227us/sample - loss: 0.3365 - accuracy: 0.8343 - val_loss: 0.9858 - val_accuracy: 0.5000\n",
            "Epoch 216/300\n",
            "839/839 [==============================] - 0s 228us/sample - loss: 0.3256 - accuracy: 0.8462 - val_loss: 0.9796 - val_accuracy: 0.4854\n",
            "Epoch 217/300\n",
            "839/839 [==============================] - 0s 249us/sample - loss: 0.3292 - accuracy: 0.8546 - val_loss: 1.0061 - val_accuracy: 0.4780\n",
            "Epoch 218/300\n",
            "839/839 [==============================] - 0s 222us/sample - loss: 0.3259 - accuracy: 0.8439 - val_loss: 1.0063 - val_accuracy: 0.4805\n",
            "Epoch 219/300\n",
            "839/839 [==============================] - 0s 224us/sample - loss: 0.3204 - accuracy: 0.8570 - val_loss: 0.9881 - val_accuracy: 0.4756\n",
            "Epoch 220/300\n",
            "839/839 [==============================] - 0s 229us/sample - loss: 0.3316 - accuracy: 0.8403 - val_loss: 0.9789 - val_accuracy: 0.4854\n",
            "Epoch 221/300\n",
            "839/839 [==============================] - 0s 225us/sample - loss: 0.3185 - accuracy: 0.8486 - val_loss: 1.0082 - val_accuracy: 0.4756\n",
            "Epoch 222/300\n",
            "839/839 [==============================] - 0s 235us/sample - loss: 0.3266 - accuracy: 0.8462 - val_loss: 1.0083 - val_accuracy: 0.4780\n",
            "Epoch 223/300\n",
            "839/839 [==============================] - 0s 220us/sample - loss: 0.3113 - accuracy: 0.8462 - val_loss: 1.0257 - val_accuracy: 0.4756\n",
            "Epoch 224/300\n",
            "839/839 [==============================] - 0s 228us/sample - loss: 0.3023 - accuracy: 0.8641 - val_loss: 1.0054 - val_accuracy: 0.4854\n",
            "Epoch 225/300\n",
            "839/839 [==============================] - 0s 233us/sample - loss: 0.2967 - accuracy: 0.8641 - val_loss: 1.0320 - val_accuracy: 0.4829\n",
            "Epoch 226/300\n",
            "839/839 [==============================] - 0s 225us/sample - loss: 0.3007 - accuracy: 0.8582 - val_loss: 1.0144 - val_accuracy: 0.4756\n",
            "Epoch 227/300\n",
            "839/839 [==============================] - 0s 233us/sample - loss: 0.3366 - accuracy: 0.8439 - val_loss: 1.0106 - val_accuracy: 0.4805\n",
            "Epoch 228/300\n",
            "839/839 [==============================] - 0s 230us/sample - loss: 0.3243 - accuracy: 0.8474 - val_loss: 1.0429 - val_accuracy: 0.4780\n",
            "Epoch 229/300\n",
            "839/839 [==============================] - 0s 241us/sample - loss: 0.2990 - accuracy: 0.8629 - val_loss: 1.0181 - val_accuracy: 0.4927\n",
            "Epoch 230/300\n",
            "839/839 [==============================] - 0s 229us/sample - loss: 0.2901 - accuracy: 0.8594 - val_loss: 1.0292 - val_accuracy: 0.4902\n",
            "Epoch 231/300\n",
            "839/839 [==============================] - 0s 235us/sample - loss: 0.3153 - accuracy: 0.8558 - val_loss: 1.0244 - val_accuracy: 0.4780\n",
            "Epoch 232/300\n",
            "839/839 [==============================] - 0s 234us/sample - loss: 0.2941 - accuracy: 0.8653 - val_loss: 1.0348 - val_accuracy: 0.4927\n",
            "Epoch 233/300\n",
            "839/839 [==============================] - 0s 239us/sample - loss: 0.2882 - accuracy: 0.8629 - val_loss: 1.0568 - val_accuracy: 0.4732\n",
            "Epoch 234/300\n",
            "839/839 [==============================] - 0s 228us/sample - loss: 0.2857 - accuracy: 0.8665 - val_loss: 1.0517 - val_accuracy: 0.4780\n",
            "Epoch 235/300\n",
            "839/839 [==============================] - 0s 226us/sample - loss: 0.2800 - accuracy: 0.8701 - val_loss: 1.0463 - val_accuracy: 0.4659\n",
            "Epoch 236/300\n",
            "839/839 [==============================] - 0s 229us/sample - loss: 0.2967 - accuracy: 0.8629 - val_loss: 1.0587 - val_accuracy: 0.4854\n",
            "Epoch 237/300\n",
            "839/839 [==============================] - 0s 231us/sample - loss: 0.2799 - accuracy: 0.8749 - val_loss: 1.0579 - val_accuracy: 0.4780\n",
            "Epoch 238/300\n",
            "839/839 [==============================] - 0s 260us/sample - loss: 0.2790 - accuracy: 0.8760 - val_loss: 1.0519 - val_accuracy: 0.4780\n",
            "Epoch 239/300\n",
            "839/839 [==============================] - 0s 220us/sample - loss: 0.2760 - accuracy: 0.8737 - val_loss: 1.0895 - val_accuracy: 0.4756\n",
            "Epoch 240/300\n",
            "839/839 [==============================] - 0s 224us/sample - loss: 0.2781 - accuracy: 0.8701 - val_loss: 1.0483 - val_accuracy: 0.4902\n",
            "Epoch 241/300\n",
            "839/839 [==============================] - 0s 264us/sample - loss: 0.2709 - accuracy: 0.8760 - val_loss: 1.0658 - val_accuracy: 0.4756\n",
            "Epoch 242/300\n",
            "839/839 [==============================] - 0s 232us/sample - loss: 0.2641 - accuracy: 0.8808 - val_loss: 1.0596 - val_accuracy: 0.4780\n",
            "Epoch 243/300\n",
            "839/839 [==============================] - 0s 247us/sample - loss: 0.2663 - accuracy: 0.8784 - val_loss: 1.0631 - val_accuracy: 0.4829\n",
            "Epoch 244/300\n",
            "839/839 [==============================] - 0s 234us/sample - loss: 0.2679 - accuracy: 0.8749 - val_loss: 1.0996 - val_accuracy: 0.4780\n",
            "Epoch 245/300\n",
            "839/839 [==============================] - 0s 234us/sample - loss: 0.2604 - accuracy: 0.8737 - val_loss: 1.0590 - val_accuracy: 0.4854\n",
            "Epoch 246/300\n",
            "839/839 [==============================] - 0s 225us/sample - loss: 0.2627 - accuracy: 0.8844 - val_loss: 1.0861 - val_accuracy: 0.4805\n",
            "Epoch 247/300\n",
            "839/839 [==============================] - 0s 223us/sample - loss: 0.2566 - accuracy: 0.8844 - val_loss: 1.0796 - val_accuracy: 0.4780\n",
            "Epoch 248/300\n",
            "839/839 [==============================] - 0s 253us/sample - loss: 0.2547 - accuracy: 0.8820 - val_loss: 1.0945 - val_accuracy: 0.4707\n",
            "Epoch 249/300\n",
            "839/839 [==============================] - 0s 230us/sample - loss: 0.2501 - accuracy: 0.8975 - val_loss: 1.1233 - val_accuracy: 0.4829\n",
            "Epoch 250/300\n",
            "839/839 [==============================] - 0s 224us/sample - loss: 0.2443 - accuracy: 0.8963 - val_loss: 1.1275 - val_accuracy: 0.4756\n",
            "Epoch 251/300\n",
            "839/839 [==============================] - 0s 228us/sample - loss: 0.2532 - accuracy: 0.8808 - val_loss: 1.0957 - val_accuracy: 0.4659\n",
            "Epoch 252/300\n",
            "839/839 [==============================] - 0s 227us/sample - loss: 0.2447 - accuracy: 0.8975 - val_loss: 1.1147 - val_accuracy: 0.4927\n",
            "Epoch 253/300\n",
            "839/839 [==============================] - 0s 241us/sample - loss: 0.2465 - accuracy: 0.8856 - val_loss: 1.1121 - val_accuracy: 0.4707\n",
            "Epoch 254/300\n",
            "839/839 [==============================] - 0s 228us/sample - loss: 0.2442 - accuracy: 0.8844 - val_loss: 1.1563 - val_accuracy: 0.4780\n",
            "Epoch 255/300\n",
            "839/839 [==============================] - 0s 243us/sample - loss: 0.2382 - accuracy: 0.8999 - val_loss: 1.1053 - val_accuracy: 0.4756\n",
            "Epoch 256/300\n",
            "839/839 [==============================] - 0s 229us/sample - loss: 0.2340 - accuracy: 0.8963 - val_loss: 1.1087 - val_accuracy: 0.4805\n",
            "Epoch 257/300\n",
            "839/839 [==============================] - 0s 233us/sample - loss: 0.2360 - accuracy: 0.8951 - val_loss: 1.1373 - val_accuracy: 0.4756\n",
            "Epoch 258/300\n",
            "839/839 [==============================] - 0s 246us/sample - loss: 0.2412 - accuracy: 0.8951 - val_loss: 1.1333 - val_accuracy: 0.4878\n",
            "Epoch 259/300\n",
            "839/839 [==============================] - 0s 227us/sample - loss: 0.2410 - accuracy: 0.8915 - val_loss: 1.1303 - val_accuracy: 0.4878\n",
            "Epoch 260/300\n",
            "839/839 [==============================] - 0s 231us/sample - loss: 0.2266 - accuracy: 0.8987 - val_loss: 1.1675 - val_accuracy: 0.4927\n",
            "Epoch 261/300\n",
            "839/839 [==============================] - 0s 225us/sample - loss: 0.2395 - accuracy: 0.8832 - val_loss: 1.1388 - val_accuracy: 0.4732\n",
            "Epoch 262/300\n",
            "839/839 [==============================] - 0s 232us/sample - loss: 0.2390 - accuracy: 0.8987 - val_loss: 1.1354 - val_accuracy: 0.4683\n",
            "Epoch 263/300\n",
            "839/839 [==============================] - 0s 243us/sample - loss: 0.2320 - accuracy: 0.8939 - val_loss: 1.1302 - val_accuracy: 0.4854\n",
            "Epoch 264/300\n",
            "839/839 [==============================] - 0s 226us/sample - loss: 0.2311 - accuracy: 0.9011 - val_loss: 1.1624 - val_accuracy: 0.4854\n",
            "Epoch 265/300\n",
            "839/839 [==============================] - 0s 228us/sample - loss: 0.2252 - accuracy: 0.9011 - val_loss: 1.1641 - val_accuracy: 0.4951\n",
            "Epoch 266/300\n",
            "839/839 [==============================] - 0s 238us/sample - loss: 0.2339 - accuracy: 0.8975 - val_loss: 1.1559 - val_accuracy: 0.4951\n",
            "Epoch 267/300\n",
            "839/839 [==============================] - 0s 236us/sample - loss: 0.2179 - accuracy: 0.9046 - val_loss: 1.1967 - val_accuracy: 0.4878\n",
            "Epoch 268/300\n",
            "839/839 [==============================] - 0s 246us/sample - loss: 0.2178 - accuracy: 0.9046 - val_loss: 1.1752 - val_accuracy: 0.5024\n",
            "Epoch 269/300\n",
            "839/839 [==============================] - 0s 229us/sample - loss: 0.2176 - accuracy: 0.9070 - val_loss: 1.1572 - val_accuracy: 0.4976\n",
            "Epoch 270/300\n",
            "839/839 [==============================] - 0s 230us/sample - loss: 0.2251 - accuracy: 0.8999 - val_loss: 1.2162 - val_accuracy: 0.4878\n",
            "Epoch 271/300\n",
            "839/839 [==============================] - 0s 240us/sample - loss: 0.3056 - accuracy: 0.8605 - val_loss: 1.1761 - val_accuracy: 0.4878\n",
            "Epoch 272/300\n",
            "839/839 [==============================] - 0s 235us/sample - loss: 0.3435 - accuracy: 0.8403 - val_loss: 1.1900 - val_accuracy: 0.4951\n",
            "Epoch 273/300\n",
            "839/839 [==============================] - 0s 241us/sample - loss: 0.2510 - accuracy: 0.8987 - val_loss: 1.1899 - val_accuracy: 0.4878\n",
            "Epoch 274/300\n",
            "839/839 [==============================] - 0s 226us/sample - loss: 0.2561 - accuracy: 0.8963 - val_loss: 1.2053 - val_accuracy: 0.4829\n",
            "Epoch 275/300\n",
            "839/839 [==============================] - 0s 228us/sample - loss: 0.2505 - accuracy: 0.8987 - val_loss: 1.1747 - val_accuracy: 0.4976\n",
            "Epoch 276/300\n",
            "839/839 [==============================] - 0s 237us/sample - loss: 0.2221 - accuracy: 0.9035 - val_loss: 1.1897 - val_accuracy: 0.4976\n",
            "Epoch 277/300\n",
            "839/839 [==============================] - 0s 229us/sample - loss: 0.2093 - accuracy: 0.9094 - val_loss: 1.1901 - val_accuracy: 0.5073\n",
            "Epoch 278/300\n",
            "839/839 [==============================] - 0s 227us/sample - loss: 0.1988 - accuracy: 0.9118 - val_loss: 1.2047 - val_accuracy: 0.4878\n",
            "Epoch 279/300\n",
            "839/839 [==============================] - 0s 255us/sample - loss: 0.1972 - accuracy: 0.9166 - val_loss: 1.2043 - val_accuracy: 0.4902\n",
            "Epoch 280/300\n",
            "839/839 [==============================] - 0s 231us/sample - loss: 0.1923 - accuracy: 0.9190 - val_loss: 1.1818 - val_accuracy: 0.5024\n",
            "Epoch 281/300\n",
            "839/839 [==============================] - 0s 230us/sample - loss: 0.1976 - accuracy: 0.9142 - val_loss: 1.1958 - val_accuracy: 0.4780\n",
            "Epoch 282/300\n",
            "839/839 [==============================] - 0s 231us/sample - loss: 0.1966 - accuracy: 0.9154 - val_loss: 1.2146 - val_accuracy: 0.5024\n",
            "Epoch 283/300\n",
            "839/839 [==============================] - 0s 238us/sample - loss: 0.1929 - accuracy: 0.9154 - val_loss: 1.2188 - val_accuracy: 0.4707\n",
            "Epoch 284/300\n",
            "839/839 [==============================] - 0s 254us/sample - loss: 0.1893 - accuracy: 0.9213 - val_loss: 1.2239 - val_accuracy: 0.4829\n",
            "Epoch 285/300\n",
            "839/839 [==============================] - 0s 228us/sample - loss: 0.1932 - accuracy: 0.9190 - val_loss: 1.1966 - val_accuracy: 0.4927\n",
            "Epoch 286/300\n",
            "839/839 [==============================] - 0s 230us/sample - loss: 0.1886 - accuracy: 0.9201 - val_loss: 1.2821 - val_accuracy: 0.4756\n",
            "Epoch 287/300\n",
            "839/839 [==============================] - 0s 226us/sample - loss: 0.1865 - accuracy: 0.9190 - val_loss: 1.2937 - val_accuracy: 0.4756\n",
            "Epoch 288/300\n",
            "839/839 [==============================] - 0s 225us/sample - loss: 0.1829 - accuracy: 0.9225 - val_loss: 1.2400 - val_accuracy: 0.5122\n",
            "Epoch 289/300\n",
            "839/839 [==============================] - 0s 241us/sample - loss: 0.1895 - accuracy: 0.9142 - val_loss: 1.2456 - val_accuracy: 0.4780\n",
            "Epoch 290/300\n",
            "839/839 [==============================] - 0s 226us/sample - loss: 0.1847 - accuracy: 0.9166 - val_loss: 1.2518 - val_accuracy: 0.4951\n",
            "Epoch 291/300\n",
            "839/839 [==============================] - 0s 234us/sample - loss: 0.1777 - accuracy: 0.9249 - val_loss: 1.2598 - val_accuracy: 0.4732\n",
            "Epoch 292/300\n",
            "839/839 [==============================] - 0s 256us/sample - loss: 0.1771 - accuracy: 0.9237 - val_loss: 1.2527 - val_accuracy: 0.4902\n",
            "Epoch 293/300\n",
            "839/839 [==============================] - 0s 237us/sample - loss: 0.1735 - accuracy: 0.9273 - val_loss: 1.2976 - val_accuracy: 0.5024\n",
            "Epoch 294/300\n",
            "839/839 [==============================] - 0s 240us/sample - loss: 0.1845 - accuracy: 0.9106 - val_loss: 1.2478 - val_accuracy: 0.4976\n",
            "Epoch 295/300\n",
            "839/839 [==============================] - 0s 229us/sample - loss: 0.1820 - accuracy: 0.9225 - val_loss: 1.2710 - val_accuracy: 0.5122\n",
            "Epoch 296/300\n",
            "839/839 [==============================] - 0s 231us/sample - loss: 0.1829 - accuracy: 0.9154 - val_loss: 1.3229 - val_accuracy: 0.5000\n",
            "Epoch 297/300\n",
            "839/839 [==============================] - 0s 235us/sample - loss: 0.1719 - accuracy: 0.9261 - val_loss: 1.2958 - val_accuracy: 0.4951\n",
            "Epoch 298/300\n",
            "839/839 [==============================] - 0s 222us/sample - loss: 0.1739 - accuracy: 0.9249 - val_loss: 1.2766 - val_accuracy: 0.5049\n",
            "Epoch 299/300\n",
            "839/839 [==============================] - 0s 238us/sample - loss: 0.1712 - accuracy: 0.9249 - val_loss: 1.2826 - val_accuracy: 0.5122\n",
            "Epoch 300/300\n",
            "839/839 [==============================] - 0s 231us/sample - loss: 0.1672 - accuracy: 0.9344 - val_loss: 1.2757 - val_accuracy: 0.5024\n"
          ],
          "name": "stdout"
        }
      ]
    },
    {
      "cell_type": "code",
      "metadata": {
        "id": "erq--mqRRgfR",
        "outputId": "21ff0f1b-83bb-4c4b-e100-5b5b2a0e6cd5",
        "colab": {
          "base_uri": "https://localhost:8080/",
          "height": 269
        }
      },
      "source": [
        "# plot the loss\n",
        "plt.plot(r.history['loss'], label='loss')\n",
        "plt.plot(r.history['val_loss'], label='val_loss')\n",
        "plt.legend()\n",
        "plt.show()"
      ],
      "execution_count": null,
      "outputs": [
        {
          "output_type": "display_data",
          "data": {
            "image/png": "[encoded data removed]",
            "text/plain": [
              "<Figure size 432x288 with 1 Axes>"
            ]
          },
          "metadata": {
            "tags": []
          }
        }
      ]
    },
    {
      "cell_type": "code",
      "metadata": {
        "id": "D9ZzosDMRjBU",
        "outputId": "ce168bc1-9259-4c4a-fceb-a9832602bc1b",
        "colab": {
          "base_uri": "https://localhost:8080/",
          "height": 269
        }
      },
      "source": [
        "# Plot accuracy per iteration\n",
        "plt.plot(r.history['accuracy'], label='accuracy')\n",
        "plt.plot(r.history['val_accuracy'], label='val_accuracy')\n",
        "plt.legend()\n",
        "plt.show()"
      ],
      "execution_count": null,
      "outputs": [
        {
          "output_type": "display_data",
          "data": {
            "image/png": "[encoded data removed]",
            "text/plain": [
              "<Figure size 432x288 with 1 Axes>"
            ]
          },
          "metadata": {
            "tags": []
          }
        }
      ]
    }
  ]
}