{
  "nbformat": 4,
  "nbformat_minor": 0,
  "metadata": {
    "colab": {
      "name": "TF2.0 RNN Shapes.ipynb",
      "provenance": [],
      "collapsed_sections": [],
      "include_colab_link": true
    },
    "kernelspec": {
      "name": "python3",
      "display_name": "Python 3"
    }
  },
  "cells": [
    {
      "cell_type": "markdown",
      "metadata": {
        "id": "view-in-github",
        "colab_type": "text"
      },
      "source": [
        "<a href=\"https://colab.research.google.com/github/Tina-Gh/Machine_Learning/blob/master/RNN/Section%205%3A%20RNN_(3)_TF2_0_RNN_Shapes.ipynb\" target=\"_parent\"><img src=\"https://colab.research.google.com/assets/colab-badge.svg\" alt=\"Open In Colab\"/></a>"
      ]
    },
    {
      "cell_type": "code",
      "metadata": {
        "id": "KiqvBJQlDNPd",
        "outputId": "ae8784b3-3982-45eb-8e92-677af0ab2868",
        "colab": {
          "base_uri": "https://localhost:8080/",
          "height": 85
        }
      },
      "source": [
        "# Install TensorFlow\n",
        "# !pip install -q tensorflow-gpu==2.0.0-beta1\n",
        "\n",
        "try:\n",
        "  %tensorflow_version 2.x  # Colab only.\n",
        "except Exception:\n",
        "  pass\n",
        "\n",
        "import tensorflow as tf\n",
        "print(tf.__version__)"
      ],
      "execution_count": null,
      "outputs": [
        {
          "output_type": "stream",
          "text": [
            "\u001b[K     |████████████████████████████████| 348.9MB 45kB/s \n",
            "\u001b[K     |████████████████████████████████| 501kB 42.9MB/s \n",
            "\u001b[K     |████████████████████████████████| 3.1MB 43.5MB/s \n",
            "\u001b[?25h2.0.0-beta1\n"
          ],
          "name": "stdout"
        }
      ]
    },
    {
      "cell_type": "code",
      "metadata": {
        "id": "Jl8zf2weDiLM"
      },
      "source": [
        "from tensorflow.keras.layers import Input, SimpleRNN, Dense, Flatten\n",
        "from tensorflow.keras.models import Model\n",
        "from tensorflow.keras.optimizers import SGD, Adam\n",
        "\n",
        "import numpy as np\n",
        "import pandas as pd\n",
        "import matplotlib.pyplot as plt"
      ],
      "execution_count": null,
      "outputs": []
    },
    {
      "cell_type": "code",
      "metadata": {
        "id": "LLxnQYNWFfjN"
      },
      "source": [
        "# Things you should automatically know and have memorized\n",
        "# N = number of samples\n",
        "# T = sequence length\n",
        "# D = number of input features\n",
        "# M = number of hidden units\n",
        "# K = number of output units"
      ],
      "execution_count": null,
      "outputs": []
    },
    {
      "cell_type": "code",
      "metadata": {
        "id": "XUM469Z7Dndx"
      },
      "source": [
        "# Make some data\n",
        "N = 1\n",
        "T = 10\n",
        "D = 3\n",
        "K = 2\n",
        "X = np.random.randn(N, T, D)"
      ],
      "execution_count": null,
      "outputs": []
    },
    {
      "cell_type": "code",
      "metadata": {
        "id": "F8ZZ1E2TDxOt"
      },
      "source": [
        "# Make an RNN\n",
        "M = 5 # number of hidden units\n",
        "i = Input(shape=(T, D))\n",
        "x = SimpleRNN(M)(i)\n",
        "x = Dense(K)(x)\n",
        "\n",
        "model = Model(i, x)"
      ],
      "execution_count": null,
      "outputs": []
    },
    {
      "cell_type": "code",
      "metadata": {
        "id": "hLjIp7eZEApH",
        "outputId": "c428b3f9-4ed6-44ac-ac15-d0121a946f21",
        "colab": {
          "base_uri": "https://localhost:8080/",
          "height": 34
        }
      },
      "source": [
        "# Get the output\n",
        "Yhat = model.predict(X)\n",
        "print(Yhat)"
      ],
      "execution_count": null,
      "outputs": [
        {
          "output_type": "stream",
          "text": [
            "[[-0.7062384   0.45167243]]\n"
          ],
          "name": "stdout"
        }
      ]
    },
    {
      "cell_type": "code",
      "metadata": {
        "id": "V-3JmKEgEGc9",
        "outputId": "50f10128-1e76-4f20-c72b-2b1896bb7fb9",
        "colab": {
          "base_uri": "https://localhost:8080/",
          "height": 255
        }
      },
      "source": [
        "# See if we can replicate this output\n",
        "# Get the weights first\n",
        "model.summary()"
      ],
      "execution_count": null,
      "outputs": [
        {
          "output_type": "stream",
          "text": [
            "Model: \"model_1\"\n",
            "_________________________________________________________________\n",
            "Layer (type)                 Output Shape              Param #   \n",
            "=================================================================\n",
            "input_2 (InputLayer)         [(None, 10, 3)]           0         \n",
            "_________________________________________________________________\n",
            "simple_rnn_1 (SimpleRNN)     (None, 5)                 45        \n",
            "_________________________________________________________________\n",
            "dense_1 (Dense)              (None, 2)                 12        \n",
            "=================================================================\n",
            "Total params: 57\n",
            "Trainable params: 57\n",
            "Non-trainable params: 0\n",
            "_________________________________________________________________\n"
          ],
          "name": "stdout"
        }
      ]
    },
    {
      "cell_type": "code",
      "metadata": {
        "id": "Q_FobnZqEbtv",
        "outputId": "7a665488-8ef6-4d02-ee96-7cee7433d6cd",
        "colab": {
          "base_uri": "https://localhost:8080/",
          "height": 204
        }
      },
      "source": [
        "# See what's returned\n",
        "model.layers[1].get_weights()"
      ],
      "execution_count": null,
      "outputs": [
        {
          "output_type": "execute_result",
          "data": {
            "text/plain": [
              "[array([[ 0.06160122,  0.16070706,  0.83621055,  0.04993761, -0.36932853],\n",
              "        [ 0.4978891 , -0.474034  ,  0.55890614,  0.06967717,  0.21268493],\n",
              "        [-0.44685632, -0.28297323, -0.17539108,  0.42829865,  0.22275227]],\n",
              "       dtype=float32),\n",
              " array([[ 0.00272548,  0.04928541,  0.32022277,  0.3270029 ,  0.88774437],\n",
              "        [ 0.6996881 ,  0.64928424, -0.08133215, -0.27187836,  0.09128988],\n",
              "        [-0.22173485,  0.50949985,  0.6649476 ,  0.31805265, -0.38461757],\n",
              "        [ 0.5346833 , -0.24025255, -0.13355102,  0.7674074 , -0.22280595],\n",
              "        [ 0.41877976, -0.50861543,  0.65639263, -0.35927662, -0.07747886]],\n",
              "       dtype=float32),\n",
              " array([0., 0., 0., 0., 0.], dtype=float32)]"
            ]
          },
          "metadata": {
            "tags": []
          },
          "execution_count": 9
        }
      ]
    },
    {
      "cell_type": "code",
      "metadata": {
        "id": "6FWsTeCJEjNc",
        "outputId": "43587cd2-841b-4c7d-9d18-bbdfaee46bbd",
        "colab": {
          "base_uri": "https://localhost:8080/",
          "height": 34
        }
      },
      "source": [
        "# Check their shapes\n",
        "# Should make sense\n",
        "# First output is input > hidden\n",
        "# Second output is hidden > hidden\n",
        "# Third output is bias term (vector of length M)\n",
        "a, b, c = model.layers[1].get_weights()\n",
        "print(a.shape, b.shape, c.shape)"
      ],
      "execution_count": null,
      "outputs": [
        {
          "output_type": "stream",
          "text": [
            "(3, 5) (5, 5) (5,)\n"
          ],
          "name": "stdout"
        }
      ]
    },
    {
      "cell_type": "code",
      "metadata": {
        "id": "eCU8mjC2Ew8C"
      },
      "source": [
        "Wx, Wh, bh = model.layers[1].get_weights()\n",
        "Wo, bo = model.layers[2].get_weights()"
      ],
      "execution_count": null,
      "outputs": []
    },
    {
      "cell_type": "code",
      "metadata": {
        "id": "Z7IT6dz8EV-B",
        "outputId": "fb0937f3-a3fd-4af2-e991-6ea1c3d76806",
        "colab": {
          "base_uri": "https://localhost:8080/",
          "height": 34
        }
      },
      "source": [
        "h_last = np.zeros(M) # initial hidden state\n",
        "x = X[0] # the one and only sample\n",
        "Yhats = [] # where we store the outputs\n",
        "\n",
        "for t in range(T):\n",
        "  h = np.tanh(x[t].dot(Wx) + h_last.dot(Wh) + bh)\n",
        "  y = h.dot(Wo) + bo # we only care about this value on the last iteration\n",
        "  Yhats.append(y)\n",
        "  \n",
        "  # important: assign h to h_last\n",
        "  h_last = h\n",
        "\n",
        "# print the final output\n",
        "print(Yhats[-1])"
      ],
      "execution_count": null,
      "outputs": [
        {
          "output_type": "stream",
          "text": [
            "[-0.70623848  0.45167215]\n"
          ],
          "name": "stdout"
        }
      ]
    },
    {
      "cell_type": "code",
      "metadata": {
        "id": "s42pMfj1FvnX"
      },
      "source": [
        "# Bonus exercise: calculate the output for multiple samples at once (N > 1)"
      ],
      "execution_count": null,
      "outputs": []
    }
  ]
}