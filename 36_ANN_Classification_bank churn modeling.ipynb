{
 "cells": [
  {
   "cell_type": "markdown",
   "metadata": {
    "colab_type": "text",
    "id": "lP6JLo1tGNBg"
   },
   "source": [
    "# Artificial Neural Network"
   ]
  },
  {
   "cell_type": "markdown",
   "metadata": {
    "colab_type": "text",
    "id": "gWZyYmS_UE_L"
   },
   "source": [
    "### Importing the libraries"
   ]
  },
  {
   "cell_type": "code",
   "execution_count": 2,
   "metadata": {
    "colab": {},
    "colab_type": "code",
    "id": "MxkJoQBkUIHC"
   },
   "outputs": [],
   "source": [
    "import numpy as np\n",
    "import pandas as pd\n",
    "import matplotlib.pyplot as plt\n",
    "import tensorflow as tf"
   ]
  },
  {
   "cell_type": "code",
   "execution_count": 3,
   "metadata": {
    "colab": {
     "base_uri": "https://localhost:8080/",
     "height": 34
    },
    "colab_type": "code",
    "executionInfo": {
     "elapsed": 2787,
     "status": "ok",
     "timestamp": 1586428376540,
     "user": {
      "displayName": "Hadelin de Ponteves",
      "photoUrl": "https://lh3.googleusercontent.com/a-/AOh14GhEuXdT7eQweUmRPW8_laJuPggSK6hfvpl5a6WBaA=s64",
      "userId": "15047218817161520419"
     },
     "user_tz": -240
    },
    "id": "ZaTwK7ojXr2F",
    "outputId": "9991cc2b-cd5d-4e1e-c681-d32b9f4faa9a"
   },
   "outputs": [
    {
     "data": {
      "text/plain": [
       "'1.15.0'"
      ]
     },
     "execution_count": 3,
     "metadata": {},
     "output_type": "execute_result"
    }
   ],
   "source": [
    "tf.__version__"
   ]
  },
  {
   "cell_type": "markdown",
   "metadata": {
    "colab_type": "text",
    "id": "1E0Q3aoKUCRX"
   },
   "source": [
    "## Part 1 - Data Preprocessing"
   ]
  },
  {
   "cell_type": "markdown",
   "metadata": {
    "colab_type": "text",
    "id": "cKWAkFVGUU0Z"
   },
   "source": [
    "### Importing the dataset"
   ]
  },
  {
   "cell_type": "code",
   "execution_count": 5,
   "metadata": {
    "colab": {},
    "colab_type": "code",
    "id": "MXUkhkMfU4wq"
   },
   "outputs": [],
   "source": [
    "df = pd.read_csv('Churn_Modelling.csv')\n",
    "x = df.iloc[:, 3:-1].values #we have to delete columns \"RowNumber\", \"CustomerId\", and \"Surname\" because they don'tgive us any valuable information.\n",
    "y = df.iloc[:, -1].values"
   ]
  },
  {
   "cell_type": "code",
   "execution_count": 6,
   "metadata": {
    "colab": {
     "base_uri": "https://localhost:8080/",
     "height": 134
    },
    "colab_type": "code",
    "executionInfo": {
     "elapsed": 2782,
     "status": "ok",
     "timestamp": 1586428376541,
     "user": {
      "displayName": "Hadelin de Ponteves",
      "photoUrl": "https://lh3.googleusercontent.com/a-/AOh14GhEuXdT7eQweUmRPW8_laJuPggSK6hfvpl5a6WBaA=s64",
      "userId": "15047218817161520419"
     },
     "user_tz": -240
    },
    "id": "VYP9cQTWbzuI",
    "outputId": "38e3588f-f2e3-436b-bdc5-2967d495155c"
   },
   "outputs": [
    {
     "data": {
      "text/html": [
       "<div>\n",
       "<style scoped>\n",
       "    .dataframe tbody tr th:only-of-type {\n",
       "        vertical-align: middle;\n",
       "    }\n",
       "\n",
       "    .dataframe tbody tr th {\n",
       "        vertical-align: top;\n",
       "    }\n",
       "\n",
       "    .dataframe thead th {\n",
       "        text-align: right;\n",
       "    }\n",
       "</style>\n",
       "<table border=\"1\" class=\"dataframe\">\n",
       "  <thead>\n",
       "    <tr style=\"text-align: right;\">\n",
       "      <th></th>\n",
       "      <th>RowNumber</th>\n",
       "      <th>CustomerId</th>\n",
       "      <th>Surname</th>\n",
       "      <th>CreditScore</th>\n",
       "      <th>Geography</th>\n",
       "      <th>Gender</th>\n",
       "      <th>Age</th>\n",
       "      <th>Tenure</th>\n",
       "      <th>Balance</th>\n",
       "      <th>NumOfProducts</th>\n",
       "      <th>HasCrCard</th>\n",
       "      <th>IsActiveMember</th>\n",
       "      <th>EstimatedSalary</th>\n",
       "      <th>Exited</th>\n",
       "    </tr>\n",
       "  </thead>\n",
       "  <tbody>\n",
       "    <tr>\n",
       "      <th>0</th>\n",
       "      <td>1</td>\n",
       "      <td>15634602</td>\n",
       "      <td>Hargrave</td>\n",
       "      <td>619</td>\n",
       "      <td>France</td>\n",
       "      <td>Female</td>\n",
       "      <td>42</td>\n",
       "      <td>2</td>\n",
       "      <td>0.00</td>\n",
       "      <td>1</td>\n",
       "      <td>1</td>\n",
       "      <td>1</td>\n",
       "      <td>101348.88</td>\n",
       "      <td>1</td>\n",
       "    </tr>\n",
       "    <tr>\n",
       "      <th>1</th>\n",
       "      <td>2</td>\n",
       "      <td>15647311</td>\n",
       "      <td>Hill</td>\n",
       "      <td>608</td>\n",
       "      <td>Spain</td>\n",
       "      <td>Female</td>\n",
       "      <td>41</td>\n",
       "      <td>1</td>\n",
       "      <td>83807.86</td>\n",
       "      <td>1</td>\n",
       "      <td>0</td>\n",
       "      <td>1</td>\n",
       "      <td>112542.58</td>\n",
       "      <td>0</td>\n",
       "    </tr>\n",
       "    <tr>\n",
       "      <th>2</th>\n",
       "      <td>3</td>\n",
       "      <td>15619304</td>\n",
       "      <td>Onio</td>\n",
       "      <td>502</td>\n",
       "      <td>France</td>\n",
       "      <td>Female</td>\n",
       "      <td>42</td>\n",
       "      <td>8</td>\n",
       "      <td>159660.80</td>\n",
       "      <td>3</td>\n",
       "      <td>1</td>\n",
       "      <td>0</td>\n",
       "      <td>113931.57</td>\n",
       "      <td>1</td>\n",
       "    </tr>\n",
       "    <tr>\n",
       "      <th>3</th>\n",
       "      <td>4</td>\n",
       "      <td>15701354</td>\n",
       "      <td>Boni</td>\n",
       "      <td>699</td>\n",
       "      <td>France</td>\n",
       "      <td>Female</td>\n",
       "      <td>39</td>\n",
       "      <td>1</td>\n",
       "      <td>0.00</td>\n",
       "      <td>2</td>\n",
       "      <td>0</td>\n",
       "      <td>0</td>\n",
       "      <td>93826.63</td>\n",
       "      <td>0</td>\n",
       "    </tr>\n",
       "    <tr>\n",
       "      <th>4</th>\n",
       "      <td>5</td>\n",
       "      <td>15737888</td>\n",
       "      <td>Mitchell</td>\n",
       "      <td>850</td>\n",
       "      <td>Spain</td>\n",
       "      <td>Female</td>\n",
       "      <td>43</td>\n",
       "      <td>2</td>\n",
       "      <td>125510.82</td>\n",
       "      <td>1</td>\n",
       "      <td>1</td>\n",
       "      <td>1</td>\n",
       "      <td>79084.10</td>\n",
       "      <td>0</td>\n",
       "    </tr>\n",
       "    <tr>\n",
       "      <th>...</th>\n",
       "      <td>...</td>\n",
       "      <td>...</td>\n",
       "      <td>...</td>\n",
       "      <td>...</td>\n",
       "      <td>...</td>\n",
       "      <td>...</td>\n",
       "      <td>...</td>\n",
       "      <td>...</td>\n",
       "      <td>...</td>\n",
       "      <td>...</td>\n",
       "      <td>...</td>\n",
       "      <td>...</td>\n",
       "      <td>...</td>\n",
       "      <td>...</td>\n",
       "    </tr>\n",
       "    <tr>\n",
       "      <th>9995</th>\n",
       "      <td>9996</td>\n",
       "      <td>15606229</td>\n",
       "      <td>Obijiaku</td>\n",
       "      <td>771</td>\n",
       "      <td>France</td>\n",
       "      <td>Male</td>\n",
       "      <td>39</td>\n",
       "      <td>5</td>\n",
       "      <td>0.00</td>\n",
       "      <td>2</td>\n",
       "      <td>1</td>\n",
       "      <td>0</td>\n",
       "      <td>96270.64</td>\n",
       "      <td>0</td>\n",
       "    </tr>\n",
       "    <tr>\n",
       "      <th>9996</th>\n",
       "      <td>9997</td>\n",
       "      <td>15569892</td>\n",
       "      <td>Johnstone</td>\n",
       "      <td>516</td>\n",
       "      <td>France</td>\n",
       "      <td>Male</td>\n",
       "      <td>35</td>\n",
       "      <td>10</td>\n",
       "      <td>57369.61</td>\n",
       "      <td>1</td>\n",
       "      <td>1</td>\n",
       "      <td>1</td>\n",
       "      <td>101699.77</td>\n",
       "      <td>0</td>\n",
       "    </tr>\n",
       "    <tr>\n",
       "      <th>9997</th>\n",
       "      <td>9998</td>\n",
       "      <td>15584532</td>\n",
       "      <td>Liu</td>\n",
       "      <td>709</td>\n",
       "      <td>France</td>\n",
       "      <td>Female</td>\n",
       "      <td>36</td>\n",
       "      <td>7</td>\n",
       "      <td>0.00</td>\n",
       "      <td>1</td>\n",
       "      <td>0</td>\n",
       "      <td>1</td>\n",
       "      <td>42085.58</td>\n",
       "      <td>1</td>\n",
       "    </tr>\n",
       "    <tr>\n",
       "      <th>9998</th>\n",
       "      <td>9999</td>\n",
       "      <td>15682355</td>\n",
       "      <td>Sabbatini</td>\n",
       "      <td>772</td>\n",
       "      <td>Germany</td>\n",
       "      <td>Male</td>\n",
       "      <td>42</td>\n",
       "      <td>3</td>\n",
       "      <td>75075.31</td>\n",
       "      <td>2</td>\n",
       "      <td>1</td>\n",
       "      <td>0</td>\n",
       "      <td>92888.52</td>\n",
       "      <td>1</td>\n",
       "    </tr>\n",
       "    <tr>\n",
       "      <th>9999</th>\n",
       "      <td>10000</td>\n",
       "      <td>15628319</td>\n",
       "      <td>Walker</td>\n",
       "      <td>792</td>\n",
       "      <td>France</td>\n",
       "      <td>Female</td>\n",
       "      <td>28</td>\n",
       "      <td>4</td>\n",
       "      <td>130142.79</td>\n",
       "      <td>1</td>\n",
       "      <td>1</td>\n",
       "      <td>0</td>\n",
       "      <td>38190.78</td>\n",
       "      <td>0</td>\n",
       "    </tr>\n",
       "  </tbody>\n",
       "</table>\n",
       "<p>10000 rows × 14 columns</p>\n",
       "</div>"
      ],
      "text/plain": [
       "      RowNumber  CustomerId    Surname  CreditScore Geography  Gender  Age  \\\n",
       "0             1    15634602   Hargrave          619    France  Female   42   \n",
       "1             2    15647311       Hill          608     Spain  Female   41   \n",
       "2             3    15619304       Onio          502    France  Female   42   \n",
       "3             4    15701354       Boni          699    France  Female   39   \n",
       "4             5    15737888   Mitchell          850     Spain  Female   43   \n",
       "...         ...         ...        ...          ...       ...     ...  ...   \n",
       "9995       9996    15606229   Obijiaku          771    France    Male   39   \n",
       "9996       9997    15569892  Johnstone          516    France    Male   35   \n",
       "9997       9998    15584532        Liu          709    France  Female   36   \n",
       "9998       9999    15682355  Sabbatini          772   Germany    Male   42   \n",
       "9999      10000    15628319     Walker          792    France  Female   28   \n",
       "\n",
       "      Tenure    Balance  NumOfProducts  HasCrCard  IsActiveMember  \\\n",
       "0          2       0.00              1          1               1   \n",
       "1          1   83807.86              1          0               1   \n",
       "2          8  159660.80              3          1               0   \n",
       "3          1       0.00              2          0               0   \n",
       "4          2  125510.82              1          1               1   \n",
       "...      ...        ...            ...        ...             ...   \n",
       "9995       5       0.00              2          1               0   \n",
       "9996      10   57369.61              1          1               1   \n",
       "9997       7       0.00              1          0               1   \n",
       "9998       3   75075.31              2          1               0   \n",
       "9999       4  130142.79              1          1               0   \n",
       "\n",
       "      EstimatedSalary  Exited  \n",
       "0           101348.88       1  \n",
       "1           112542.58       0  \n",
       "2           113931.57       1  \n",
       "3            93826.63       0  \n",
       "4            79084.10       0  \n",
       "...               ...     ...  \n",
       "9995         96270.64       0  \n",
       "9996        101699.77       0  \n",
       "9997         42085.58       1  \n",
       "9998         92888.52       1  \n",
       "9999         38190.78       0  \n",
       "\n",
       "[10000 rows x 14 columns]"
      ]
     },
     "execution_count": 6,
     "metadata": {},
     "output_type": "execute_result"
    }
   ],
   "source": [
    "df"
   ]
  },
  {
   "cell_type": "code",
   "execution_count": 9,
   "metadata": {
    "colab": {
     "base_uri": "https://localhost:8080/",
     "height": 34
    },
    "colab_type": "code",
    "executionInfo": {
     "elapsed": 2780,
     "status": "ok",
     "timestamp": 1586428376541,
     "user": {
      "displayName": "Hadelin de Ponteves",
      "photoUrl": "https://lh3.googleusercontent.com/a-/AOh14GhEuXdT7eQweUmRPW8_laJuPggSK6hfvpl5a6WBaA=s64",
      "userId": "15047218817161520419"
     },
     "user_tz": -240
    },
    "id": "38vKGE6Nb2RR",
    "outputId": "2abeb945-135e-460f-99e9-9967abe198d1"
   },
   "outputs": [
    {
     "data": {
      "text/plain": [
       "array([[619, 'France', 'Female', ..., 1, 1, 101348.88],\n",
       "       [608, 'Spain', 'Female', ..., 0, 1, 112542.58],\n",
       "       [502, 'France', 'Female', ..., 1, 0, 113931.57],\n",
       "       ...,\n",
       "       [709, 'France', 'Female', ..., 0, 1, 42085.58],\n",
       "       [772, 'Germany', 'Male', ..., 1, 0, 92888.52],\n",
       "       [792, 'France', 'Female', ..., 1, 0, 38190.78]], dtype=object)"
      ]
     },
     "execution_count": 9,
     "metadata": {},
     "output_type": "execute_result"
    }
   ],
   "source": [
    "x"
   ]
  },
  {
   "cell_type": "code",
   "execution_count": 8,
   "metadata": {},
   "outputs": [
    {
     "data": {
      "text/plain": [
       "array([1, 0, 1, ..., 1, 1, 0], dtype=int64)"
      ]
     },
     "execution_count": 8,
     "metadata": {},
     "output_type": "execute_result"
    }
   ],
   "source": [
    "y"
   ]
  },
  {
   "cell_type": "markdown",
   "metadata": {
    "colab_type": "text",
    "id": "N6bQ0UgSU-NJ"
   },
   "source": [
    "### Encoding categorical data"
   ]
  },
  {
   "cell_type": "markdown",
   "metadata": {
    "colab_type": "text",
    "id": "le5MJreAbW52"
   },
   "source": [
    "Label Encoding the \"Gender\" column"
   ]
  },
  {
   "cell_type": "code",
   "execution_count": null,
   "metadata": {
    "colab": {},
    "colab_type": "code",
    "id": "PxVKWXxLbczC"
   },
   "outputs": [],
   "source": [
    "#NOTE! There is no missing data, so we head over to \"data encoding\"."
   ]
  },
  {
   "cell_type": "code",
   "execution_count": 11,
   "metadata": {
    "colab": {
     "base_uri": "https://localhost:8080/",
     "height": 134
    },
    "colab_type": "code",
    "executionInfo": {
     "elapsed": 2775,
     "status": "ok",
     "timestamp": 1586428376542,
     "user": {
      "displayName": "Hadelin de Ponteves",
      "photoUrl": "https://lh3.googleusercontent.com/a-/AOh14GhEuXdT7eQweUmRPW8_laJuPggSK6hfvpl5a6WBaA=s64",
      "userId": "15047218817161520419"
     },
     "user_tz": -240
    },
    "id": "-M1KboxFb6OO",
    "outputId": "c7b742e2-7afb-4fb9-c6b4-ffeb3c4812f1"
   },
   "outputs": [],
   "source": [
    "from sklearn.preprocessing import LabelEncoder\n",
    "\n",
    "le = LabelEncoder()\n",
    "x[:, 2] = le.fit_transform(x[:, 2])"
   ]
  },
  {
   "cell_type": "code",
   "execution_count": 12,
   "metadata": {},
   "outputs": [
    {
     "data": {
      "text/plain": [
       "array([[619, 'France', 0, ..., 1, 1, 101348.88],\n",
       "       [608, 'Spain', 0, ..., 0, 1, 112542.58],\n",
       "       [502, 'France', 0, ..., 1, 0, 113931.57],\n",
       "       ...,\n",
       "       [709, 'France', 0, ..., 0, 1, 42085.58],\n",
       "       [772, 'Germany', 1, ..., 1, 0, 92888.52],\n",
       "       [792, 'France', 0, ..., 1, 0, 38190.78]], dtype=object)"
      ]
     },
     "execution_count": 12,
     "metadata": {},
     "output_type": "execute_result"
    }
   ],
   "source": [
    "x"
   ]
  },
  {
   "cell_type": "markdown",
   "metadata": {
    "colab_type": "text",
    "id": "CUxGZezpbMcb"
   },
   "source": [
    "One Hot Encoding the \"Geography\" column"
   ]
  },
  {
   "cell_type": "code",
   "execution_count": null,
   "metadata": {
    "colab": {},
    "colab_type": "code",
    "id": "AMXC8-KMVirw"
   },
   "outputs": [],
   "source": [
    "#We have to one-hot encoding (NOT label encoding) because there is no ordered relationship between \"spain\", \"france\", ..."
   ]
  },
  {
   "cell_type": "code",
   "execution_count": 16,
   "metadata": {
    "colab": {
     "base_uri": "https://localhost:8080/",
     "height": 134
    },
    "colab_type": "code",
    "executionInfo": {
     "elapsed": 2768,
     "status": "ok",
     "timestamp": 1586428376543,
     "user": {
      "displayName": "Hadelin de Ponteves",
      "photoUrl": "https://lh3.googleusercontent.com/a-/AOh14GhEuXdT7eQweUmRPW8_laJuPggSK6hfvpl5a6WBaA=s64",
      "userId": "15047218817161520419"
     },
     "user_tz": -240
    },
    "id": "ZcxwEon-b8nV",
    "outputId": "9c88c069-f799-4e3b-be4b-24d8e17611fd"
   },
   "outputs": [],
   "source": [
    "from sklearn.compose import ColumnTransformer\n",
    "from sklearn.preprocessing import OneHotEncoder\n",
    "\n",
    "ct = ColumnTransformer(transformers = [('encoder', OneHotEncoder(), [1])], remainder = 'passthrough')\n",
    "x = np.array(ct.fit_transform(x))"
   ]
  },
  {
   "cell_type": "code",
   "execution_count": 17,
   "metadata": {},
   "outputs": [
    {
     "data": {
      "text/plain": [
       "array([[1.0, 0.0, 0.0, ..., 1, 1, 101348.88],\n",
       "       [0.0, 0.0, 1.0, ..., 0, 1, 112542.58],\n",
       "       [1.0, 0.0, 0.0, ..., 1, 0, 113931.57],\n",
       "       ...,\n",
       "       [1.0, 0.0, 0.0, ..., 0, 1, 42085.58],\n",
       "       [0.0, 1.0, 0.0, ..., 1, 0, 92888.52],\n",
       "       [1.0, 0.0, 0.0, ..., 1, 0, 38190.78]], dtype=object)"
      ]
     },
     "execution_count": 17,
     "metadata": {},
     "output_type": "execute_result"
    }
   ],
   "source": [
    "x"
   ]
  },
  {
   "cell_type": "markdown",
   "metadata": {
    "colab_type": "text",
    "id": "vHol938cW8zd"
   },
   "source": [
    "### Splitting the dataset into the Training set and Test set"
   ]
  },
  {
   "cell_type": "code",
   "execution_count": 23,
   "metadata": {
    "colab": {},
    "colab_type": "code",
    "id": "Z-TDt0Y_XEfc"
   },
   "outputs": [],
   "source": [
    "from sklearn.model_selection import train_test_split\n",
    "\n",
    "x_train, x_test, y_train, y_test = train_test_split(x, y, test_size = 0.2, random_state = 0)"
   ]
  },
  {
   "cell_type": "code",
   "execution_count": 24,
   "metadata": {},
   "outputs": [],
   "source": [
    "# x.shape\n",
    "# x_train.shape"
   ]
  },
  {
   "cell_type": "markdown",
   "metadata": {},
   "source": [
    "### Feature Scaling"
   ]
  },
  {
   "cell_type": "code",
   "execution_count": null,
   "metadata": {},
   "outputs": [],
   "source": [
    "#NOTE! Feature scaling is COMULSORY for deep learning! so we have to do them in ANN problems. And it is so essential that we apply it to all the columns."
   ]
  },
  {
   "cell_type": "code",
   "execution_count": 25,
   "metadata": {},
   "outputs": [],
   "source": [
    "from sklearn.preprocessing import StandardScaler\n",
    "\n",
    "sc = StandardScaler() #we don't have to put any arguments\n",
    "x_train = sc.fit_transform(x_train) #since we want to apply it to all the columns, we write \"x\" (NOT x[...]).\n",
    "x_test = sc.transform(x_test) # ~ "
   ]
  },
  {
   "cell_type": "markdown",
   "metadata": {
    "colab_type": "text",
    "id": "-zfEzkRVXIwF"
   },
   "source": [
    "## Part 2 - Building the ANN"
   ]
  },
  {
   "cell_type": "markdown",
   "metadata": {
    "colab_type": "text",
    "id": "KvdeScabXtlB"
   },
   "source": [
    "### Initializing the ANN"
   ]
  },
  {
   "cell_type": "code",
   "execution_count": 27,
   "metadata": {
    "colab": {},
    "colab_type": "code",
    "id": "3dtrScHxXQox"
   },
   "outputs": [],
   "source": [
    "#Using tensorflow for \"Sequential\" model.\n",
    "\n",
    "from tensorflow.keras.models import Sequential\n",
    "\n",
    "ann = Sequential()"
   ]
  },
  {
   "cell_type": "markdown",
   "metadata": {
    "colab_type": "text",
    "id": "rP6urV6SX7kS"
   },
   "source": [
    "### Adding the input layer and the first hidden layer"
   ]
  },
  {
   "cell_type": "code",
   "execution_count": 30,
   "metadata": {
    "colab": {},
    "colab_type": "code",
    "id": "bppGycBXYCQr"
   },
   "outputs": [],
   "source": [
    "#Using the \"Dense\" class in tensorflow.\n",
    "\n",
    "from tensorflow.keras.layers import Dense\n",
    "\n",
    "ann.add(Dense(units = 6, activation = 'relu')) #Choosing the right number of \"units\" for the \"Dense\" layer is a work of an artist! Meaning, it is choosed only be experience, and NOT by a rule of thumb!\n",
    "#activation = 'relu': rect function"
   ]
  },
  {
   "cell_type": "markdown",
   "metadata": {
    "colab_type": "text",
    "id": "BELWAc_8YJze"
   },
   "source": [
    "### Adding the second hidden layer"
   ]
  },
  {
   "cell_type": "code",
   "execution_count": 31,
   "metadata": {
    "colab": {},
    "colab_type": "code",
    "id": "JneR0u0sYRTd"
   },
   "outputs": [],
   "source": [
    "ann.add(Dense(units = 6, activation = 'relu'))"
   ]
  },
  {
   "cell_type": "markdown",
   "metadata": {
    "colab_type": "text",
    "id": "OyNEe6RXYcU4"
   },
   "source": [
    "### Adding the output layer"
   ]
  },
  {
   "cell_type": "code",
   "execution_count": 32,
   "metadata": {
    "colab": {},
    "colab_type": "code",
    "id": "Cn3x41RBYfvY"
   },
   "outputs": [],
   "source": [
    "ann.add(Dense(units = 1, activation = 'sigmoid')) #units = 1: because we have binary outcome! If it was a 3-class output in the dataset (like: A, B, C), then we had to do \"one-hot encoding\" in the \"encoding\" section, and then choose \"units = 3\"! Since the one-hot encoded version in here becomes (100, 010, 001).\n",
    "#activation = 'sigmoid': WE HAVE TO ALWAYS USE THIS FOR BINARY OUTCOME! If the outcome was not binary, WE HAD TO CHOOSE \"softmax\" function."
   ]
  },
  {
   "cell_type": "markdown",
   "metadata": {
    "colab_type": "text",
    "id": "JT4u2S1_Y4WG"
   },
   "source": [
    "## Training the ANN"
   ]
  },
  {
   "cell_type": "markdown",
   "metadata": {
    "colab_type": "text",
    "id": "8GWlJChhY_ZI"
   },
   "source": [
    "### Compiling the ANN"
   ]
  },
  {
   "cell_type": "code",
   "execution_count": 33,
   "metadata": {
    "colab": {},
    "colab_type": "code",
    "id": "fG3RrwDXZEaS"
   },
   "outputs": [],
   "source": [
    "ann.compile(optimizer = 'Adam', loss = 'binary_crossentropy', metrics = ['accuracy']) #optimizer = 'Adam': does \"Stocastic Gradient Descent\"!\n",
    "#loss = 'binary_crossentropy': WE HAVE TO ALWAYS USE THIS FOR BINARY OUTCOMES! If the outcome was not binary, WE HAD TO CHOOSE \"categorical_crossentropy\"."
   ]
  },
  {
   "cell_type": "markdown",
   "metadata": {
    "colab_type": "text",
    "id": "0QR_G5u7ZLSM"
   },
   "source": [
    "### Training the ANN on the Training set"
   ]
  },
  {
   "cell_type": "code",
   "execution_count": 34,
   "metadata": {
    "colab": {
     "base_uri": "https://localhost:8080/",
     "height": 1000
    },
    "colab_type": "code",
    "executionInfo": {
     "elapsed": 31750,
     "status": "ok",
     "timestamp": 1586428405580,
     "user": {
      "displayName": "Hadelin de Ponteves",
      "photoUrl": "https://lh3.googleusercontent.com/a-/AOh14GhEuXdT7eQweUmRPW8_laJuPggSK6hfvpl5a6WBaA=s64",
      "userId": "15047218817161520419"
     },
     "user_tz": -240
    },
    "id": "nHZ-LKv_ZRb3",
    "outputId": "6a90f176-803d-4b03-e65f-c05bda6f519c",
    "scrolled": true
   },
   "outputs": [
    {
     "name": "stdout",
     "output_type": "stream",
     "text": [
      "WARNING:tensorflow:From c:\\users\\nasa\\anaconda3\\envs\\mytfenv\\lib\\site-packages\\tensorflow_core\\python\\ops\\resource_variable_ops.py:1630: calling BaseResourceVariable.__init__ (from tensorflow.python.ops.resource_variable_ops) with constraint is deprecated and will be removed in a future version.\n",
      "Instructions for updating:\n",
      "If using Keras pass *_constraint arguments to layers.\n",
      "WARNING:tensorflow:From c:\\users\\nasa\\anaconda3\\envs\\mytfenv\\lib\\site-packages\\tensorflow_core\\python\\ops\\nn_impl.py:183: where (from tensorflow.python.ops.array_ops) is deprecated and will be removed in a future version.\n",
      "Instructions for updating:\n",
      "Use tf.where in 2.0, which has the same broadcast rule as np.where\n",
      "Train on 8000 samples\n",
      "Epoch 1/100\n",
      "8000/8000 [==============================] - 1s 68us/sample - loss: 0.7039 - acc: 0.5491\n",
      "Epoch 2/100\n",
      "8000/8000 [==============================] - 0s 54us/sample - loss: 0.4834 - acc: 0.7965\n",
      "Epoch 3/100\n",
      "8000/8000 [==============================] - 0s 58us/sample - loss: 0.4444 - acc: 0.8018\n",
      "Epoch 4/100\n",
      "8000/8000 [==============================] - 0s 55us/sample - loss: 0.4285 - acc: 0.8044\n",
      "Epoch 5/100\n",
      "8000/8000 [==============================] - 1s 72us/sample - loss: 0.4200 - acc: 0.8073\n",
      "Epoch 6/100\n",
      "8000/8000 [==============================] - 0s 45us/sample - loss: 0.4138 - acc: 0.8098\n",
      "Epoch 7/100\n",
      "8000/8000 [==============================] - 0s 48us/sample - loss: 0.4072 - acc: 0.8123\n",
      "Epoch 8/100\n",
      "8000/8000 [==============================] - 0s 50us/sample - loss: 0.4004 - acc: 0.8138\n",
      "Epoch 9/100\n",
      "8000/8000 [==============================] - 0s 59us/sample - loss: 0.3910 - acc: 0.8195\n",
      "Epoch 10/100\n",
      "8000/8000 [==============================] - 0s 52us/sample - loss: 0.3801 - acc: 0.8325\n",
      "Epoch 11/100\n",
      "8000/8000 [==============================] - 0s 57us/sample - loss: 0.3697 - acc: 0.8501\n",
      "Epoch 12/100\n",
      "8000/8000 [==============================] - 1s 69us/sample - loss: 0.3613 - acc: 0.8555\n",
      "Epoch 13/100\n",
      "8000/8000 [==============================] - 0s 43us/sample - loss: 0.3557 - acc: 0.8570\n",
      "Epoch 14/100\n",
      "8000/8000 [==============================] - 0s 40us/sample - loss: 0.3521 - acc: 0.8583\n",
      "Epoch 15/100\n",
      "8000/8000 [==============================] - 0s 40us/sample - loss: 0.3495 - acc: 0.8581\n",
      "Epoch 16/100\n",
      "8000/8000 [==============================] - 0s 61us/sample - loss: 0.3481 - acc: 0.8590\n",
      "Epoch 17/100\n",
      "8000/8000 [==============================] - 0s 47us/sample - loss: 0.3470 - acc: 0.8601\n",
      "Epoch 18/100\n",
      "8000/8000 [==============================] - 0s 47us/sample - loss: 0.3460 - acc: 0.8602\n",
      "Epoch 19/100\n",
      "8000/8000 [==============================] - 0s 46us/sample - loss: 0.3454 - acc: 0.8605\n",
      "Epoch 20/100\n",
      "8000/8000 [==============================] - 0s 40us/sample - loss: 0.3447 - acc: 0.8604\n",
      "Epoch 21/100\n",
      "8000/8000 [==============================] - 0s 49us/sample - loss: 0.3437 - acc: 0.8602\n",
      "Epoch 22/100\n",
      "8000/8000 [==============================] - 1s 81us/sample - loss: 0.3432 - acc: 0.8614\n",
      "Epoch 23/100\n",
      "8000/8000 [==============================] - 1s 70us/sample - loss: 0.3428 - acc: 0.8619\n",
      "Epoch 24/100\n",
      "8000/8000 [==============================] - 0s 46us/sample - loss: 0.3424 - acc: 0.8611\n",
      "Epoch 25/100\n",
      "8000/8000 [==============================] - 0s 44us/sample - loss: 0.3421 - acc: 0.8600\n",
      "Epoch 26/100\n",
      "8000/8000 [==============================] - 0s 46us/sample - loss: 0.3419 - acc: 0.8602\n",
      "Epoch 27/100\n",
      "8000/8000 [==============================] - 0s 53us/sample - loss: 0.3414 - acc: 0.8618\n",
      "Epoch 28/100\n",
      "8000/8000 [==============================] - 0s 58us/sample - loss: 0.3411 - acc: 0.8621\n",
      "Epoch 29/100\n",
      "8000/8000 [==============================] - 0s 50us/sample - loss: 0.3409 - acc: 0.8625\n",
      "Epoch 30/100\n",
      "8000/8000 [==============================] - 0s 51us/sample - loss: 0.3406 - acc: 0.8621\n",
      "Epoch 31/100\n",
      "8000/8000 [==============================] - 1s 67us/sample - loss: 0.3404 - acc: 0.8643\n",
      "Epoch 32/100\n",
      "8000/8000 [==============================] - 1s 84us/sample - loss: 0.3400 - acc: 0.8627\n",
      "Epoch 33/100\n",
      "8000/8000 [==============================] - 1s 70us/sample - loss: 0.3402 - acc: 0.8633\n",
      "Epoch 34/100\n",
      "8000/8000 [==============================] - 0s 48us/sample - loss: 0.3397 - acc: 0.8631\n",
      "Epoch 35/100\n",
      "8000/8000 [==============================] - 0s 58us/sample - loss: 0.3396 - acc: 0.8630\n",
      "Epoch 36/100\n",
      "8000/8000 [==============================] - 1s 68us/sample - loss: 0.3396 - acc: 0.8640\n",
      "Epoch 37/100\n",
      "8000/8000 [==============================] - 1s 75us/sample - loss: 0.3392 - acc: 0.8644\n",
      "Epoch 38/100\n",
      "8000/8000 [==============================] - 1s 66us/sample - loss: 0.3390 - acc: 0.8643\n",
      "Epoch 39/100\n",
      "8000/8000 [==============================] - 1s 82us/sample - loss: 0.3391 - acc: 0.8645\n",
      "Epoch 40/100\n",
      "8000/8000 [==============================] - 1s 83us/sample - loss: 0.3390 - acc: 0.8637\n",
      "Epoch 41/100\n",
      "8000/8000 [==============================] - 1s 79us/sample - loss: 0.3389 - acc: 0.8643\n",
      "Epoch 42/100\n",
      "8000/8000 [==============================] - 1s 74us/sample - loss: 0.3389 - acc: 0.8643\n",
      "Epoch 43/100\n",
      "8000/8000 [==============================] - 0s 49us/sample - loss: 0.3387 - acc: 0.8636\n",
      "Epoch 44/100\n",
      "8000/8000 [==============================] - 0s 51us/sample - loss: 0.3386 - acc: 0.8640\n",
      "Epoch 45/100\n",
      "8000/8000 [==============================] - 0s 61us/sample - loss: 0.3388 - acc: 0.8641\n",
      "Epoch 46/100\n",
      "8000/8000 [==============================] - 1s 66us/sample - loss: 0.3384 - acc: 0.8644\n",
      "Epoch 47/100\n",
      "8000/8000 [==============================] - 1s 65us/sample - loss: 0.3384 - acc: 0.8649\n",
      "Epoch 48/100\n",
      "8000/8000 [==============================] - 0s 51us/sample - loss: 0.3383 - acc: 0.8652\n",
      "Epoch 49/100\n",
      "8000/8000 [==============================] - 0s 51us/sample - loss: 0.3382 - acc: 0.8637\n",
      "Epoch 50/100\n",
      "8000/8000 [==============================] - 0s 55us/sample - loss: 0.3378 - acc: 0.8646\n",
      "Epoch 51/100\n",
      "8000/8000 [==============================] - 1s 81us/sample - loss: 0.3382 - acc: 0.8641\n",
      "Epoch 52/100\n",
      "8000/8000 [==============================] - 1s 77us/sample - loss: 0.3379 - acc: 0.8636\n",
      "Epoch 53/100\n",
      "8000/8000 [==============================] - 1s 74us/sample - loss: 0.3381 - acc: 0.8640\n",
      "Epoch 54/100\n",
      "8000/8000 [==============================] - 0s 53us/sample - loss: 0.3377 - acc: 0.8639\n",
      "Epoch 55/100\n",
      "8000/8000 [==============================] - 0s 46us/sample - loss: 0.3378 - acc: 0.8637\n",
      "Epoch 56/100\n",
      "8000/8000 [==============================] - 0s 45us/sample - loss: 0.3375 - acc: 0.8637\n",
      "Epoch 57/100\n",
      "8000/8000 [==============================] - 0s 61us/sample - loss: 0.3378 - acc: 0.8633\n",
      "Epoch 58/100\n",
      "8000/8000 [==============================] - 0s 60us/sample - loss: 0.3374 - acc: 0.8639\n",
      "Epoch 59/100\n",
      "8000/8000 [==============================] - 0s 61us/sample - loss: 0.3374 - acc: 0.8641\n",
      "Epoch 60/100\n",
      "8000/8000 [==============================] - 1s 63us/sample - loss: 0.3372 - acc: 0.8634\n",
      "Epoch 61/100\n",
      "8000/8000 [==============================] - 0s 49us/sample - loss: 0.3373 - acc: 0.8652\n",
      "Epoch 62/100\n",
      "8000/8000 [==============================] - 0s 58us/sample - loss: 0.3374 - acc: 0.8631\n",
      "Epoch 63/100\n",
      "8000/8000 [==============================] - 0s 51us/sample - loss: 0.3373 - acc: 0.8640\n",
      "Epoch 64/100\n",
      "8000/8000 [==============================] - 1s 66us/sample - loss: 0.3374 - acc: 0.8631\n",
      "Epoch 65/100\n",
      "8000/8000 [==============================] - 1s 78us/sample - loss: 0.3369 - acc: 0.8641\n",
      "Epoch 66/100\n",
      "8000/8000 [==============================] - 1s 73us/sample - loss: 0.3370 - acc: 0.8645\n",
      "Epoch 67/100\n",
      "8000/8000 [==============================] - 1s 77us/sample - loss: 0.3372 - acc: 0.8645\n",
      "Epoch 68/100\n",
      "8000/8000 [==============================] - 0s 51us/sample - loss: 0.3372 - acc: 0.8640\n",
      "Epoch 69/100\n",
      "8000/8000 [==============================] - 0s 46us/sample - loss: 0.3368 - acc: 0.8636\n",
      "Epoch 70/100\n",
      "8000/8000 [==============================] - 0s 44us/sample - loss: 0.3370 - acc: 0.8646\n",
      "Epoch 71/100\n",
      "8000/8000 [==============================] - 0s 44us/sample - loss: 0.3369 - acc: 0.8643\n",
      "Epoch 72/100\n",
      "8000/8000 [==============================] - 0s 57us/sample - loss: 0.3369 - acc: 0.8645\n",
      "Epoch 73/100\n",
      "8000/8000 [==============================] - 0s 51us/sample - loss: 0.3368 - acc: 0.8639\n",
      "Epoch 74/100\n"
     ]
    },
    {
     "name": "stdout",
     "output_type": "stream",
     "text": [
      "8000/8000 [==============================] - 0s 52us/sample - loss: 0.3368 - acc: 0.8635\n",
      "Epoch 75/100\n",
      "8000/8000 [==============================] - 0s 46us/sample - loss: 0.3365 - acc: 0.8631\n",
      "Epoch 76/100\n",
      "8000/8000 [==============================] - 0s 42us/sample - loss: 0.3371 - acc: 0.8631\n",
      "Epoch 77/100\n",
      "8000/8000 [==============================] - 0s 43us/sample - loss: 0.3366 - acc: 0.8627\n",
      "Epoch 78/100\n",
      "8000/8000 [==============================] - 0s 43us/sample - loss: 0.3362 - acc: 0.8636\n",
      "Epoch 79/100\n",
      "8000/8000 [==============================] - 0s 45us/sample - loss: 0.3366 - acc: 0.8654\n",
      "Epoch 80/100\n",
      "8000/8000 [==============================] - 0s 42us/sample - loss: 0.3368 - acc: 0.8631\n",
      "Epoch 81/100\n",
      "8000/8000 [==============================] - 0s 48us/sample - loss: 0.3364 - acc: 0.8639\n",
      "Epoch 82/100\n",
      "8000/8000 [==============================] - 1s 76us/sample - loss: 0.3362 - acc: 0.8641\n",
      "Epoch 83/100\n",
      "8000/8000 [==============================] - 0s 39us/sample - loss: 0.3362 - acc: 0.8656\n",
      "Epoch 84/100\n",
      "8000/8000 [==============================] - 0s 37us/sample - loss: 0.3361 - acc: 0.8655\n",
      "Epoch 85/100\n",
      "8000/8000 [==============================] - 0s 59us/sample - loss: 0.3361 - acc: 0.8645\n",
      "Epoch 86/100\n",
      "8000/8000 [==============================] - 0s 44us/sample - loss: 0.3362 - acc: 0.8643\n",
      "Epoch 87/100\n",
      "8000/8000 [==============================] - 0s 43us/sample - loss: 0.3359 - acc: 0.8646\n",
      "Epoch 88/100\n",
      "8000/8000 [==============================] - 0s 61us/sample - loss: 0.3359 - acc: 0.8648\n",
      "Epoch 89/100\n",
      "8000/8000 [==============================] - 1s 64us/sample - loss: 0.3359 - acc: 0.8643\n",
      "Epoch 90/100\n",
      "8000/8000 [==============================] - 0s 53us/sample - loss: 0.3358 - acc: 0.8636\n",
      "Epoch 91/100\n",
      "8000/8000 [==============================] - 1s 74us/sample - loss: 0.3357 - acc: 0.8639\n",
      "Epoch 92/100\n",
      "8000/8000 [==============================] - 0s 53us/sample - loss: 0.3357 - acc: 0.8645\n",
      "Epoch 93/100\n",
      "8000/8000 [==============================] - 0s 43us/sample - loss: 0.3358 - acc: 0.8630\n",
      "Epoch 94/100\n",
      "8000/8000 [==============================] - 0s 43us/sample - loss: 0.3355 - acc: 0.8633\n",
      "Epoch 95/100\n",
      "8000/8000 [==============================] - 0s 52us/sample - loss: 0.3356 - acc: 0.8634\n",
      "Epoch 96/100\n",
      "8000/8000 [==============================] - 0s 41us/sample - loss: 0.3355 - acc: 0.8635\n",
      "Epoch 97/100\n",
      "8000/8000 [==============================] - 0s 51us/sample - loss: 0.3354 - acc: 0.8646\n",
      "Epoch 98/100\n",
      "8000/8000 [==============================] - 0s 44us/sample - loss: 0.3354 - acc: 0.8643\n",
      "Epoch 99/100\n",
      "8000/8000 [==============================] - 0s 43us/sample - loss: 0.3349 - acc: 0.8639\n",
      "Epoch 100/100\n",
      "8000/8000 [==============================] - 1s 70us/sample - loss: 0.3352 - acc: 0.8635\n"
     ]
    },
    {
     "data": {
      "text/plain": [
       "<tensorflow.python.keras.callbacks.History at 0x183f4434408>"
      ]
     },
     "execution_count": 34,
     "metadata": {},
     "output_type": "execute_result"
    }
   ],
   "source": [
    "ann.fit(x_train, y_train, batch_size = 32, epochs = 100) #ALWAYS fit :DDD   \n",
    "#batch_size = 32: for optimizing the performance of the model. \"32\" is the usual classic value."
   ]
  },
  {
   "cell_type": "markdown",
   "metadata": {
    "colab_type": "text",
    "id": "tJj5k2MxZga3"
   },
   "source": [
    "## Part 4 - Making the predictions and evaluating the model"
   ]
  },
  {
   "cell_type": "markdown",
   "metadata": {},
   "source": [
    "### Predicting the result of a single observation"
   ]
  },
  {
   "cell_type": "markdown",
   "metadata": {},
   "source": [
    "#### Homework:\n",
    "\n",
    "Using the above ANN model to predict if the costumer with the following informations will leave the bank:\n",
    "\n",
    "Geography: France\n",
    "\n",
    "Credit Score: 600\n",
    "\n",
    "Gender: Male\n",
    "\n",
    "Age: 40 years old\n",
    "\n",
    "Tenure: 3 years\n",
    "\n",
    "Balance: $ 60000\n",
    "\n",
    "Number of Products: 2\n",
    "\n",
    "Does this costumer have a credit card? Yes\n",
    "\n",
    "Is this costumer an Active Member?Yes\n",
    "\n",
    "Estimated Salary: $ 50000\n",
    "\n",
    "So, should we say goodbye to that costumer?"
   ]
  },
  {
   "cell_type": "markdown",
   "metadata": {},
   "source": [
    "#### Solution:"
   ]
  },
  {
   "cell_type": "code",
   "execution_count": 36,
   "metadata": {},
   "outputs": [
    {
     "data": {
      "text/plain": [
       "array([[0.02934031]], dtype=float32)"
      ]
     },
     "execution_count": 36,
     "metadata": {},
     "output_type": "execute_result"
    }
   ],
   "source": [
    "ann.predict(sc.transform([[1, 0, 0, 600, 1, 40, 3, 60000, 2, 1, 1, 50000]]))"
   ]
  },
  {
   "cell_type": "code",
   "execution_count": 40,
   "metadata": {},
   "outputs": [
    {
     "data": {
      "text/plain": [
       "array([[False]])"
      ]
     },
     "execution_count": 40,
     "metadata": {},
     "output_type": "execute_result"
    }
   ],
   "source": [
    "#As we see above, the outcome is in the form of probability (LOG! Since we used the \"sigmoid\" function in the output layer, which returns the probability).\n",
    "#Thus, we change the above probability to the real output \"1\" or \"0\" by \" > 0.5\"! (as the threshold probability) \n",
    "\n",
    "ann.predict(sc.transform([[1, 0, 0, 600, 1, 40, 3, 60000, 2, 1, 1, 50000]])) > 0.5"
   ]
  },
  {
   "cell_type": "markdown",
   "metadata": {},
   "source": [
    "Therefore, our ANN model predicts that this costumer stays in the bank!\n",
    "\n",
    "<h4>Important Note 1:</h4> Any input of the \".predict()\" method is a 2D array. Therefore, we should use two brackets \"[[ ]]\" to indicate that.\n",
    "\n",
    "<h4>Important Note 2:</h4> Be aware to use the \"sc.transform()\"."
   ]
  },
  {
   "cell_type": "markdown",
   "metadata": {
    "colab_type": "text",
    "id": "u7yx47jPZt11"
   },
   "source": [
    "### Predicting the Test set results"
   ]
  },
  {
   "cell_type": "code",
   "execution_count": 42,
   "metadata": {
    "colab": {
     "base_uri": "https://localhost:8080/",
     "height": 134
    },
    "colab_type": "code",
    "executionInfo": {
     "elapsed": 31748,
     "status": "ok",
     "timestamp": 1586428405581,
     "user": {
      "displayName": "Hadelin de Ponteves",
      "photoUrl": "https://lh3.googleusercontent.com/a-/AOh14GhEuXdT7eQweUmRPW8_laJuPggSK6hfvpl5a6WBaA=s64",
      "userId": "15047218817161520419"
     },
     "user_tz": -240
    },
    "id": "nIyEeQdRZwgs",
    "outputId": "a0f4d9ad-9a29-41dc-b101-9e7216d74dc0"
   },
   "outputs": [
    {
     "name": "stdout",
     "output_type": "stream",
     "text": [
      "[[0 0]\n",
      " [0 1]\n",
      " [0 0]\n",
      " ...\n",
      " [0 0]\n",
      " [0 0]\n",
      " [0 0]]\n"
     ]
    }
   ],
   "source": [
    "y_pred = ann.predict(x_test)\n",
    "y_pred = (y_pred > 0.5)\n",
    "print(np.concatenate((y_pred.reshape(len(y_pred), 1), y_test.reshape(len(y_test), 1)), axis = 1))"
   ]
  },
  {
   "cell_type": "markdown",
   "metadata": {
    "colab_type": "text",
    "id": "o0oyfLWoaEGw"
   },
   "source": [
    "### Making the Confusion Matrix"
   ]
  },
  {
   "cell_type": "code",
   "execution_count": 44,
   "metadata": {
    "colab": {
     "base_uri": "https://localhost:8080/",
     "height": 50
    },
    "colab_type": "code",
    "executionInfo": {
     "elapsed": 31746,
     "status": "ok",
     "timestamp": 1586428405581,
     "user": {
      "displayName": "Hadelin de Ponteves",
      "photoUrl": "https://lh3.googleusercontent.com/a-/AOh14GhEuXdT7eQweUmRPW8_laJuPggSK6hfvpl5a6WBaA=s64",
      "userId": "15047218817161520419"
     },
     "user_tz": -240
    },
    "id": "ci6K_r6LaF6P",
    "outputId": "09bd315f-7091-457f-b222-ce3998de57a5"
   },
   "outputs": [
    {
     "name": "stdout",
     "output_type": "stream",
     "text": [
      "[[1516   79]\n",
      " [ 199  206]]\n",
      "0.861\n"
     ]
    }
   ],
   "source": [
    "from sklearn.metrics import accuracy_score, confusion_matrix\n",
    "\n",
    "cm = confusion_matrix(y_test, y_pred)\n",
    "ac = accuracy_score(y_test, y_pred)\n",
    "\n",
    "print(cm)\n",
    "print(ac)"
   ]
  },
  {
   "cell_type": "code",
   "execution_count": null,
   "metadata": {},
   "outputs": [],
   "source": []
  }
 ],
 "metadata": {
  "colab": {
   "authorship_tag": "ABX9TyMwbl0jJoa05wuIU59y39H3",
   "collapsed_sections": [],
   "name": "Artificial Neural Network",
   "provenance": []
  },
  "kernelspec": {
   "display_name": "Python 3",
   "language": "python",
   "name": "python3"
  },
  "language_info": {
   "codemirror_mode": {
    "name": "ipython",
    "version": 3
   },
   "file_extension": ".py",
   "mimetype": "text/x-python",
   "name": "python",
   "nbconvert_exporter": "python",
   "pygments_lexer": "ipython3",
   "version": "3.7.7"
  }
 },
 "nbformat": 4,
 "nbformat_minor": 1
}
